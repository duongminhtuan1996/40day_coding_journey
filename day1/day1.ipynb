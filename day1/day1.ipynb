{
 "cells": [
  {
   "cell_type": "markdown",
   "metadata": {},
   "source": [
    "<h2>Bài tập:Tính Can chi - Làm quen với lệnh if/else:</h2><br>\n",
    "Can(Thien canh):Canh, Tân, Nhâm, Quý, Giáp, Ất, Bính, Đinh, Mậu, Kỳ<br>\n",
    "Chi(Địa chi): Thân, Dậu, Tuất, Hợi, Tý, Sửu, Dần, Mão, Thìn, Tỵ, Ngọ, Mùi\n"
   ]
  },
  {
   "cell_type": "code",
   "execution_count": 1,
   "metadata": {},
   "outputs": [],
   "source": [
    "def calculate_can_chi_calendar(year):\n",
    "    result = ''\n",
    "    #calculate can\n",
    "    can = year%10\n",
    "    if can == 0 : can = 'Canh'\n",
    "    elif can == 1: can = 'Tân'\n",
    "    elif can == 2: can = 'Nhâm'\n",
    "    elif can == 3: can = 'Quý'\n",
    "    elif can == 4: can = 'Giáp'\n",
    "    elif can == 5: can = 'Ất'\n",
    "    elif can == 6: can = 'Bính'\n",
    "    elif can == 7: can = 'Đinh'\n",
    "    elif can == 8: can = 'Mậu'\n",
    "    else: can = 'Kỷ'\n",
    "    \n",
    "    #calculate chi\n",
    "    chi = year % 12\n",
    "    if chi == 0 : chi = 'Thân'\n",
    "    elif chi == 1: chi = 'Dậu'\n",
    "    elif chi == 2: chi = 'Tuất'\n",
    "    elif chi == 3: chi = 'Hợi'\n",
    "    elif chi == 4: chi = 'Tý'\n",
    "    elif chi == 5: chi = 'Sửu'\n",
    "    elif chi == 6: chi = 'Dần'\n",
    "    elif chi == 7: chi = 'Mão'\n",
    "    elif chi == 8: chi = 'Thìn'\n",
    "    elif chi == 9: chi = 'Tỵ'\n",
    "    elif chi == 10: chi = 'Ngọ'\n",
    "    else: chi = 'Mui'\n",
    "    \n",
    "    result = can + \" \"+ chi\n",
    "    return result\n",
    "    "
   ]
  },
  {
   "cell_type": "code",
   "execution_count": 3,
   "metadata": {},
   "outputs": [
    {
     "name": "stdout",
     "output_type": "stream",
     "text": [
      "Giáp Thìn\n",
      "Quý Mão\n",
      "Đinh Sửu\n"
     ]
    }
   ],
   "source": [
    "print(calculate_can_chi_calendar(2024))\n",
    "print(calculate_can_chi_calendar((2023)))\n",
    "print(calculate_can_chi_calendar((1997)))"
   ]
  },
  {
   "cell_type": "code",
   "execution_count": 14,
   "metadata": {},
   "outputs": [
    {
     "name": "stdout",
     "output_type": "stream",
     "text": [
      "Bính Tý\n"
     ]
    }
   ],
   "source": [
    "print(calculate_can_chi_calendar((1996)))"
   ]
  },
  {
   "cell_type": "code",
   "execution_count": 15,
   "metadata": {},
   "outputs": [
    {
     "name": "stdout",
     "output_type": "stream",
     "text": [
      "Kỷ Mão\n"
     ]
    }
   ],
   "source": [
    "print(calculate_can_chi_calendar((1999)))"
   ]
  },
  {
   "cell_type": "code",
   "execution_count": 1,
   "metadata": {},
   "outputs": [
    {
     "name": "stdout",
     "output_type": "stream",
     "text": [
      "Hello\n"
     ]
    }
   ],
   "source": [
    "print('Hello')"
   ]
  },
  {
   "cell_type": "code",
   "execution_count": null,
   "metadata": {},
   "outputs": [],
   "source": []
  }
 ],
 "metadata": {
  "kernelspec": {
   "display_name": "base",
   "language": "python",
   "name": "python3"
  },
  "language_info": {
   "codemirror_mode": {
    "name": "ipython",
    "version": 3
   },
   "file_extension": ".py",
   "mimetype": "text/x-python",
   "name": "python",
   "nbconvert_exporter": "python",
   "pygments_lexer": "ipython3",
   "version": "3.9.12"
  }
 },
 "nbformat": 4,
 "nbformat_minor": 2
}
