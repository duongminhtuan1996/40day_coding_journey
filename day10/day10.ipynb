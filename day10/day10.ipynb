{
 "cells": [
  {
   "cell_type": "markdown",
   "metadata": {},
   "source": [
    "Numpy Array và Pytorch/Tensorflow Tensor<br>\n",
    "- Array: cấu trúc dữ liệu đa chiều. lưu trữ và thực hiện các phép toán. có thể là mảng 0 chiều(scalar), mảng 1 chiều(vector), mảng 2 chiều(matrix)...<br>\n",
    "- Tensor trong pytorch và Tensorflow cấu trúc dữ liệu nhiều chiều như array trong numpy, được tk học sâu và tính toán song song. đặc biệt trên GPU và TPU."
   ]
  },
  {
   "cell_type": "markdown",
   "metadata": {},
   "source": [
    "Một số hàm tiêu:<br>\n",
    "- .shape: hiện thị kích thước mảng<br>\n",
    "- .dtype: cho biết kiểu dữ liệu của  pt trong mảng<br>\n",
    "- type(): kiểu của đối tượng là mảng hay tensor\n",
    "- .device(): co trong pytorch hoặc tensorflow. nơi lưu trữ tensor, có thể CPU or GPU"
   ]
  },
  {
   "cell_type": "code",
   "execution_count": null,
   "metadata": {},
   "outputs": [],
   "source": [
    "import numpy as np\n",
    "import torch\n",
    "import tensorflow as tf"
   ]
  },
  {
   "cell_type": "markdown",
   "metadata": {},
   "source": [
    "Cau 1:"
   ]
  },
  {
   "cell_type": "code",
   "execution_count": 6,
   "metadata": {},
   "outputs": [
    {
     "name": "stdout",
     "output_type": "stream",
     "text": [
      "Numpy 1D is: [ 1  2  3  4  5  6  7  8  9 10]\n",
      "Tensor pytorch 1D is: tensor([ 1.,  2.,  3.,  4.,  5.,  6.,  7.,  8.,  9., 10.])\n",
      "Tensor tensorflow 1D is: [ 1  2  3  4  5  6  7  8  9 10]\n"
     ]
    }
   ],
   "source": [
    "lst_data = [x for x in range(1, 11)]\n",
    "\n",
    "arr_1D = np.array(lst_data)\n",
    "print(f'Numpy 1D is: {arr_1D}')\n",
    "\n",
    "tensor_1D_pt = torch.Tensor(lst_data)\n",
    "print(f'Tensor pytorch 1D is: {tensor_1D_pt}')\n",
    "\n",
    "tensor_1D_tf = tf.constant(lst_data) #tf.convert_to_tensor()\n",
    "print(f'Tensor tensorflow 1D is: {tensor_1D_tf}')"
   ]
  },
  {
   "cell_type": "markdown",
   "metadata": {},
   "source": [
    "Câu 2:"
   ]
  },
  {
   "cell_type": "code",
   "execution_count": 8,
   "metadata": {},
   "outputs": [
    {
     "name": "stdout",
     "output_type": "stream",
     "text": [
      "Numpy 2D is: [[0 1 2 3 4]\n",
      " [5 6 7 8 9]]\n",
      "Tensor pytorch 2D is: tensor([[0., 1., 2., 3., 4.],\n",
      "        [5., 6., 7., 8., 9.]])\n",
      "Tensor tensorflow 2D is: [[0 1 2 3 4]\n",
      " [5 6 7 8 9]]\n"
     ]
    }
   ],
   "source": [
    "matrix_data = [[i for i in range(5)], [i for i in range(5,10)]]\n",
    "\n",
    "arr_2D = np.array(matrix_data)\n",
    "print(f'Numpy 2D is: {arr_2D}')\n",
    "\n",
    "tensor_2D_pt = torch.Tensor(matrix_data)\n",
    "print(f'Tensor pytorch 2D is: {tensor_2D_pt}')\n",
    "\n",
    "tensor_2D_tf = tf.constant(matrix_data)\n",
    "print(f'Tensor tensorflow 2D is: {tensor_2D_tf}')"
   ]
  },
  {
   "cell_type": "code",
   "execution_count": 9,
   "metadata": {},
   "outputs": [
    {
     "name": "stdout",
     "output_type": "stream",
     "text": [
      "Numpy shape: (2, 5)\n",
      "Pytorch shape: torch.Size([2, 5])\n",
      "Tensorflow shape: (2, 5)\n",
      "Numpy dtype: int32\n",
      "Pytorch dtype: torch.float32\n",
      "Tensorflow dtype: <dtype: 'int32'>\n",
      "Numpy type: <class 'numpy.ndarray'>\n",
      "Pytorch type: <class 'torch.Tensor'>\n",
      "Tensorflow type: <class 'tensorflow.python.framework.ops.EagerTensor'>\n",
      "Pytorch Device: cpu\n",
      "Tensorflow Device: /job:localhost/replica:0/task:0/device:CPU:0\n"
     ]
    }
   ],
   "source": [
    "print(f'Numpy shape: {arr_2D.shape}')\n",
    "print(f'Pytorch shape: {tensor_2D_pt.shape}')\n",
    "print(f'Tensorflow shape: {tensor_2D_tf.shape}')\n",
    "\n",
    "print(f'Numpy dtype: {arr_2D.dtype}')\n",
    "print(f'Pytorch dtype: {tensor_2D_pt.dtype}')\n",
    "print(f'Tensorflow dtype: {tensor_2D_tf.dtype}')\n",
    "\n",
    "print(f'Numpy type: {type(arr_2D)}')\n",
    "print(f'Pytorch type: {type(tensor_2D_pt)}')\n",
    "print(f'Tensorflow type: {type(tensor_2D_tf)}')\n",
    "\n",
    "print(f'Pytorch Device: {tensor_2D_pt.device}')\n",
    "print(f'Tensorflow Device: {tensor_2D_tf.device}')"
   ]
  },
  {
   "cell_type": "code",
   "execution_count": null,
   "metadata": {},
   "outputs": [],
   "source": []
  }
 ],
 "metadata": {
  "kernelspec": {
   "display_name": "base",
   "language": "python",
   "name": "python3"
  },
  "language_info": {
   "codemirror_mode": {
    "name": "ipython",
    "version": 3
   },
   "file_extension": ".py",
   "mimetype": "text/x-python",
   "name": "python",
   "nbconvert_exporter": "python",
   "pygments_lexer": "ipython3",
   "version": "3.9.12"
  }
 },
 "nbformat": 4,
 "nbformat_minor": 2
}
