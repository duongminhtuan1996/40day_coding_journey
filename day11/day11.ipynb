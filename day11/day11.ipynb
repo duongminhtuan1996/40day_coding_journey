{
 "cells": [
  {
   "cell_type": "markdown",
   "metadata": {},
   "source": [
    "Basic Python - List<br>\n",
    "Bag of Words: <br>\n",
    "- Bước 1: Chia nhỏ văn bản<br>\n",
    "- Bước 2: Tạo 1 list từ trong văn bẳn, từ không trúng lắp<br>\n",
    "- Bước 3: Biểu diễn văn bản qua vector"
   ]
  },
  {
   "cell_type": "code",
   "execution_count": 44,
   "metadata": {},
   "outputs": [
    {
     "name": "stdout",
     "output_type": "stream",
     "text": [
      "{0: 'AI', 1: 'Toán', 2: 'Tôi', 3: 'môn', 4: 'nhạc', 5: 'thích', 6: 'âm'}\n"
     ]
    }
   ],
   "source": [
    "corpus = ['Tôi thích môn Toán', 'Tôi thích AI', 'Tôi thích âm nhạc']\n",
    "BoW = {}\n",
    "\n",
    "lst_set = set()\n",
    "for words in corpus:\n",
    "    lst_words = words.split()\n",
    "    for word in lst_words:\n",
    "        lst_set.add(word)\n",
    "for i, word in enumerate(sorted(lst_set)):\n",
    "    BoW[i] = word\n",
    "print(BoW)"
   ]
  },
  {
   "cell_type": "code",
   "execution_count": 42,
   "metadata": {},
   "outputs": [],
   "source": [
    "def Tokenization(words, BoW):\n",
    "    lst_empty = [0 for _ in range(len(BoW))]\n",
    "    for word in words.split():\n",
    "        for item in BoW:\n",
    "            if word == BoW[item]:\n",
    "                lst_empty[item] += 1\n",
    "    \n",
    "    return lst_empty\n"
   ]
  },
  {
   "cell_type": "code",
   "execution_count": 46,
   "metadata": {},
   "outputs": [
    {
     "data": {
      "text/plain": [
       "[1, 1, 1, 0, 0, 2, 0]"
      ]
     },
     "execution_count": 46,
     "metadata": {},
     "output_type": "execute_result"
    }
   ],
   "source": [
    "Tokenization('Tôi thích AI thích Toán', BoW)"
   ]
  },
  {
   "cell_type": "code",
   "execution_count": 45,
   "metadata": {},
   "outputs": [
    {
     "name": "stdout",
     "output_type": "stream",
     "text": [
      "0: AI\n",
      "1: Toán\n",
      "2: Tôi\n",
      "3: môn\n",
      "4: nhạc\n",
      "5: thích\n",
      "6: âm\n"
     ]
    }
   ],
   "source": [
    "my_dict = {0: 'AI', 1: 'Toán', 2: 'Tôi', 3: 'môn', 4: 'nhạc', 5: 'thích', 6: 'âm'}\n",
    "my_dict_sorted = sorted(my_dict.items())\n",
    "\n",
    "for key, value in my_dict_sorted:\n",
    "    print(f'{key}: {value}')"
   ]
  },
  {
   "cell_type": "code",
   "execution_count": null,
   "metadata": {},
   "outputs": [],
   "source": []
  }
 ],
 "metadata": {
  "kernelspec": {
   "display_name": "base",
   "language": "python",
   "name": "python3"
  },
  "language_info": {
   "codemirror_mode": {
    "name": "ipython",
    "version": 3
   },
   "file_extension": ".py",
   "mimetype": "text/x-python",
   "name": "python",
   "nbconvert_exporter": "python",
   "pygments_lexer": "ipython3",
   "version": "3.9.12"
  }
 },
 "nbformat": 4,
 "nbformat_minor": 2
}
