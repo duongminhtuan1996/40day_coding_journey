{
 "cells": [
  {
   "cell_type": "markdown",
   "metadata": {},
   "source": [
    "Các Hàm khởi tạo numpy arrray và Pytorch/Tensorflow Tensor - Phần 1<br>\n",
    "a. zeros<br>\n",
    "b. one<br>\n",
    "c. full, fill<br>"
   ]
  },
  {
   "cell_type": "code",
   "execution_count": 1,
   "metadata": {},
   "outputs": [],
   "source": [
    "#import libraries\n",
    "import numpy as np\n",
    "import torch\n",
    "import tensorflow as tf"
   ]
  },
  {
   "cell_type": "markdown",
   "metadata": {},
   "source": [
    "Câu 1:"
   ]
  },
  {
   "cell_type": "code",
   "execution_count": 4,
   "metadata": {},
   "outputs": [
    {
     "name": "stdout",
     "output_type": "stream",
     "text": [
      "Array from numpy: \n",
      " [[0. 0. 0. 0.]\n",
      " [0. 0. 0. 0.]\n",
      " [0. 0. 0. 0.]]\n",
      "Tensor from Pytorch: \n",
      " tensor([[0., 0., 0., 0.],\n",
      "        [0., 0., 0., 0.],\n",
      "        [0., 0., 0., 0.]])\n",
      "Tensor from Pytorch: \n",
      " tf.Tensor(\n",
      "[[0. 0. 0. 0.]\n",
      " [0. 0. 0. 0.]\n",
      " [0. 0. 0. 0.]], shape=(3, 4), dtype=float32)\n"
     ]
    }
   ],
   "source": [
    "arr_zeros = np.zeros((3, 4))\n",
    "print('Array from numpy: \\n', arr_zeros)\n",
    "\n",
    "tensor_torch_zeros = torch.zeros((3,4))\n",
    "print('Tensor from Pytorch: \\n', tensor_torch_zeros)\n",
    "\n",
    "tensor_tf_zeros = tf.zeros((3,4))\n",
    "print('Tensor from Pytorch: \\n', tensor_tf_zeros)"
   ]
  },
  {
   "cell_type": "markdown",
   "metadata": {},
   "source": [
    "Câu 2:"
   ]
  },
  {
   "cell_type": "code",
   "execution_count": 6,
   "metadata": {},
   "outputs": [
    {
     "name": "stdout",
     "output_type": "stream",
     "text": [
      "Array from numpy: \n",
      " [[1. 1. 1. 1.]\n",
      " [1. 1. 1. 1.]\n",
      " [1. 1. 1. 1.]]\n",
      "Tensor from Pytorch: \n",
      " tensor([[1., 1., 1., 1.],\n",
      "        [1., 1., 1., 1.],\n",
      "        [1., 1., 1., 1.]])\n",
      "Tensor from Pytorch: \n",
      " tf.Tensor(\n",
      "[[1. 1. 1. 1.]\n",
      " [1. 1. 1. 1.]\n",
      " [1. 1. 1. 1.]], shape=(3, 4), dtype=float32)\n"
     ]
    }
   ],
   "source": [
    "arr_ones = np.ones((3, 4))\n",
    "print('Array from numpy: \\n', arr_ones)\n",
    "\n",
    "tensor_torch_ones = torch.ones((3,4))\n",
    "print('Tensor from Pytorch: \\n', tensor_torch_ones)\n",
    "\n",
    "tensor_tf_ones = tf.ones((3,4))\n",
    "print('Tensor from Pytorch: \\n', tensor_tf_ones)"
   ]
  },
  {
   "cell_type": "markdown",
   "metadata": {},
   "source": [
    "Câu 3:"
   ]
  },
  {
   "cell_type": "code",
   "execution_count": 7,
   "metadata": {},
   "outputs": [
    {
     "name": "stdout",
     "output_type": "stream",
     "text": [
      "Array from numpy: \n",
      " [[5 5 5 5]\n",
      " [5 5 5 5]\n",
      " [5 5 5 5]]\n",
      "Tensor from Pytorch: \n",
      " tensor([[5, 5, 5, 5],\n",
      "        [5, 5, 5, 5],\n",
      "        [5, 5, 5, 5]])\n",
      "Tensor from Pytorch: \n",
      " tf.Tensor(\n",
      "[[5 5 5 5]\n",
      " [5 5 5 5]\n",
      " [5 5 5 5]], shape=(3, 4), dtype=int32)\n"
     ]
    }
   ],
   "source": [
    "arr_full = np.full((3, 4), 5)\n",
    "print('Array from numpy: \\n', arr_full)\n",
    "\n",
    "tensor_torch_full = torch.full((3,4), 5)\n",
    "print('Tensor from Pytorch: \\n', tensor_torch_full)\n",
    "\n",
    "tensor_tf_full = tf.fill((3,4), 5)\n",
    "print('Tensor from Pytorch: \\n', tensor_tf_full)"
   ]
  },
  {
   "cell_type": "code",
   "execution_count": 4,
   "metadata": {},
   "outputs": [
    {
     "name": "stdout",
     "output_type": "stream",
     "text": [
      "tf.Tensor([7 8 9], shape=(3,), dtype=int32)\n",
      "tensor(32)\n",
      "[1 2 3]\n",
      "tf.Tensor([-25 -56 -87], shape=(3,), dtype=int32)\n"
     ]
    }
   ],
   "source": [
    "array_np = np.array([1,2,3])\n",
    "tensor_pt = torch.tensor([4, 5, 6])\n",
    "tensor_tf = tf.constant([7, 8, 9])\n",
    "\n",
    "result = tensor_tf - (tensor_pt @ array_np) * array_np\n",
    "print(tensor_tf)\n",
    "print(tensor_pt @ array_np)\n",
    "print(array_np)\n",
    "print(result)"
   ]
  },
  {
   "cell_type": "code",
   "execution_count": 5,
   "metadata": {},
   "outputs": [
    {
     "data": {
      "text/plain": [
       "tensor([32, 64, 96], dtype=torch.int32)"
      ]
     },
     "execution_count": 5,
     "metadata": {},
     "output_type": "execute_result"
    }
   ],
   "source": [
    "(tensor_pt @ array_np) * array_np"
   ]
  },
  {
   "cell_type": "code",
   "execution_count": null,
   "metadata": {},
   "outputs": [],
   "source": []
  }
 ],
 "metadata": {
  "kernelspec": {
   "display_name": "base",
   "language": "python",
   "name": "python3"
  },
  "language_info": {
   "codemirror_mode": {
    "name": "ipython",
    "version": 3
   },
   "file_extension": ".py",
   "mimetype": "text/x-python",
   "name": "python",
   "nbconvert_exporter": "python",
   "pygments_lexer": "ipython3",
   "version": "3.9.12"
  }
 },
 "nbformat": 4,
 "nbformat_minor": 2
}
