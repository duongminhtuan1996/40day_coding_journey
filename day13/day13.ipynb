{
 "cells": [
  {
   "cell_type": "markdown",
   "metadata": {},
   "source": [
    "Python list<br>\n",
    "Tim kiếm<br>\n",
    "- Bước 1: Duyệt qua từng phần tử và so sánh<br>\n",
    "- Bước 2: tre ve index vi tri None"
   ]
  },
  {
   "cell_type": "code",
   "execution_count": 1,
   "metadata": {},
   "outputs": [
    {
     "name": "stdout",
     "output_type": "stream",
     "text": [
      "Vị trí None đàu tiên: 2 - Danh sách vị trí có giá tị None: [2, 4, 6]\n"
     ]
    }
   ],
   "source": [
    "lst_data = [1, 1.1, None, 1.4, None, 1.5, None, 2.0]\n",
    "all_None = []\n",
    "\n",
    "for idx, x in enumerate(lst_data, start=0):\n",
    "    if x == None:\n",
    "       all_None.append(idx)\n",
    "first_None = all_None[0]\n",
    "\n",
    "print(f'Vị trí None đàu tiên: {first_None} - Danh sách vị trí có giá tị None:\n",
    "       {all_None}')"
   ]
  },
  {
   "cell_type": "code",
   "execution_count": 6,
   "metadata": {},
   "outputs": [],
   "source": [
    "def find_first_all_None(data):\n",
    "    all_None = []\n",
    "    for idx in range(len(data)):\n",
    "        if data[idx] == None:\n",
    "            all_None.append(idx)\n",
    "    first_None = all_None[0]\n",
    "    return first_None, all_None"
   ]
  },
  {
   "cell_type": "code",
   "execution_count": 7,
   "metadata": {},
   "outputs": [
    {
     "data": {
      "text/plain": [
       "(2, [2, 4, 6])"
      ]
     },
     "execution_count": 7,
     "metadata": {},
     "output_type": "execute_result"
    }
   ],
   "source": [
    "find_first_all_None(lst_data)"
   ]
  },
  {
   "cell_type": "code",
   "execution_count": null,
   "metadata": {},
   "outputs": [],
   "source": []
  }
 ],
 "metadata": {
  "kernelspec": {
   "display_name": "base",
   "language": "python",
   "name": "python3"
  },
  "language_info": {
   "codemirror_mode": {
    "name": "ipython",
    "version": 3
   },
   "file_extension": ".py",
   "mimetype": "text/x-python",
   "name": "python",
   "nbconvert_exporter": "python",
   "pygments_lexer": "ipython3",
   "version": "3.9.12"
  }
 },
 "nbformat": 4,
 "nbformat_minor": 2
}
