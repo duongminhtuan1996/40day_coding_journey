{
 "cells": [
  {
   "cell_type": "markdown",
   "metadata": {},
   "source": [
    "Các phép tính Numpy, Pytorch và tensorflow Transpose và summation<br>\n"
   ]
  },
  {
   "cell_type": "code",
   "execution_count": null,
   "metadata": {},
   "outputs": [],
   "source": [
    "import numpy as np\n",
    "import torch\n",
    "import tensorflow as tf"
   ]
  },
  {
   "cell_type": "markdown",
   "metadata": {},
   "source": [
    "Transposed with numpy"
   ]
  },
  {
   "cell_type": "code",
   "execution_count": 3,
   "metadata": {},
   "outputs": [
    {
     "name": "stdout",
     "output_type": "stream",
     "text": [
      "Array: \n",
      " [[1 2]\n",
      " [3 4]]\n",
      "Transposed method 1:\n",
      " [[1 3]\n",
      " [2 4]]\n",
      "Transposed method 2: \n",
      " [[1 3]\n",
      " [2 4]]\n"
     ]
    }
   ],
   "source": [
    "arr_1 = np.array([[1, 2], [3, 4]])\n",
    "print(f'Array: \\n {arr_1}')\n",
    "\n",
    "arr_transposed_1 = np.transpose(arr_1)\n",
    "print(f'Transposed method 1:\\n {arr_transposed_1}')\n",
    "\n",
    "arr_transposed_2 = arr_1.T\n",
    "print(f'Transposed method 2: \\n {arr_transposed_2}')"
   ]
  },
  {
   "cell_type": "markdown",
   "metadata": {},
   "source": [
    "Transposed with pytorch\n"
   ]
  },
  {
   "cell_type": "code",
   "execution_count": 5,
   "metadata": {},
   "outputs": [
    {
     "name": "stdout",
     "output_type": "stream",
     "text": [
      "Tensor with pytorch: \n",
      " tensor([[1, 2],\n",
      "        [3, 4]])\n",
      "Transposed with pytorch 1: \n",
      " tensor([[1, 3],\n",
      "        [2, 4]])\n",
      "Tensor with pytorch transposed: \n",
      "tensor([[1, 3],\n",
      "        [2, 4]])\n"
     ]
    }
   ],
   "source": [
    "tensor_pt = torch.tensor([[1, 2], [3, 4]])\n",
    "print(f'Tensor with pytorch: \\n {tensor_pt}')\n",
    "\n",
    "transposed_tensor_pt_1 = torch.transpose(tensor_pt,0, 1)\n",
    "print(f'Transposed with pytorch 1: \\n {transposed_tensor_pt_1}')\n",
    "\n",
    "transposed_tensor_pt_2 = torch.t(tensor_pt)\n",
    "print(f'Transposed with pytorch 2: \\n{transposed_tensor_pt_2}')"
   ]
  },
  {
   "cell_type": "markdown",
   "metadata": {},
   "source": [
    "Transposed with tensorflow"
   ]
  },
  {
   "cell_type": "code",
   "execution_count": 8,
   "metadata": {},
   "outputs": [
    {
     "name": "stdout",
     "output_type": "stream",
     "text": [
      "Tensor with tensorflow:\n",
      " [[1 2]\n",
      " [3 4]]\n",
      "Tensor with tensorflow transposed: \n",
      "[[1 3]\n",
      " [2 4]]\n"
     ]
    }
   ],
   "source": [
    "tensor_tf = tf.constant([[1, 2], [3, 4]])\n",
    "print(f'Tensor with tensorflow:\\n {tensor_tf}')\n",
    "\n",
    "transposed_tensor_tf = tf.transpose(tensor_tf)\n",
    "print(f'Tensor with tensorflow transposed: \\n{transposed_tensor_tf}')"
   ]
  },
  {
   "cell_type": "markdown",
   "metadata": {},
   "source": [
    "b. Summation"
   ]
  },
  {
   "cell_type": "code",
   "execution_count": 9,
   "metadata": {},
   "outputs": [
    {
     "name": "stdout",
     "output_type": "stream",
     "text": [
      "[[1 2 3]\n",
      " [4 5 6]]\n",
      "sum array: \n",
      " 21\n",
      "sum column arr: \n",
      " [5 7 9]\n",
      "sum row arrar: \n",
      " [ 6 15]\n"
     ]
    }
   ],
   "source": [
    "arr = np.array([[1, 2, 3],\n",
    "                [4, 5, 6]])\n",
    "total_arr = np.sum(arr)\n",
    "column_sum = np.sum(arr, axis=0)\n",
    "row_sum = np.sum(arr, axis=1)\n",
    "\n",
    "print(arr)\n",
    "print(f'sum array: \\n {total_arr}')\n",
    "print(f'sum column arr: \\n {column_sum}')\n",
    "print(f'sum row arrar: \\n {row_sum}')"
   ]
  },
  {
   "cell_type": "code",
   "execution_count": 12,
   "metadata": {},
   "outputs": [
    {
     "name": "stdout",
     "output_type": "stream",
     "text": [
      "tensor([[1, 2],\n",
      "        [3, 4]])\n",
      "sum pytorch: \n",
      " 10\n",
      "sum column pytorch: \n",
      " tensor([4, 6])\n",
      "sum row pytorch: \n",
      " tensor([3, 7])\n"
     ]
    }
   ],
   "source": [
    "tensor_sum = torch.sum(tensor_pt)\n",
    "\n",
    "tensor_sum_axis_0 = torch.sum(tensor_pt, dim=0) # or axis=0\n",
    "\n",
    "tensor_sum_axis_1 = torch.sum(tensor_pt, dim=1) # or axis=1\n",
    "\n",
    "print(tensor_pt)\n",
    "print(f'sum pytorch: \\n {tensor_sum}')\n",
    "print(f'sum column pytorch: \\n {tensor_sum_axis_0}')\n",
    "print(f'sum row pytorch: \\n {tensor_sum_axis_1}')"
   ]
  },
  {
   "cell_type": "code",
   "execution_count": 14,
   "metadata": {},
   "outputs": [
    {
     "name": "stdout",
     "output_type": "stream",
     "text": [
      "tensor([[1, 2],\n",
      "        [3, 4]])\n",
      "sum tensorflow: \n",
      " 10\n",
      "sum column tensorflow: \n",
      " [4 6]\n",
      "sum row tensorflow: \n",
      " [3 7]\n"
     ]
    }
   ],
   "source": [
    "tf_tensor_sum = tf.reduce_sum(tensor_tf)\n",
    "\n",
    "tf_tensor_sum_axis_0 = tf.reduce_sum(tensor_tf, axis=0) \n",
    "\n",
    "tf_tensor_sum_axis_1 = tf.reduce_sum(tensor_tf, axis=1) \n",
    "\n",
    "print(tensor_pt)\n",
    "print(f'sum tensorflow: \\n {tf_tensor_sum}')\n",
    "print(f'sum column tensorflow: \\n {tf_tensor_sum_axis_0}')\n",
    "print(f'sum row tensorflow: \\n {tf_tensor_sum_axis_1}')"
   ]
  },
  {
   "cell_type": "markdown",
   "metadata": {},
   "source": [
    "Bài tập 2:<br>\n",
    "Câu 1:"
   ]
  },
  {
   "cell_type": "code",
   "execution_count": 2,
   "metadata": {},
   "outputs": [
    {
     "name": "stdout",
     "output_type": "stream",
     "text": [
      "Array: \n",
      "[[ -2 -10 -10  -6]\n",
      " [ -1  -9  -7   0]\n",
      " [ -8 -10  -5   7]]\n",
      "Array after transposed: \n",
      " [[ -2  -1  -8]\n",
      " [-10  -9 -10]\n",
      " [-10  -7  -5]\n",
      " [ -6   0   7]]\n",
      "Array multiplication: \n",
      " [[240 162 124]\n",
      " [162 131 133]\n",
      " [124 133 238]]\n"
     ]
    }
   ],
   "source": [
    "np.random.seed(2024)\n",
    "arr_2 = np.random.randint(-10, 10, (3,4))\n",
    "\n",
    "arr_transposed = np.transpose(arr_2)\n",
    "\n",
    "arr_multiplicaiton = arr_2.dot(arr_transposed)\n",
    "\n",
    "print(f'Array: \\n{arr_2}')\n",
    "print(f'Array after transposed: \\n {arr_transposed}')\n",
    "print(f'Array multiplication: \\n {arr_multiplicaiton}')"
   ]
  },
  {
   "cell_type": "code",
   "execution_count": 3,
   "metadata": {},
   "outputs": [
    {
     "name": "stdout",
     "output_type": "stream",
     "text": [
      "Tensor pt: \n",
      "tensor([[  2,   0,  -6, -10],\n",
      "        [ -7, -10,   0,   1],\n",
      "        [  3,   9,   7,  -6]])\n",
      "Tensor pt after transposed: \n",
      " tensor([[  2,  -7,   3],\n",
      "        [  0, -10,   9],\n",
      "        [ -6,   0,   7],\n",
      "        [-10,   1,  -6]])\n",
      "Tensor pt multiplication: \n",
      " tensor([[ 140,  -24,   24],\n",
      "        [ -24,  150, -117],\n",
      "        [  24, -117,  175]])\n"
     ]
    }
   ],
   "source": [
    "torch.manual_seed(2024)\n",
    "tensor_pt_2 = torch.randint(-10, 10, (3,4))\n",
    "print(f'Tensor pt: \\n{tensor_pt_2}')\n",
    "\n",
    "tensor_pt_transposed = torch.t(tensor_pt_2)\n",
    "print(f'Tensor pt after transposed: \\n {tensor_pt_transposed}')\n",
    "\n",
    "tensor_pt_multiplicaiton = torch.matmul(tensor_pt_2, tensor_pt_transposed)\n",
    "print(f'Tensor pt multiplication: \\n {tensor_pt_multiplicaiton}')"
   ]
  },
  {
   "cell_type": "code",
   "execution_count": 4,
   "metadata": {},
   "outputs": [
    {
     "name": "stdout",
     "output_type": "stream",
     "text": [
      "Tensor pt: \n",
      "[[  2   8   8  -1]\n",
      " [  3   2   2  -4]\n",
      " [-10 -10   9 -10]]\n",
      "Tensor pt after transposed: \n",
      " [[  2   3 -10]\n",
      " [  8   2 -10]\n",
      " [  8   2   9]\n",
      " [ -1  -4 -10]]\n",
      "Tensor pt multiplication: \n",
      " [[133  42 -18]\n",
      " [ 42  33   8]\n",
      " [-18   8 381]]\n"
     ]
    }
   ],
   "source": [
    "tf.random.set_seed(2024)\n",
    "tensor_tf_2 = tf.experimental.numpy.random.randint(-10, 10, (3,4))\n",
    "print(f'Tensor pt: \\n{tensor_tf_2}')\n",
    "\n",
    "tensor_tf_transposed = tf.transpose(tensor_tf_2)\n",
    "print(f'Tensor pt after transposed: \\n {tensor_tf_transposed}')\n",
    "\n",
    "tensor_tf_multiplicaiton = tf.matmul(tensor_tf_2, tensor_tf_transposed)\n",
    "print(f'Tensor pt multiplication: \\n {tensor_tf_multiplicaiton}')"
   ]
  },
  {
   "cell_type": "markdown",
   "metadata": {},
   "source": [
    "Cau 2:"
   ]
  },
  {
   "cell_type": "code",
   "execution_count": 5,
   "metadata": {},
   "outputs": [
    {
     "name": "stdout",
     "output_type": "stream",
     "text": [
      "[[ -2 -10 -10]\n",
      " [ -6  -1  -9]\n",
      " [ -7   0  -8]]\n",
      "-53\n",
      "[-15 -11 -27]\n",
      "[-22 -16 -15]\n"
     ]
    }
   ],
   "source": [
    "np.random.seed(2024)\n",
    "arr_3 = np.random.randint(-10, 10, (3, 3))\n",
    "print(arr_3)\n",
    "\n",
    "#total array\n",
    "sum_arr_3 = np.sum(arr_3)\n",
    "print(sum_arr_3)\n",
    "\n",
    "#sum columns\n",
    "sum_column_arr_3 = np.sum(arr_3, axis=0)\n",
    "print(sum_column_arr_3)\n",
    "\n",
    "#sum row\n",
    "sum_row_arr_3 = np.sum(arr_3, axis=1)\n",
    "print(sum_row_arr_3)"
   ]
  },
  {
   "cell_type": "code",
   "execution_count": 6,
   "metadata": {},
   "outputs": [
    {
     "name": "stdout",
     "output_type": "stream",
     "text": [
      "tensor([[  2,   0,  -6],\n",
      "        [-10,  -7, -10],\n",
      "        [  0,   1,   3]])\n",
      "tensor(-27)\n",
      "tensor([ -8,  -6, -13])\n",
      "tensor([ -4, -27,   4])\n"
     ]
    }
   ],
   "source": [
    "torch.manual_seed(2024)\n",
    "tensor_pt_3 = torch.randint(-10, 10 ,(3, 3))\n",
    "print(tensor_pt_3)\n",
    "\n",
    "sum_tensor_pt_3 = torch.sum(tensor_pt_3)\n",
    "print(sum_tensor_pt_3)\n",
    "\n",
    "sum_column_tensor_pt_3 = torch.sum(tensor_pt_3, dim=0)\n",
    "print(sum_column_tensor_pt_3)\n",
    "\n",
    "sum_row_tensor_pt_3 = torch.sum(tensor_pt_3, dim=1)\n",
    "print(sum_row_tensor_pt_3)"
   ]
  },
  {
   "cell_type": "code",
   "execution_count": 7,
   "metadata": {},
   "outputs": [
    {
     "name": "stdout",
     "output_type": "stream",
     "text": [
      "tf.Tensor(\n",
      "[[-6 -2  0]\n",
      " [-2  4  4]\n",
      " [-9  3  7]], shape=(3, 3), dtype=int32)\n",
      "tf.Tensor(-1, shape=(), dtype=int32)\n",
      "tf.Tensor([-17   5  11], shape=(3,), dtype=int32)\n",
      "tf.Tensor([-8  6  1], shape=(3,), dtype=int32)\n"
     ]
    }
   ],
   "source": [
    "tf.random.set_seed(2024)\n",
    "tensor_tf_3 = tf.random.uniform((3, 3),-10, 10, dtype=tf.dtypes.int32)\n",
    "print(tensor_tf_3)\n",
    "\n",
    "sum_tensor_tf_3 = tf.reduce_sum(tensor_tf_3)\n",
    "print(sum_tensor_tf_3)\n",
    "\n",
    "sum_column_tensor_tf_3 = tf.reduce_sum(tensor_tf_3, axis=0)\n",
    "print(sum_column_tensor_tf_3)\n",
    "\n",
    "sum_row_tensor_tf_3 = tf.reduce_sum(tensor_tf_3, axis=1)\n",
    "print(sum_row_tensor_tf_3)"
   ]
  },
  {
   "cell_type": "code",
   "execution_count": null,
   "metadata": {},
   "outputs": [],
   "source": []
  }
 ],
 "metadata": {
  "kernelspec": {
   "display_name": "base",
   "language": "python",
   "name": "python3"
  },
  "language_info": {
   "codemirror_mode": {
    "name": "ipython",
    "version": 3
   },
   "file_extension": ".py",
   "mimetype": "text/x-python",
   "name": "python",
   "nbconvert_exporter": "python",
   "pygments_lexer": "ipython3",
   "version": "3.9.12"
  }
 },
 "nbformat": 4,
 "nbformat_minor": 2
}
