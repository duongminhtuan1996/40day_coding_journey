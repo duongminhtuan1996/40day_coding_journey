{
 "cells": [
  {
   "cell_type": "markdown",
   "metadata": {},
   "source": [
    "Python Basic - List"
   ]
  },
  {
   "cell_type": "markdown",
   "metadata": {},
   "source": [
    "Nội suy: Interpolate<br>\n",
    "2 phướng pháp đơn giản dễ tiếp cận:<br>\n",
    "- <b>Láng giềng gần(Nearest Neightbor)</b><br>\n",
    "- <b>Nội suy tuyến tính</b>"
   ]
  },
  {
   "cell_type": "code",
   "execution_count": 3,
   "metadata": {},
   "outputs": [],
   "source": [
    "lst_data = [1, 1.1, None, 1.4, None, 1.5, None, 2.0]    "
   ]
  },
  {
   "cell_type": "code",
   "execution_count": 2,
   "metadata": {},
   "outputs": [],
   "source": [
    "def find_None(data):\n",
    "    lst_none = []\n",
    "    list_not_none = []\n",
    "    for idx in range(len(data)):\n",
    "        if data[idx] == None:\n",
    "            lst_none.append(idx)\n",
    "        else:\n",
    "            list_not_none.append(idx)\n",
    "    return lst_none, list_not_none"
   ]
  },
  {
   "cell_type": "code",
   "execution_count": 4,
   "metadata": {},
   "outputs": [
    {
     "data": {
      "text/plain": [
       "([2, 4, 6], [0, 1, 3, 5, 7])"
      ]
     },
     "execution_count": 4,
     "metadata": {},
     "output_type": "execute_result"
    }
   ],
   "source": [
    "find_None(lst_data)"
   ]
  },
  {
   "cell_type": "code",
   "execution_count": 11,
   "metadata": {},
   "outputs": [],
   "source": [
    "def NN_interpolation(data):\n",
    "    lst_None, lst_not_None = find_None(data)\n",
    "    for i,j in zip(lst_None, lst_not_None):\n",
    "        if i > j:\n",
    "            data[i] = data[i-1]\n",
    "            lst_not_None.insert(i, i)\n",
    "            print(lst_None)\n",
    "            print(lst_not_None)\n",
    "            lst_None.remove(i)\n",
    "        elif i < j:\n",
    "            data[i] = data[i+1]\n",
    "            lst_not_None.insert(i, i)\n",
    "            lst_None.remove(i)\n",
    "            print(lst_None)\n",
    "            print(lst_not_None)\n",
    "        elif len(lst_None) == 0:\n",
    "            return data\n",
    "    return data"
   ]
  },
  {
   "cell_type": "code",
   "execution_count": 12,
   "metadata": {},
   "outputs": [
    {
     "name": "stdout",
     "output_type": "stream",
     "text": [
      "[6]\n",
      "[0, 1, 2, 3, 4, 5, 6, 7]\n"
     ]
    },
    {
     "data": {
      "text/plain": [
       "[1, 1.1, 1.1, 1.4, 1.4, 1.5, 1.5, 2.0]"
      ]
     },
     "execution_count": 12,
     "metadata": {},
     "output_type": "execute_result"
    }
   ],
   "source": [
    "NN_interpolation(lst_data)"
   ]
  },
  {
   "cell_type": "code",
   "execution_count": 13,
   "metadata": {},
   "outputs": [
    {
     "name": "stdout",
     "output_type": "stream",
     "text": [
      "[1, 2, 4, 6]\n",
      "[0, 1, 3, 5, 7]\n",
      "[2, 4, 6]\n",
      "[0, 1, 3, 5, 4, 7]\n"
     ]
    },
    {
     "data": {
      "text/plain": [
       "[1, 1, None, 1.4, 1.4, 1.5, None, 2.0]"
      ]
     },
     "execution_count": 13,
     "metadata": {},
     "output_type": "execute_result"
    }
   ],
   "source": [
    "lst_data2 = [1, None, None, 1.4, None, 1.5, None, 2.0]\n",
    "NN_interpolation(lst_data2)"
   ]
  },
  {
   "cell_type": "code",
   "execution_count": 8,
   "metadata": {},
   "outputs": [],
   "source": [
    "def find_none_index(data):\n",
    "    \"\"\"\n",
    "    inpute: list data\n",
    "    output: Value true, false, the data value is None\n",
    "    This function return data is None, element in data the first.\n",
    "    \"\"\"\n",
    "    result = -1\n",
    "    for i, v in enumerate(data):\n",
    "        if v == None:\n",
    "            result = i\n",
    "            break\n",
    "    return result\n",
    "\n",
    "def find_end(data, index):\n",
    "    \"\"\"\n",
    "    Find index end in data\n",
    "    \"\"\"\n",
    "    end = len(data)\n",
    "    for i in range(index+1, len(data), 1):\n",
    "        if data[i] !=None:\n",
    "            end = i\n",
    "            break\n",
    "    return end\n",
    "\n",
    "def interpolate_nearest_neighbor(data, none_position):\n",
    "    nearest_neightbor = None\n",
    "    nearest_distance = float('inf')\n",
    "    for index in range(len(data)):\n",
    "        if data[index] is not None and abs(index - none_position) < nearest_distance:\n",
    "            nearest_neightbor = data[index]\n",
    "            nearest_distance = abs(index - none_position)\n",
    "\n",
    "    return nearest_neightbor\n",
    "\n",
    "def process_data(data):\n",
    "    while True:\n",
    "        index = find_none_index(data)\n",
    "        if index == -1:\n",
    "            break\n",
    "\n",
    "        #find begin\n",
    "        begin = index - 1\n",
    "\n",
    "        #find end\n",
    "        end = find_end(data, index)\n",
    "\n",
    "        if begin<0:\n",
    "            y = data[end]\n",
    "        elif end>len(data):\n",
    "            y = data[begin]\n",
    "        else:\n",
    "            y = interpolate_nearest_neighbor(data, index)\n",
    "        data[index] = y\n",
    "    return data\n"
   ]
  },
  {
   "cell_type": "code",
   "execution_count": 12,
   "metadata": {},
   "outputs": [
    {
     "name": "stdout",
     "output_type": "stream",
     "text": [
      "[1, 1.1, 1.1, 1.4, 1.4, 1.5, 1.5, 2.0]\n"
     ]
    }
   ],
   "source": [
    "#test\n",
    "data = [1, 1.1, None, 1.4, None, 1.5, None, 2.0]\n",
    "result = process_data(data)\n",
    "print(result)"
   ]
  },
  {
   "cell_type": "code",
   "execution_count": null,
   "metadata": {},
   "outputs": [],
   "source": []
  }
 ],
 "metadata": {
  "kernelspec": {
   "display_name": "base",
   "language": "python",
   "name": "python3"
  },
  "language_info": {
   "codemirror_mode": {
    "name": "ipython",
    "version": 3
   },
   "file_extension": ".py",
   "mimetype": "text/x-python",
   "name": "python",
   "nbconvert_exporter": "python",
   "pygments_lexer": "ipython3",
   "version": "3.9.12"
  }
 },
 "nbformat": 4,
 "nbformat_minor": 2
}
