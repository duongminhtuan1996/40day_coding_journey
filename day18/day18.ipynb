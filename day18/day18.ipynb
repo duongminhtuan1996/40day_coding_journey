{
 "cells": [
  {
   "cell_type": "markdown",
   "metadata": {},
   "source": [
    "Basic Python - List Comprehension"
   ]
  },
  {
   "cell_type": "markdown",
   "metadata": {},
   "source": [
    "Ưu điểm:<br> \n",
    "- Giảm thiếu số lượng code<br>\n",
    "- Dễ sử dụng<br>\n"
   ]
  },
  {
   "cell_type": "markdown",
   "metadata": {},
   "source": [
    "Nhược điểm:<br>\n",
    "- Khó đọc<br>\n",
    "- Hạn chế chức năng<br>"
   ]
  },
  {
   "cell_type": "code",
   "execution_count": 1,
   "metadata": {},
   "outputs": [
    {
     "name": "stdout",
     "output_type": "stream",
     "text": [
      "['AI', 'listen', 'music']\n"
     ]
    }
   ],
   "source": [
    "stop_words = [\"I\", \"love\", \"and\", \"to\"]\n",
    "my_input = 'I love AI and listen to music'\n",
    "\n",
    "lst_input = []\n",
    "for word in my_input.split():\n",
    "    if word not in stop_words:\n",
    "        lst_input.append(word)\n",
    "print(lst_input)"
   ]
  },
  {
   "cell_type": "code",
   "execution_count": 2,
   "metadata": {},
   "outputs": [
    {
     "name": "stdout",
     "output_type": "stream",
     "text": [
      "['AI', 'listen', 'music']\n"
     ]
    }
   ],
   "source": [
    "lst_input_new = [word for word in my_input.split() if word not in stop_words]\n",
    "print(lst_input_new)"
   ]
  },
  {
   "cell_type": "markdown",
   "metadata": {},
   "source": [
    "<table>\n",
    "    <tr>\n",
    "        <th>Đặc điểm</th>\n",
    "        <th>Tuple</th>\n",
    "        <th>List</th>\n",
    "    </tr>\n",
    "    <tr>\n",
    "        <td>Đặc điểm cơ bản</td>\n",
    "        <td>Tập hợp những pt ko thay đổi được, đặt trong dấu ngoặc đơn</td>\n",
    "        <td>Tập hợp các pt có thể thay đổi được, đặt trong cấp dấu ngoặc vuông</td>\n",
    "    </tr>\n",
    "    <tr>\n",
    "        <td>Thay đổi dữ liệu</td>\n",
    "        <td>Không thể thay đổi dữ liệu(immutable). Ko thể thêm, xóa, hoặc thay đổi pt</td>\n",
    "        <td>Có thể thay đổi(mutable). Có thể thêm, xóa và thay đổi các pt</td>\n",
    "    </tr>\n",
    "    <tr>\n",
    "        <td>Sử Dụng</td>\n",
    "        <td>Thích hợp để bảo vệ dữ liệu.</td>\n",
    "        <td>Thích hợp cho các cấu trúc dữ liệu có thể thay đổi.</td>\n",
    "    </tr>\n",
    "    <tr>\n",
    "        <td>Hiệu Suất</td>\n",
    "        <td>Trong một số TH, tuple có thể nhanh hơn.</td>\n",
    "        <td>List có sự linh hoạt cao hơn.</td>\n",
    "    </tr>\n",
    "</table>"
   ]
  },
  {
   "cell_type": "markdown",
   "metadata": {},
   "source": [
    "Câu 1:"
   ]
  },
  {
   "cell_type": "code",
   "execution_count": 3,
   "metadata": {},
   "outputs": [],
   "source": [
    "my_tuple1 = (2, 3)\n",
    "my_tuple2 = (3, 6)"
   ]
  },
  {
   "cell_type": "markdown",
   "metadata": {},
   "source": [
    "Câu 2:"
   ]
  },
  {
   "cell_type": "code",
   "execution_count": 4,
   "metadata": {},
   "outputs": [
    {
     "name": "stdout",
     "output_type": "stream",
     "text": [
      "Result vector1 = (5, 9)\n"
     ]
    }
   ],
   "source": [
    "add_tuple = []\n",
    "for i in range(len(my_tuple1)):\n",
    "    add_tuple.append(my_tuple1[i] + my_tuple2[i])\n",
    "result_vector_1 = tuple(add_tuple)\n",
    "print(f'Result vector1 = {result_vector_1}')"
   ]
  },
  {
   "cell_type": "code",
   "execution_count": 5,
   "metadata": {},
   "outputs": [
    {
     "name": "stdout",
     "output_type": "stream",
     "text": [
      "Result vector1 = (6, 18)\n"
     ]
    }
   ],
   "source": [
    "mul_tuple = []\n",
    "for i in range(len(my_tuple1)):\n",
    "    mul_tuple.append(my_tuple1[i] * my_tuple2[i])\n",
    "result_vector_2 = tuple(mul_tuple)\n",
    "print(f'Result vector1 = {result_vector_2}')"
   ]
  },
  {
   "cell_type": "markdown",
   "metadata": {},
   "source": [
    "Câu 3:"
   ]
  },
  {
   "cell_type": "code",
   "execution_count": 6,
   "metadata": {},
   "outputs": [
    {
     "name": "stdout",
     "output_type": "stream",
     "text": [
      "3.1622776601683795\n"
     ]
    }
   ],
   "source": [
    "def distanse(p, q):\n",
    "    dis = 0\n",
    "    for i in range(len(p)):\n",
    "        dis += (p[i] - q[i])**2\n",
    "    return dis**0.5\n",
    "\n",
    "print(distanse(my_tuple1, my_tuple2))"
   ]
  },
  {
   "cell_type": "markdown",
   "metadata": {},
   "source": [
    "Câu 4"
   ]
  },
  {
   "cell_type": "code",
   "execution_count": 7,
   "metadata": {},
   "outputs": [
    {
     "name": "stdout",
     "output_type": "stream",
     "text": [
      "(1, 0)\n"
     ]
    }
   ],
   "source": [
    "index = (my_tuple1.index(3), my_tuple2.index(3))\n",
    "print(index)"
   ]
  },
  {
   "cell_type": "code",
   "execution_count": null,
   "metadata": {},
   "outputs": [],
   "source": []
  }
 ],
 "metadata": {
  "kernelspec": {
   "display_name": "base",
   "language": "python",
   "name": "python3"
  },
  "language_info": {
   "codemirror_mode": {
    "name": "ipython",
    "version": 3
   },
   "file_extension": ".py",
   "mimetype": "text/x-python",
   "name": "python",
   "nbconvert_exporter": "python",
   "pygments_lexer": "ipython3",
   "version": "3.9.12"
  }
 },
 "nbformat": 4,
 "nbformat_minor": 2
}
