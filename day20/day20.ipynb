{
 "cells": [
  {
   "cell_type": "markdown",
   "metadata": {},
   "source": [
    "Basic Python - Work with Text Data<br>\n",
    "1. Mô tả: Làm quen với thư việ newspaper3k<br>\n",
    "Thư việ newspaper3k<br>\n",
    "- Trích xuất dữ liệu<br>\n",
    "- Hỗ trợ nhiều trang web<br>\n",
    "- Dễ sử dụng<br>\n",
    "- Mã nguồn mở<br>\n"
   ]
  },
  {
   "cell_type": "markdown",
   "metadata": {},
   "source": [
    "Thư viện nltk(Natural Language Toolkit)<br>\n",
    "- Phân tích cú pháp<br>\n",
    "- Phân loại từ<br>\n",
    "- Gán nhãn ngữ nghĩa<br>\n",
    "- Tóm tắt văn bản<br>\n",
    "- Dịch máy"
   ]
  },
  {
   "cell_type": "code",
   "execution_count": 1,
   "metadata": {},
   "outputs": [
    {
     "name": "stdout",
     "output_type": "stream",
     "text": [
      "Tòa án quân sự Mỹ thông báo Ryan Mays, thủy thủ bị tố đốt tàu đổ bộ USS Bonhomme Richard, được trắng án.\n",
      "\n",
      "Thủy thủ Ryan Mays, 21 tuổi, đã bị xét xử từ tuần trước với cáo buộc phóng hỏa nghiêm trọng và cố ý phá hủy tàu. Các công tố viên cho rằng Mays là một thủy thủ kiêu ngạo, đã phóng hỏa sau khi tức tối vì trượt tuyển dụng đặc nhiệm SEAL. Trong khi đó, Mays bác bỏ cáo buộc. Luật sư biện hộ nói rằng hải quân Mỹ sử dụng Mays như \"vật tế thần\" để che đậy sự quản lý yếu kém của các sĩ quan cấp cao.\n",
      "\n",
      "Ngày 30/9, thẩm phán tòa án quân sự ở San Diego Derek Butler ra phán quyết Mays trắng án. Ông cho biết không có đủ bằng chứng chứng minh thủy thủ này là người phóng hỏa.\n",
      "\n",
      "Ryan Mays, 21 tuổi (giữa), bày tỏ cảm xúc trong buổi họp báo sau phiên tòa ở San Diego ngày 30/9. Ảnh: KPBS\n",
      "\n",
      "Sau khi được tuyên trắng án, Mays gục xuống bàn khóc. Gary Barthel, luật sư biện hộ của Mays, cho hay thân chủ cảm giác như trút được gánh nặng ngàn cân. Mays bày tỏ \"biết ơn vì cuối cùng chuyện này đã kết thúc\" và gọi quãng thời gian này là \"hai năm khó khăn nhất đời tôi\".\n",
      "\n",
      "\"Tôi mất thời gian ở bên bạn bè. Tôi cũng mất bạn bè. Tôi mất thời gian ở bên gia đình và toàn bộ sự nghiệp ở hải quân\", Mays nói bên ngoài tòa án. \"Tôi rất mong được bắt đầu lại\".\n",
      "\n",
      "Tàu đổ bộ tấn công USS Bonhomme Richard trị giá 1,4 tỷ USD bốc cháy sáng 12/7/2020 khi neo đậu để bảo dưỡng tại quân cảng San Diego, bang California. Vụ cháy được dập tắt sau 4 ngày, khi ngọn lửa đã lan lên thượng tầng và khiến đài chỉ huy sụp đổ.\n",
      "\n",
      "63 thủy thủ và nhân viên cứu hỏa bị thương vì vụ nổ hoặc trong quá trình dập lửa. Hải quân Mỹ đánh giá USS Bonhomme Richard bị hư hại khoảng 60% và quyết định không sửa chữa do chi phí quá cao và mất quá nhiều thời gian. Lực lượng này sau đó loại biên và chi khoảng 30 triệu USD để rã sắt vụn con tàu.\n",
      "\n",
      "Hải quân Mỹ tháng 10/2021 công bố báo cáo điều tra nói rằng vụ cháy là hậu quả từ một loạt lỗi và sự cố liên quan đến 36 quân nhân, bao gồm các chỉ huy cấp cao. Ngay cả trước khi hỏa hoạn xảy ra, thiết bị chữa cháy, phát hiện nhiệt và liên lạc trên con tàu đã xuống cấp đáng kể. Thủy thủ đoàn của tàu cũng có khả năng chữa cháy kém.\n",
      "\n",
      "Hiện trường vụ cháy tàu chiến USS Bonhomme Richard tại Căn cứ Hải quân San Diego hồi tháng 7/2020. Ảnh: AFP.\n",
      "\n",
      "Hồng Hạnh (Theo CNN)\n",
      "{'https://i2-vnexpress.vnecdn.net/2022/10/01/-1682-1664624199.jpg?w=1200&h=0&q=100&dpr=1&fit=crop&s=mHyEjt0lGyHi5vm958-SKw', 'https://s1.vnecdn.net/vnexpress/restruct/c/v2627/v2_2019/pc/images/graphics/menu-myvne.svg', 'data:image/gif;base64,R0lGODlhAQABAAAAACH5BAEKAAEALAAAAAABAAEAAAICTAEAOw==', 'https://s1.vnecdn.net/vnexpress/restruct/i/v874/v2_2019/pc/graphics/logo.svg'}\n"
     ]
    }
   ],
   "source": [
    "from newspaper import Article\n",
    "\n",
    "#Tao mot doi tuong Article từ URL của bài báo\n",
    "article = Article('https://vnexpress.net/thoi-tiet-mien-bac-mien-trung-mien-nam-ngay-14-3-4518045.html')\n",
    "\n",
    "#Tải bài báo\n",
    "article.download()\n",
    "article.parse()\n",
    "\n",
    "#In bài báo\n",
    "print(article.text)\n",
    "\n",
    "#Lay toan bo anh trong bài báo\n",
    "print(article.images)"
   ]
  },
  {
   "cell_type": "markdown",
   "metadata": {},
   "source": [
    "Thư viện nltk"
   ]
  },
  {
   "cell_type": "code",
   "execution_count": null,
   "metadata": {},
   "outputs": [],
   "source": [
    "import nltk\n",
    "from nltk.tokenize import word_tokenize\n",
    "\n",
    "# nltk.download('punkt')\n",
    "\n",
    "data = \"Tôi thích học AI và Toán\"\n",
    "\n",
    "#Bước 1: Tokenization data\n",
    "tokenization = word_tokenize(data)\n",
    "\n",
    "#Bước 2: Gọi thư viện Pos tagging\n",
    "result = nltk.pos_tag(tokenization)\n",
    "print(result)"
   ]
  },
  {
   "cell_type": "code",
   "execution_count": 3,
   "metadata": {},
   "outputs": [
    {
     "ename": "NameError",
     "evalue": "name 'nltk' is not defined",
     "output_type": "error",
     "traceback": [
      "\u001b[1;31m---------------------------------------------------------------------------\u001b[0m",
      "\u001b[1;31mNameError\u001b[0m                                 Traceback (most recent call last)",
      "Input \u001b[1;32mIn [3]\u001b[0m, in \u001b[0;36m<cell line: 1>\u001b[1;34m()\u001b[0m\n\u001b[1;32m----> 1\u001b[0m \u001b[43mnltk\u001b[49m\u001b[38;5;241m.\u001b[39mdownload(\u001b[38;5;124m'\u001b[39m\u001b[38;5;124maveraged_perceptron_tagger\u001b[39m\u001b[38;5;124m'\u001b[39m)\n",
      "\u001b[1;31mNameError\u001b[0m: name 'nltk' is not defined"
     ]
    }
   ],
   "source": [
    "nltk.download('averaged_perceptron_tagger')"
   ]
  },
  {
   "cell_type": "markdown",
   "metadata": {},
   "source": [
    "Câu 1"
   ]
  },
  {
   "cell_type": "code",
   "execution_count": 3,
   "metadata": {},
   "outputs": [
    {
     "name": "stdout",
     "output_type": "stream",
     "text": [
      "Kỹ sư phần mềm được tạo từ AI với tên Devin có thể tự lập trình, hoạt động độc lập khi được giao nhiệm vụ, giúp kỹ sư con người giảm bớt thời gian làm việc.\n",
      "\n",
      "Ngày 13/3, Cognition Labs, startup về công nghệ trí tuệ nhân tạo tại Mỹ, công bố kỹ sư phát triển phần mềm AI đầu tiên trên thế giới. \"Devin là một đồng đội tài năng và không biết mệt, sẵn sàng làm cùng bạn hoặc tự hoàn thành nhiệm vụ để bạn đánh giá. Với Devin, các kỹ sư có thể tập trung vào những vấn đề thú vị hơn, các đội kỹ thuật có thể nỗ lực cho những mục tiêu tham vọng hơn\", Cognition cho biết.\n",
      "\n",
      "Minh họa về robot lập trình do ChatGPT tạo ra.\n",
      "\n",
      "Đây là sản phẩm của một nhóm kỹ sư đang làm việc tại nhiều công ty lớn như Google DeepMind, Waymo, Scale AI, được dẫn dắt bởi các kỹ sư gồm Scott Wu, Steven Hao và Walden Yan. Dù hoạt động một thời gian, Cognition Labs mới thực sự được thành lập vào đầu năm nay và gọi vốn được 21 triệu USD. Trong phần giới thiệu, họ mô tả mình là một \"nhóm nhỏ nhưng nhiều tài năng\", với những người sáng lập từng giành được 10 huy chương vàng Olympic Tin học quốc tế.\n",
      "\n",
      "Trước Devin, thế giới cũng có những trợ lý AI hỗ trợ lập trình như Github Copilot hoặc các chatbot ChatGPT, Google Bard. Tuy nhiên, Devin khác biệt vì có thể xử lý toàn bộ quá trình phát triển từ đầu đến cuối.\n",
      "\n",
      "Trong video giới thiệu, Scott Wu, CEO của Cognition Labs, đã mô tả cách người dùng Devin có thể viết code ban đầu, theo dõi dòng lệnh, kiểm tra và sửa lỗi, thậm chí quản lý những dự án trên nền tảng như Upwork. Devin có thể tìm kiếm trên Internet để học cách hoàn thành nhiệm vụ. Nhờ đó, các kỹ sư sẽ có trong tay một nhân viên AI đầy đủ năng lực để tham gia dự án thay vì một trợ lý chỉ có thể gợi ý những đoạn code.\n",
      "\n",
      "Giới thiệu về Devin - kỹ sư lập trình AI đầu tiên thế giới Đồng sáng lập Scott Wu giới thiệu về khả năng lập trình của Devin. Video: cognition-labs\n",
      "\n",
      "Để sử dụng, người dùng nhập câu lệnh bằng ngôn ngữ tự nhiên vào giao diện kiểu chatbot của Devin và kỹ sư AI này sẽ xử lý tiếp. Nó sẽ lên kế hoạch chi tiết để giải quyết vấn đề theo từng bước.\n",
      "\n",
      "Tiếp theo, Devin sẽ khởi động dự án bằng cách sử dụng những công cụ dành cho nhà phát triển. Nó sẽ viết code, khắc phục lỗi, kiểm tra và báo cáo tiến trình theo thời gian thực, cho phép người dùng theo dõi mọi thứ và đề phòng những điều ngoài ý muốn. Nếu thấy sai sót, người dùng có thể vào giao diện chat và ra lệnh cho AI thực hiện thay đổi. Điều này giúp các đội kỹ thuật giao một số nhiệm vụ của mình cho AI và tập trung vào các dự án sáng tạo hơn, đòi hỏi trí thông minh của con người.\n",
      "\n",
      "Trong thử nghiệm của Bloomberg, Devin có thể lập trình trò chơi Pong cơ bản và tạo một trang web trong chưa đầy 20 phút.\n",
      "\n",
      "Theo công bố của nhà phát triển, khi đánh giá dựa trên tiêu chuẩn SWE-Bench về việc giải quyết các vấn đề trên GitHub, Devin giải quyết chính xác 13,86% các vấn mà không cần hỗ trợ. Trong khi với mô hình trước đó, hiệu suất chỉ đạt 1,96% và cao nhất là 4,80% nếu được hỗ trợ.\n",
      "\n",
      "Hiệu suất giải quyết các vấn đề về lập trình của Devin so với các mô hình AI khác. Ảnh: cognition-labs\n",
      "\n",
      "Tuy nhiên, hiện Devin chưa được cung cấp rộng rãi mà chỉ dành cho một số người dùng đã đăng ký trước và được chọn. Nhà phát triển cho biết sản phẩm này chỉ là bước đầu trong việc phát triển các kỹ sư AI của mình.\n",
      "\n",
      "\"Chúng tôi đang phát triển những đồng đội AI với khả năng vượt xa công cụ AI hiện nay. Bằng cách giải quyết vấn đề lý luận, chúng tôi có thể mở ra những khả năng mới trong nhiều lĩnh vực - code chỉ là bước khởi đầu. Chúng tôi muốn giúp mọi người trên thế giới biến ý tưởng của họ thành hiện thực\", Cognition giải thích.\n",
      "\n",
      "Sản phẩm của Cogniton Labs được đánh giá là minh họa rõ nhất cho nhận định trước đó của nhà sáng lập Nvidia Jensen Huang. Tại một sự kiện cuối tháng 2 vừa qua, ông Huang từng gây sốc khi khuyên người trẻ không học viết mã.\n",
      "\n",
      "Theo ông, con người đang ở giai đoạn đầu của cuộc cách mạng AI và lập trình không còn là kỹ năng quan trọng nữa. Ông cho rằng trí tuệ nhân tạo đang đảm nhận công việc này ngày một tốt, do đó con người nên tập trung vào các chuyên môn có giá trị hơn như sinh học, giáo dục, sản xuất hoặc nông nghiệp.\n",
      "\n",
      "Thu Thảo - Lưu Quý\n"
     ]
    }
   ],
   "source": [
    "article2 = Article('https://vnexpress.net/ky-su-phan-mem-ai-dau-tien-tren-the-gioi-4722040.html?fbclid=IwAR3MMzytxGifRXufWUMM1tAHm9kHVnJEelwMlhYNZA5p_OmqF5jrHmAoh-I')\n",
    "\n",
    "#Download article\n",
    "article2.download()\n",
    "article2.parse()\n",
    "\n",
    "#Print article\n",
    "print(article2.text)\n"
   ]
  },
  {
   "cell_type": "markdown",
   "metadata": {},
   "source": [
    "Cau 2:"
   ]
  },
  {
   "cell_type": "code",
   "execution_count": null,
   "metadata": {},
   "outputs": [],
   "source": []
  }
 ],
 "metadata": {
  "kernelspec": {
   "display_name": "base",
   "language": "python",
   "name": "python3"
  },
  "language_info": {
   "codemirror_mode": {
    "name": "ipython",
    "version": 3
   },
   "file_extension": ".py",
   "mimetype": "text/x-python",
   "name": "python",
   "nbconvert_exporter": "python",
   "pygments_lexer": "ipython3",
   "version": "3.9.12"
  }
 },
 "nbformat": 4,
 "nbformat_minor": 2
}
