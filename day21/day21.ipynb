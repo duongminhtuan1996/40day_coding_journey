{
 "cells": [
  {
   "cell_type": "markdown",
   "metadata": {},
   "source": [
    "Basic Python - File"
   ]
  },
  {
   "cell_type": "markdown",
   "metadata": {},
   "source": [
    "Cau 1:"
   ]
  },
  {
   "cell_type": "code",
   "execution_count": 1,
   "metadata": {},
   "outputs": [
    {
     "name": "stdout",
     "output_type": "stream",
     "text": [
      "He who conquers himself is the mightiest warrior\n",
      "Try not to become a man of success but rather become a man of value\n",
      "One man with courage makes a majority\n",
      "One secret of success in life is for a man to be ready for his opportunity when it comes\n",
      "The successful man will profit from his mistakes and try again in a different way\n",
      "A successful man is one who can lay a firm foundation with the bricks others have thrown at him\n",
      "Success usually comes to those who are too busy looking for it\n",
      "We cannot solve problems with the kind of thinking we employed when we came up with them\n",
      "Just one small positive thought in the morning can change your whole day\n",
      "You can get everything in life you want if you will just help enough other people get what they want\n"
     ]
    }
   ],
   "source": [
    "with open('data.txt', 'r') as f:\n",
    "    data = f.read()\n",
    "\n",
    "print(data)"
   ]
  },
  {
   "cell_type": "code",
   "execution_count": 2,
   "metadata": {},
   "outputs": [
    {
     "name": "stdout",
     "output_type": "stream",
     "text": [
      "he who conquers himself is the mightiest warrior try not to become a man of success but rather become a man of value one man with courage makes a majority one secret of success in life is for a man to be ready for his opportunity when it comes the successful man will profit from his mistakes and try again in a different way a successful man is one who can lay a firm foundation with the bricks others have thrown at him success usually comes to those who are too busy looking for it we cannot solve problems with the kind of thinking we employed when we came up with them just one small positive thought in the morning can change your whole day you can get everything in life you want if you will just help enough other people get what they want\n"
     ]
    }
   ],
   "source": [
    "data = data.replace('\\n', ' ')\n",
    "data = data.lower()\n",
    "print(data)"
   ]
  },
  {
   "cell_type": "markdown",
   "metadata": {},
   "source": [
    "Cau 2"
   ]
  },
  {
   "cell_type": "code",
   "execution_count": 3,
   "metadata": {},
   "outputs": [
    {
     "name": "stdout",
     "output_type": "stream",
     "text": [
      "{'not', 'change', 'problems', 'in', 'mistakes', 'success', 'with', 'when', 'positive', 'value', 'try', 'thought', 'ready', 'way', 'a', 'them', 'they', 'the', 'what', 'everything', 'are', 'warrior', 'successful', 'enough', 'will', 'life', 'usually', 'mightiest', 'help', 'lay', 'your', 'be', 'from', 'looking', 'other', 'busy', 'of', 'conquers', 'day', 'others', 'secret', 'is', 'whole', 'if', 'solve', 'to', 'employed', 'cannot', 'thrown', 'who', 'majority', 'for', 'become', 'we', 'profit', 'just', 'he', 'different', 'morning', 'him', 'small', 'get', 'makes', 'have', 'again', 'people', 'can', 'foundation', 'kind', 'came', 'courage', 'and', 'man', 'bricks', 'comes', 'at', 'thinking', 'it', 'want', 'up', 'too', 'one', 'his', 'opportunity', 'rather', 'but', 'himself', 'those', 'firm', 'you'}\n"
     ]
    }
   ],
   "source": [
    "distinct_word = set(data.split())\n",
    "print(distinct_word)"
   ]
  },
  {
   "cell_type": "code",
   "execution_count": 4,
   "metadata": {},
   "outputs": [],
   "source": [
    "distinct_word = sorted(distinct_word)"
   ]
  },
  {
   "cell_type": "code",
   "execution_count": 12,
   "metadata": {},
   "outputs": [
    {
     "name": "stdout",
     "output_type": "stream",
     "text": [
      "a, again, and, are, at, be, become, bricks, busy, but, came, can, cannot, change, comes, conquers, courage, day, different, employed, enough, everything, firm, for, foundation, from, get, have, he, help, him, himself, his, if, in, is, it, just, kind, lay, life, looking, majority, makes, man, mightiest, mistakes, morning, not, of, one, opportunity, other, others, people, positive, problems, profit, rather, ready, secret, small, solve, success, successful, the, them, they, thinking, those, thought, thrown, to, too, try, up, usually, value, want, warrior, way, we, what, when, who, whole, will, with, you, your, "
     ]
    }
   ],
   "source": [
    "for x in distinct_word:\n",
    "    print(x, end=', ')"
   ]
  },
  {
   "cell_type": "markdown",
   "metadata": {},
   "source": [
    "Cau 3:"
   ]
  },
  {
   "cell_type": "code",
   "execution_count": 13,
   "metadata": {},
   "outputs": [],
   "source": [
    "dict_word = dict()\n",
    "for word in data.split():\n",
    "    if word in distinct_word and word in dict_word.keys():\n",
    "        dict_word[word] = dict_word[word] + 1\n",
    "    elif word in distinct_word and word not in dict_word.keys():\n",
    "        dict_word[word] = 1"
   ]
  },
  {
   "cell_type": "code",
   "execution_count": 14,
   "metadata": {},
   "outputs": [
    {
     "name": "stdout",
     "output_type": "stream",
     "text": [
      "thought in data is 1\n",
      "you in data is 3\n",
      "a is most frequent word\n",
      "makes is the least common word\n"
     ]
    }
   ],
   "source": [
    "x = 'thought'\n",
    "print(f'{x} in data is {dict_word[x]}')\n",
    "x = 'you'\n",
    "print(f'{x} in data is {dict_word[x]}')\n",
    "for x in dict_word.keys():\n",
    "    if dict_word[x] == max(dict_word.values()):\n",
    "        print(f'{x} is most frequent word')\n",
    "\n",
    "x = 'makes'\n",
    "print(f'{x} is the least common word')"
   ]
  },
  {
   "cell_type": "code",
   "execution_count": null,
   "metadata": {},
   "outputs": [],
   "source": []
  }
 ],
 "metadata": {
  "kernelspec": {
   "display_name": "base",
   "language": "python",
   "name": "python3"
  },
  "language_info": {
   "codemirror_mode": {
    "name": "ipython",
    "version": 3
   },
   "file_extension": ".py",
   "mimetype": "text/x-python",
   "name": "python",
   "nbconvert_exporter": "python",
   "pygments_lexer": "ipython3",
   "version": "3.9.12"
  }
 },
 "nbformat": 4,
 "nbformat_minor": 2
}
