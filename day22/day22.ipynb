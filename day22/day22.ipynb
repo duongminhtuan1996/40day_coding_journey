{
 "cells": [
  {
   "cell_type": "markdown",
   "metadata": {},
   "source": [
    "Basic Python - While-Loop<br>\n",
    "- Sự ngẫu nhiên là đặc điểm cơ bản của hiện tượng trong thực tế. -> thể hiện qua thí nghiệm không đoán trước được.<br>\n",
    "- Cáu trúc lắp While-loop: "
   ]
  },
  {
   "cell_type": "markdown",
   "metadata": {},
   "source": [
    "Bài tập"
   ]
  },
  {
   "cell_type": "code",
   "execution_count": 6,
   "metadata": {},
   "outputs": [],
   "source": [
    "import random\n",
    "def random_number_with_conđition(total):\n",
    "    #Set a random value that is the same between devices\n",
    "    random.seed(0)\n",
    "    a = b = i = 0\n",
    "    while (a + b) != total:\n",
    "        a = random.randint(1, 20)\n",
    "        b = random.randint(1, 20)\n",
    "        i += 1\n",
    "    return i"
   ]
  },
  {
   "cell_type": "code",
   "execution_count": 8,
   "metadata": {},
   "outputs": [
    {
     "name": "stdout",
     "output_type": "stream",
     "text": [
      "Test case 1: 266 lần\n",
      "Test case 2: 32 lần\n",
      "Test case 3: 96 lần\n"
     ]
    }
   ],
   "source": [
    "print(f'Test case 1: {random_number_with_conđition(40)} lần')\n",
    "print(f'Test case 2: {random_number_with_conđition(20)} lần')\n",
    "print(f'Test case 3: {random_number_with_conđition(35)} lần')"
   ]
  },
  {
   "cell_type": "markdown",
   "metadata": {},
   "source": [
    "break - continue<br>\n",
    "Cách 1:"
   ]
  },
  {
   "cell_type": "code",
   "execution_count": 9,
   "metadata": {},
   "outputs": [],
   "source": [
    "def find_divisible_number(a):\n",
    "    \"\"\"\n",
    "    Find the smallest integer that is greate than 100 \n",
    "    and divisible byy the integer x:\n",
    "    \"\"\"\n",
    "    number = 101\n",
    "    while (number % a) != 0:\n",
    "        number += 1\n",
    "    return number"
   ]
  },
  {
   "cell_type": "markdown",
   "metadata": {},
   "source": [
    "Cach 2:"
   ]
  },
  {
   "cell_type": "code",
   "execution_count": 11,
   "metadata": {},
   "outputs": [],
   "source": [
    "def find_divisible_number(a):\n",
    "    \"\"\"\n",
    "    Find the smallest integer that is greate than 100 \n",
    "    and divisible byy the integer x:\n",
    "    \"\"\"\n",
    "    number = 0\n",
    "    while True:\n",
    "        if number > 100 and (number % a == 0):\n",
    "            break\n",
    "        number += 1\n",
    "    return number"
   ]
  },
  {
   "cell_type": "code",
   "execution_count": 12,
   "metadata": {},
   "outputs": [
    {
     "data": {
      "text/plain": [
       "105"
      ]
     },
     "execution_count": 12,
     "metadata": {},
     "output_type": "execute_result"
    }
   ],
   "source": [
    "find_divisible_number(5)"
   ]
  },
  {
   "cell_type": "code",
   "execution_count": 34,
   "metadata": {},
   "outputs": [
    {
     "data": {
      "text/plain": [
       "102"
      ]
     },
     "execution_count": 34,
     "metadata": {},
     "output_type": "execute_result"
    }
   ],
   "source": [
    "find_divisible_number(17)"
   ]
  },
  {
   "cell_type": "markdown",
   "metadata": {},
   "source": [
    "Newton's Method: Phương pháp số học tìm gần đúng của nghiệm 1 hàm số thực: thường được dùng tìm nghiệm pt f(x) = 0<br>\n",
    "- Ngoài ứng dụng tìm nghiệm: còn ứng dụng trong máy học tìm nghiệm đạo hàm của hàm loss, nhưng ko phổ biến bằng pp gradient descent.<br>\n",
    "<ul>Các bước :<br>\n",
    "<li>Bước 1: </li>\n"
   ]
  },
  {
   "cell_type": "code",
   "execution_count": 1,
   "metadata": {},
   "outputs": [],
   "source": [
    "def find_squared_root(a):\n",
    "    \"\"\"Find the squared root of number a\"\"\"\n",
    "    EPSILON = 0.001\n",
    "    x = a\n",
    "    n = 0\n",
    "    while True:\n",
    "        f_x = x**2 - a\n",
    "        f_x_comma = 2 * x\n",
    "        x_new =  x - (f_x/f_x_comma)\n",
    "        if abs(x_new - x) <= EPSILON:\n",
    "            break\n",
    "        x = x_new\n",
    "        n += 1\n",
    "    return x, n, (x_new-x)"
   ]
  },
  {
   "cell_type": "code",
   "execution_count": 2,
   "metadata": {},
   "outputs": [
    {
     "data": {
      "text/plain": [
       "(1.4142156862745099, 4, -2.123899820016817e-06)"
      ]
     },
     "execution_count": 2,
     "metadata": {},
     "output_type": "execute_result"
    }
   ],
   "source": [
    "find_squared_root(2)"
   ]
  },
  {
   "cell_type": "code",
   "execution_count": 3,
   "metadata": {},
   "outputs": [
    {
     "data": {
      "text/plain": [
       "(1.7321428571428572, 4, -9.204712812960203e-05)"
      ]
     },
     "execution_count": 3,
     "metadata": {},
     "output_type": "execute_result"
    }
   ],
   "source": [
    "find_squared_root(3)"
   ]
  },
  {
   "cell_type": "code",
   "execution_count": null,
   "metadata": {},
   "outputs": [],
   "source": []
  }
 ],
 "metadata": {
  "kernelspec": {
   "display_name": "base",
   "language": "python",
   "name": "python3"
  },
  "language_info": {
   "codemirror_mode": {
    "name": "ipython",
    "version": 3
   },
   "file_extension": ".py",
   "mimetype": "text/x-python",
   "name": "python",
   "nbconvert_exporter": "python",
   "pygments_lexer": "ipython3",
   "version": "3.9.12"
  }
 },
 "nbformat": 4,
 "nbformat_minor": 2
}
