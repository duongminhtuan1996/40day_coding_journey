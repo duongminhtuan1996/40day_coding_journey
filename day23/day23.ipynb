{
 "cells": [
  {
   "cell_type": "markdown",
   "metadata": {},
   "source": [
    "Các hàm khởi tạo Numpy array và pytorch/tensorflow tensor - Phần 2:<br>\n",
    "1. Mô tả<br>\n",
    "- Tìm hiểu các hàm arrange, range, eye, random"
   ]
  },
  {
   "cell_type": "code",
   "execution_count": 2,
   "metadata": {},
   "outputs": [],
   "source": [
    "import numpy as np\n",
    "import torch\n",
    "import tensorflow as tf"
   ]
  },
  {
   "cell_type": "code",
   "execution_count": 5,
   "metadata": {},
   "outputs": [
    {
     "name": "stdout",
     "output_type": "stream",
     "text": [
      "[0 1 2 3 4]\n",
      "tensor([1, 2, 3, 4])\n",
      "tf.Tensor([1 2 3 4], shape=(4,), dtype=int32)\n"
     ]
    }
   ],
   "source": [
    "#a: arange, range\n",
    "arr_np = np.arange(0, 5, 1)\n",
    "print(arr_np)\n",
    "\n",
    "arr_pt = torch.arange(1, 5, 1)\n",
    "print(arr_pt)\n",
    "\n",
    "arr_tf = tf.range(1, 5, 1)\n",
    "print(arr_tf)"
   ]
  },
  {
   "cell_type": "code",
   "execution_count": 8,
   "metadata": {},
   "outputs": [
    {
     "name": "stdout",
     "output_type": "stream",
     "text": [
      "[[1. 0. 0.]\n",
      " [0. 1. 0.]\n",
      " [0. 0. 1.]]\n",
      "tensor([[1., 0.],\n",
      "        [0., 1.],\n",
      "        [0., 0.]])\n",
      "tf.Tensor(\n",
      "[[1. 0. 0.]\n",
      " [0. 1. 0.]\n",
      " [0. 0. 1.]], shape=(3, 3), dtype=float32)\n"
     ]
    }
   ],
   "source": [
    "# hàm eye.\n",
    "eye_np = np.eye(3,3)\n",
    "print(eye_np)\n",
    "\n",
    "eye_pt = torch.eye(3, 2)\n",
    "print(eye_pt)\n",
    "\n",
    "eye_tf = tf.eye(3, 3)\n",
    "print(eye_tf)"
   ]
  },
  {
   "cell_type": "code",
   "execution_count": 12,
   "metadata": {},
   "outputs": [
    {
     "name": "stdout",
     "output_type": "stream",
     "text": [
      "[[8 2 8]\n",
      " [7 6 5]]\n",
      "tensor([[6, 5, 7],\n",
      "        [2, 6, 4]])\n",
      "tf.Tensor(\n",
      "[[7 2 2]\n",
      " [4 5 8]], shape=(2, 3), dtype=int32)\n"
     ]
    }
   ],
   "source": [
    "#c, hàm random\n",
    "ran_np = np.random.randint(1, 10, (2, 3))\n",
    "print(ran_np)\n",
    "\n",
    "ran_pt = torch.randint(1, 10, (2, 3))\n",
    "print(ran_pt)\n",
    "\n",
    "ran_tf = tf.random.uniform((2, 3), 1, 10, dtype=tf.int32) #dtype=tf.float kieu du lieu se la so thuc\n",
    "print(ran_tf)\n"
   ]
  },
  {
   "cell_type": "markdown",
   "metadata": {},
   "source": [
    "2. Bai tap"
   ]
  },
  {
   "cell_type": "code",
   "execution_count": 14,
   "metadata": {},
   "outputs": [
    {
     "name": "stdout",
     "output_type": "stream",
     "text": [
      "[0 1 2 3 4 5 6 7 8 9]\n",
      "tensor([0, 1, 2, 3, 4, 5, 6, 7, 8, 9])\n",
      "tf.Tensor([0 1 2 3 4 5 6 7 8 9], shape=(10,), dtype=int32)\n"
     ]
    }
   ],
   "source": [
    "#Cau 1: \n",
    "arr_np = np.arange(0, 10, 1) #np.arange(10)\n",
    "print(arr_np)\n",
    "\n",
    "arr_pt = torch.arange(0, 10, 1) #torch.arange(10)\n",
    "print(arr_pt)\n",
    "\n",
    "arr_tf = tf.range(0, 10, 1) #tf.range(10)\n",
    "print(arr_tf)"
   ]
  },
  {
   "cell_type": "code",
   "execution_count": 16,
   "metadata": {},
   "outputs": [
    {
     "name": "stdout",
     "output_type": "stream",
     "text": [
      "[[1. 0. 0.]\n",
      " [0. 1. 0.]\n",
      " [0. 0. 1.]]\n",
      "tensor([[1., 0., 0.],\n",
      "        [0., 1., 0.],\n",
      "        [0., 0., 1.]])\n",
      "tf.Tensor(\n",
      "[[1. 0. 0.]\n",
      " [0. 1. 0.]\n",
      " [0. 0. 1.]], shape=(3, 3), dtype=float32)\n"
     ]
    }
   ],
   "source": [
    "#Cau 2:\n",
    "eye_np = np.eye(3, 3)  #np.eye(3)\n",
    "print(eye_np)\n",
    "\n",
    "eye_pt = torch.eye(3,3) #torch.eye(3)\n",
    "print(eye_pt)\n",
    "\n",
    "eye_tf = tf.eye(3,3) #tf.eye(3)\n",
    "print(eye_tf)"
   ]
  },
  {
   "cell_type": "code",
   "execution_count": 34,
   "metadata": {},
   "outputs": [
    {
     "name": "stdout",
     "output_type": "stream",
     "text": [
      "[[0.58801452 0.69910875 0.18815196 0.04380856]\n",
      " [0.20501895 0.10606287 0.72724014 0.67940052]\n",
      " [0.4738457  0.44829582 0.01910695 0.75259834]]\n",
      "tensor([[0.5317, 0.8313, 0.9718, 0.1193],\n",
      "        [0.1669, 0.3495, 0.2150, 0.6201],\n",
      "        [0.4849, 0.7492, 0.1521, 0.5625]])\n",
      "tf.Tensor(\n",
      "[[0.90034294 0.19453335 0.36069036 0.66361904]\n",
      " [0.76605344 0.2159369  0.6261736  0.07380784]\n",
      " [0.22062695 0.934368   0.93327904 0.69267046]], shape=(3, 4), dtype=float32)\n"
     ]
    }
   ],
   "source": [
    "#Cau 3:\n",
    "np.random.seed(2024)\n",
    "ran_np = np.random.uniform(0, 1, (3, 4)) #np.random.rand(3, 4)\n",
    "print(ran_np)\n",
    "\n",
    "torch.manual_seed(2024)\n",
    "ran_pt = torch.rand(3, 4)\n",
    "print(ran_pt)\n",
    "\n",
    "tf.random.set_seed(2024)\n",
    "ran_tf = tf.random.uniform((3, 4), 0, 1, dtype=tf.float32) #tf.random.uniform((3, 4))\n",
    "print(ran_tf)"
   ]
  },
  {
   "cell_type": "code",
   "execution_count": 35,
   "metadata": {},
   "outputs": [
    {
     "name": "stdout",
     "output_type": "stream",
     "text": [
      "[[ -2 -10 -10  -6]\n",
      " [ -1  -9  -7   0]\n",
      " [ -8 -10  -5   7]]\n",
      "tensor([[  2,   0,  -6, -10],\n",
      "        [ -7, -10,   0,   1],\n",
      "        [  3,   9,   7,  -6]])\n",
      "tf.Tensor(\n",
      "[[-6 -2  0 -2]\n",
      " [ 4  4 -9  3]\n",
      " [ 7  1  2 -5]], shape=(3, 4), dtype=int32)\n"
     ]
    }
   ],
   "source": [
    "np.random.seed(2024)\n",
    "ran_np = np.random.randint(-10, 10, (3, 4))\n",
    "print(ran_np)\n",
    "\n",
    "torch.manual_seed(2024)\n",
    "ran_pt = torch.randint(-10, 10, (3, 4))\n",
    "print(ran_pt)\n",
    "\n",
    "tf.random.set_seed(2024)\n",
    "ran_tf = tf.random.uniform((3, 4), -10, 10, dtype=tf.int32)\n",
    "print(ran_tf)"
   ]
  },
  {
   "cell_type": "code",
   "execution_count": null,
   "metadata": {},
   "outputs": [],
   "source": []
  }
 ],
 "metadata": {
  "kernelspec": {
   "display_name": "base",
   "language": "python",
   "name": "python3"
  },
  "language_info": {
   "codemirror_mode": {
    "name": "ipython",
    "version": 3
   },
   "file_extension": ".py",
   "mimetype": "text/x-python",
   "name": "python",
   "nbconvert_exporter": "python",
   "pygments_lexer": "ipython3",
   "version": "3.9.12"
  }
 },
 "nbformat": 4,
 "nbformat_minor": 2
}
