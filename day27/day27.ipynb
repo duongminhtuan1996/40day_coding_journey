{
 "cells": [
  {
   "cell_type": "markdown",
   "metadata": {},
   "source": [
    "Basic Python - work with text data"
   ]
  },
  {
   "cell_type": "markdown",
   "metadata": {},
   "source": [
    "Một số tính năng của thư viện underthesea<br>\n",
    "- Phân chia câu\n",
    "- Phân loại từ\n",
    "- Gán thể POS\n",
    "- Nhận dạng thực thể tên riêng\n",
    "- Phân loại văn bản\n",
    "- Tóm tắt văn bản\n",
    "- Trích xuất quan điểm\n",
    "- Dịch máy<br>"
   ]
  },
  {
   "cell_type": "markdown",
   "metadata": {},
   "source": [
    "Mốt số ưu điểm:<br>\n",
    "- Mã nguồn mở\n",
    "- Dễ sử dụng\n",
    "- Hiệu quả\n",
    "- Cộng đồng lớn.\n",
    "-------------------------------------------------"
   ]
  },
  {
   "cell_type": "markdown",
   "metadata": {},
   "source": [
    "- Gán nhãn từ loại(POS tagging)"
   ]
  },
  {
   "cell_type": "code",
   "execution_count": 2,
   "metadata": {},
   "outputs": [
    {
     "data": {
      "text/plain": [
       "[('Học sinh', 'N'), ('đang', 'R'), ('học', 'V'), ('toán', 'N')]"
      ]
     },
     "execution_count": 2,
     "metadata": {},
     "output_type": "execute_result"
    }
   ],
   "source": [
    "from underthesea import pos_tag\n",
    "pos_tag('Học sinh đang học toán')"
   ]
  },
  {
   "cell_type": "markdown",
   "metadata": {},
   "source": [
    "- Phân loại vưn bản(Text classification)"
   ]
  },
  {
   "cell_type": "code",
   "execution_count": 4,
   "metadata": {},
   "outputs": [
    {
     "data": {
      "text/plain": [
       "['kinh_doanh']"
      ]
     },
     "execution_count": 4,
     "metadata": {},
     "output_type": "execute_result"
    }
   ],
   "source": [
    "from underthesea import classify\n",
    "\n",
    "classify('giá trị cổ phiếu đang có nhiều biến động trong thời gian quan')"
   ]
  },
  {
   "cell_type": "markdown",
   "metadata": {},
   "source": [
    "Phân tích cảm xúc (Sentiment Analysis)"
   ]
  },
  {
   "cell_type": "code",
   "execution_count": 6,
   "metadata": {},
   "outputs": [
    {
     "data": {
      "text/plain": [
       "'negative'"
      ]
     },
     "execution_count": 6,
     "metadata": {},
     "output_type": "execute_result"
    }
   ],
   "source": [
    "from underthesea import sentiment\n",
    "\n",
    "sentiment('Sản phẩm mình đặt về không như quảng cáo')"
   ]
  },
  {
   "cell_type": "markdown",
   "metadata": {},
   "source": [
    "Phân đoạn câu văn (Sentence Segmentation)"
   ]
  },
  {
   "cell_type": "code",
   "execution_count": 7,
   "metadata": {},
   "outputs": [
    {
     "data": {
      "text/plain": [
       "['Những đứa trẻ nghèo thế hệ tồi biết đọc biết viết, thành người bắng những cuốn giáo khoa đi mượn như thế.',\n",
       " 'Cũng có những đứa nhà nghòe quá, không mượn đâu được bộ sách cho tử tế, môn được môn không, càng học càng đúp, cuối cùng bỏ dở giữa chừng']"
      ]
     },
     "execution_count": 7,
     "metadata": {},
     "output_type": "execute_result"
    }
   ],
   "source": [
    "from underthesea import sent_tokenize\n",
    "\n",
    "text = 'Những đứa trẻ nghèo thế hệ tồi biết đọc biết viết, thành người bắng những cuốn giáo khoa đi mượn như thế. Cũng có những đứa nhà nghòe quá, không mượn đâu được bộ sách cho tử tế, môn được môn không, càng học càng đúp, cuối cùng bỏ dở giữa chừng'\n",
    "sent_tokenize(text)"
   ]
  },
  {
   "cell_type": "markdown",
   "metadata": {},
   "source": [
    "Phân đoạn từ ngữ (Word Segmentation):"
   ]
  },
  {
   "cell_type": "code",
   "execution_count": 8,
   "metadata": {},
   "outputs": [
    {
     "data": {
      "text/plain": [
       "['Công trình',\n",
       " 'của',\n",
       " 'PSG Vân',\n",
       " 'đã',\n",
       " 'thay thế',\n",
       " 'bạch kim',\n",
       " 'trong',\n",
       " 'pin',\n",
       " 'nhiên liệu',\n",
       " ',',\n",
       " 'giúp',\n",
       " 'giá thành',\n",
       " 'mà',\n",
       " 'pin',\n",
       " 'có',\n",
       " 'độ',\n",
       " 'bền',\n",
       " 'cao',\n",
       " 'hơn',\n",
       " '.']"
      ]
     },
     "execution_count": 8,
     "metadata": {},
     "output_type": "execute_result"
    }
   ],
   "source": [
    "from underthesea import word_tokenize\n",
    "\n",
    "sentence = 'Công trình của PSG Vân đã thay thế bạch kim trong pin nhiên liệu, giúp giá thành mà pin có độ bền cao hơn.'\n",
    "\n",
    "word_tokenize(sentence)"
   ]
  },
  {
   "cell_type": "markdown",
   "metadata": {},
   "source": [
    "Bài tập"
   ]
  },
  {
   "cell_type": "code",
   "execution_count": 11,
   "metadata": {},
   "outputs": [
    {
     "name": "stdout",
     "output_type": "stream",
     "text": [
      "[('Công dụng', 'N'), ('Suno AI', 'Np'), ('nhanh chóng', 'A'), ('nhận', 'V'), ('được', 'R'), ('sự', 'N'), ('chú ý', 'V'), ('từ', 'E'), ('người', 'N'), ('dùng', 'V'), ('khi', 'N'), ('có thể', 'R'), ('tạo', 'V'), ('bài', 'N'), ('hát', 'V'), ('chỉ', 'R'), ('với', 'E'), ('vài', 'L'), ('câu lệnh', 'N'), ('.', 'CH'), ('Phiên bản', 'N'), ('mới', 'A'), ('nhất', 'A'), ('V2 Alpha', 'Np'), ('mới', 'R'), ('được', 'V'), ('giới', 'Nc'), ('thiệ', 'N'), ('cuối', 'N'), ('tháng', 'N'), ('2 ,', 'M'), ('có', 'V'), ('bản', 'N'), ('miễn phí', 'V'), ('với', 'E'), ('10', 'M'), ('bài', 'N'), ('hát', 'V'), ('mỗi', 'L'), ('ngày', 'N'), ('.', 'CH')]\n",
      "['vi_tinh']\n",
      "positive\n",
      "['Công dụng Suno AI nhanh chóng nhận được sự chú ý từ người dùng khi có thể tạo bài hát chỉ với vài câu lệnh.', 'Phiên bản mới nhất V2 Alpha mới được giới thiệ cuối tháng 2, có bản miễn phí với 10 bài hát mỗi ngày.']\n",
      "['Công dụng', 'Suno AI', 'nhanh chóng', 'nhận', 'được', 'sự', 'chú ý', 'từ', 'người', 'dùng', 'khi', 'có thể', 'tạo', 'bài', 'hát', 'chỉ', 'với', 'vài', 'câu lệnh', '.', 'Phiên bản', 'mới', 'nhất', 'V2 Alpha', 'mới', 'được', 'giới', 'thiệ', 'cuối', 'tháng', '2 ,', 'có', 'bản', 'miễn phí', 'với', '10', 'bài', 'hát', 'mỗi', 'ngày', '.']\n"
     ]
    }
   ],
   "source": [
    "text = 'Công dụng Suno AI nhanh chóng nhận được sự chú ý từ người dùng khi có thể tạo bài hát chỉ với vài câu lệnh. Phiên bản mới nhất V2 Alpha mới được giới thiệ cuối tháng 2, có bản miễn phí với 10 bài hát mỗi ngày.'\n",
    "\n",
    "#Pos taging\n",
    "print(pos_tag(text))\n",
    "\n",
    "#Text classification\n",
    "print(classify(text))\n",
    "\n",
    "#Sentiment analysis\n",
    "print(sentiment(text))\n",
    "\n",
    "#Sentence Segmenttation:\n",
    "print(sent_tokenize(text))\n",
    "\n",
    "#Word segmentation\n",
    "print(word_tokenize(text))"
   ]
  },
  {
   "cell_type": "code",
   "execution_count": null,
   "metadata": {},
   "outputs": [],
   "source": []
  }
 ],
 "metadata": {
  "kernelspec": {
   "display_name": "base",
   "language": "python",
   "name": "python3"
  },
  "language_info": {
   "codemirror_mode": {
    "name": "ipython",
    "version": 3
   },
   "file_extension": ".py",
   "mimetype": "text/x-python",
   "name": "python",
   "nbconvert_exporter": "python",
   "pygments_lexer": "ipython3",
   "version": "3.9.12"
  }
 },
 "nbformat": 4,
 "nbformat_minor": 2
}
