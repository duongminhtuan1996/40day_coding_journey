{
 "cells": [
  {
   "cell_type": "markdown",
   "metadata": {},
   "source": [
    "Basic Python - work with text data"
   ]
  },
  {
   "cell_type": "markdown",
   "metadata": {},
   "source": [
    "1. Mô tả: Làm quen với thư viện translate và googletrans<br>\n",
    "- Thư viện Translate:\n",
    "- Googletrans: \n",
    "<table>\n",
    "  <tr>\n",
    "    <th>Tính năng</th>\n",
    "    <th>Thư viện Translate</th>\n",
    "    <th>Googletrans</th>\n",
    "  </tr>\n",
    "  <tr>\n",
    "    <td>Ngôn ngữ</td>\n",
    "    <td>Nhiều hơn</td>\n",
    "    <td>Ít hơn</td>\n",
    "  </tr>\n",
    "  <tr>\n",
    "    <td>Loại dữ liệu</td>\n",
    "    <td>Văn bản, mã, tài liệu, trang web</td>\n",
    "    <td>Văn bản</td>\n",
    "  </tr>\n",
    "  <tr>\n",
    "    <td>API</td>\n",
    "    <td>Phức tạp</td>\n",
    "    <td>Đơn giản</td>\n",
    "  </tr>\n",
    "  <tr>\n",
    "    <td>Dễ sử dụng</td>\n",
    "    <td>Khó hơn</td>\n",
    "    <td>Dễ hơn</td>\n",
    "  </tr>\n",
    "</table>"
   ]
  },
  {
   "cell_type": "code",
   "execution_count": 2,
   "metadata": {},
   "outputs": [
    {
     "name": "stdout",
     "output_type": "stream",
     "text": [
      "Đừng khóc vì nó đã kết thúc, hãy mỉm cười vì nó đã xảy ra\n"
     ]
    }
   ],
   "source": [
    "from translate import Translator\n",
    "\n",
    "translator = Translator(to_lang='vi')\n",
    "translation = translator.translate('Don\\'t cry because it\\'s over, smile because it happened')\n",
    "\n",
    "print(translation)"
   ]
  },
  {
   "cell_type": "code",
   "execution_count": 3,
   "metadata": {},
   "outputs": [
    {
     "name": "stdout",
     "output_type": "stream",
     "text": [
      "Translated(src=vi, dest=fr, text=Aujourd'hui, le temps n'est pas bon et pluvieux, pronunciation=None, extra_data=\"{'confiden...\")\n",
      "Aujourd'hui, le temps n'est pas bon et pluvieux\n"
     ]
    }
   ],
   "source": [
    "from googletrans import Translator\n",
    "\n",
    "#define a translate object\n",
    "translate = Translator()\n",
    "\n",
    "#Translate some text\n",
    "result = translate.translate('Hôm nay thời tiets không tốt và mưa nhiều', dest='fr')\n",
    "\n",
    "print(result)\n",
    "print(result.text)"
   ]
  },
  {
   "cell_type": "markdown",
   "metadata": {},
   "source": [
    "Bài tập:"
   ]
  },
  {
   "cell_type": "code",
   "execution_count": 2,
   "metadata": {},
   "outputs": [
    {
     "name": "stdout",
     "output_type": "stream",
     "text": [
      "Suno AI tools quickly get attention from users when they can create a song with just a fishing.The latest version of V3 Alpha was introduced at the end of February, with a free version with 10 songs a day.\n",
      "Suno AIツールは、釣りだけで曲を作成できる場合、ユーザーからすぐに注目を集めます。V3 Alphaの最新バージョンは2月末に紹介され、1日10曲の無料バージョンがありました。\n"
     ]
    }
   ],
   "source": [
    "from translate import Translator\n",
    "from googletrans import Translator as Trans_google\n",
    "\n",
    "text = 'Công cụ Suno AI nhanh chóng nhận được sự chú ý từ người ' \\\n",
    "        'dùng khi có thể tạo bài hát chỉ với cài câu lênh. ' \\\n",
    "        'Phiên bản mới nhất V3 Alpha mới được giới thiệu cuối tháng 2, ' \\\n",
    "        'có bản miễn phí với 10 bài hát mỗi ngày.'\n",
    "\n",
    "translate = Trans_google()\n",
    "\n",
    "result_en = translate.translate(text=text, dest='en')\n",
    "result_ja = translate.translate(text=text, dest='ja')\n",
    "print(result_en.text)\n",
    "print(result_ja.text)"
   ]
  },
  {
   "cell_type": "code",
   "execution_count": 21,
   "metadata": {},
   "outputs": [
    {
     "name": "stdout",
     "output_type": "stream",
     "text": [
      "Công cụ Suno AI nhanh chóng nhận được sự chú ý từ người \n"
     ]
    }
   ],
   "source": [
    "from translate import Translator\n",
    "\n",
    "translator = Translator(to_lang='en')\n",
    "\n",
    "text = 'Công cụ Suno AI nhanh chóng nhận được sự chú ý từ người '\n",
    "    \n",
    "\n",
    "translation = translator.translate(text)\n",
    "\n",
    "print(translation)\n"
   ]
  },
  {
   "cell_type": "code",
   "execution_count": 1,
   "metadata": {},
   "outputs": [],
   "source": [
    "data = [5, 3, 6, 7, 4]"
   ]
  },
  {
   "cell_type": "code",
   "execution_count": 4,
   "metadata": {},
   "outputs": [],
   "source": [
    "def my_get_mean(data):\n",
    "    N = len(data)\n",
    "    sum = 0\n",
    "    for value in data:\n",
    "        sum += value\n",
    "    return sum/N"
   ]
  },
  {
   "cell_type": "code",
   "execution_count": 3,
   "metadata": {},
   "outputs": [
    {
     "data": {
      "text/plain": [
       "5.0"
      ]
     },
     "execution_count": 3,
     "metadata": {},
     "output_type": "execute_result"
    }
   ],
   "source": [
    "get_mean(data)"
   ]
  },
  {
   "cell_type": "code",
   "execution_count": 6,
   "metadata": {},
   "outputs": [],
   "source": [
    "def my_get_var(data):\n",
    "    mean = my_get_mean(data)\n",
    "    var = 0\n",
    "    N = len(data)\n",
    "    for value in data:\n",
    "        var += (value - mean)**2\n",
    "\n",
    "    return var/N"
   ]
  },
  {
   "cell_type": "code",
   "execution_count": 7,
   "metadata": {},
   "outputs": [
    {
     "name": "stdout",
     "output_type": "stream",
     "text": [
      "2.0\n"
     ]
    }
   ],
   "source": [
    "print(my_get_var(data))"
   ]
  },
  {
   "cell_type": "code",
   "execution_count": 14,
   "metadata": {},
   "outputs": [
    {
     "data": {
      "text/plain": [
       "2.0"
      ]
     },
     "execution_count": 14,
     "metadata": {},
     "output_type": "execute_result"
    }
   ],
   "source": [
    "def get_variance_v1(data):\n",
    "  N = len(data)\n",
    "  sum = 0\n",
    "  var = 0\n",
    "  for i in data:\n",
    "    sum = sum + i\n",
    "    N = len(data)\n",
    "    mean_v = sum / N\n",
    "  for i in data:\n",
    "    # print(mean_v)\n",
    "    var += ((i - mean_v)**2)\n",
    "  return var/N\n",
    "\n",
    "get_variance_v1(data)"
   ]
  },
  {
   "cell_type": "code",
   "execution_count": 12,
   "metadata": {},
   "outputs": [
    {
     "data": {
      "text/plain": [
       "[5, 3, 6, 7, 4]"
      ]
     },
     "execution_count": 12,
     "metadata": {},
     "output_type": "execute_result"
    }
   ],
   "source": [
    "data"
   ]
  },
  {
   "cell_type": "code",
   "execution_count": 1,
   "metadata": {},
   "outputs": [],
   "source": [
    "def two_sum(data:list, target:int):\n",
    "    dict_save = dict()\n",
    "    for i, value in enumerate(data):\n",
    "        if value < target:\n",
    "            dict_save[i] = value\n",
    "    for idx in dict_save.keys():\n",
    "        "
   ]
  },
  {
   "cell_type": "code",
   "execution_count": 3,
   "metadata": {},
   "outputs": [
    {
     "name": "stdout",
     "output_type": "stream",
     "text": [
      "{0: 2, 1: 7}\n"
     ]
    }
   ],
   "source": [
    "data = [2, 7, 11, 15]\n",
    "print(two_sum(data, 9))"
   ]
  },
  {
   "cell_type": "code",
   "execution_count": 6,
   "metadata": {},
   "outputs": [
    {
     "data": {
      "text/plain": [
       "2"
      ]
     },
     "execution_count": 6,
     "metadata": {},
     "output_type": "execute_result"
    }
   ],
   "source": [
    "len(two_sum(data, 9))"
   ]
  },
  {
   "cell_type": "code",
   "execution_count": 5,
   "metadata": {},
   "outputs": [
    {
     "data": {
      "text/plain": [
       "2"
      ]
     },
     "execution_count": 5,
     "metadata": {},
     "output_type": "execute_result"
    }
   ],
   "source": [
    "new_dict = {0:2, 1:7}\n",
    "len(new_dict)"
   ]
  },
  {
   "cell_type": "code",
   "execution_count": 9,
   "metadata": {},
   "outputs": [
    {
     "name": "stdout",
     "output_type": "stream",
     "text": [
      "0 0\n",
      "0 1\n",
      "1 0\n",
      "1 1\n"
     ]
    }
   ],
   "source": [
    "for i in new_dict:\n",
    "    for j in new_dict:\n",
    "        print(i, j)"
   ]
  },
  {
   "cell_type": "code",
   "execution_count": null,
   "metadata": {},
   "outputs": [],
   "source": []
  }
 ],
 "metadata": {
  "kernelspec": {
   "display_name": "base",
   "language": "python",
   "name": "python3"
  },
  "language_info": {
   "codemirror_mode": {
    "name": "ipython",
    "version": 3
   },
   "file_extension": ".py",
   "mimetype": "text/x-python",
   "name": "python",
   "nbconvert_exporter": "python",
   "pygments_lexer": "ipython3",
   "version": "3.9.12"
  }
 },
 "nbformat": 4,
 "nbformat_minor": 2
}
