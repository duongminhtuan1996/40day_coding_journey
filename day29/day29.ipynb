{
 "cells": [
  {
   "cell_type": "markdown",
   "metadata": {},
   "source": [
    "Thư viện xử lý âm thanh<br>\n",
    "Một số thư viện phổ biến<br>\n",
    "- Librosa\n",
    "- Scipy\n",
    "- SpeechRecognition\n",
    "- gtts"
   ]
  },
  {
   "cell_type": "code",
   "execution_count": 5,
   "metadata": {},
   "outputs": [],
   "source": [
    "import librosa\n",
    "import numpy as np\n",
    "import matplotlib.pyplot as plt"
   ]
  },
  {
   "cell_type": "code",
   "execution_count": null,
   "metadata": {},
   "outputs": [],
   "source": [
    "filename = 'D:\\10_AIO2023\\Code_review\\pdf\\file.mp3'\n",
    "print(filename)\n",
    "\n",
    "#Load the audio as waveform 'y'\n",
    "#Store the sampling rate as 'sr'\n",
    "audio, sr = librosa.load(filename)\n",
    "\n",
    "time = np.linspace(0, audio.shape[0]/sr, num=audio.shape[0])\n",
    "plt.plot(time, audio, color='blue')\n",
    "plt.xlabel('Time (s)')\n",
    "plt.ylabel('Amplitude(quantized)')\n",
    "plt.title('Wav file visualization')\n",
    "plt.axhline(y=0, color='r', linestyle='-')\n",
    "plt.show()"
   ]
  },
  {
   "cell_type": "markdown",
   "metadata": {},
   "source": [
    "Speech Recognition"
   ]
  },
  {
   "cell_type": "code",
   "execution_count": null,
   "metadata": {},
   "outputs": [],
   "source": [
    "import speech_recognition as sr\n",
    "\n",
    "r = sr.Recognizer()\n",
    "audio_filename = 'D:\\10_AIO2023\\Code_review\\pdf\\file.mp3'\n",
    "\n",
    "my_audio = sr.AudioFile(audio_filename)\n",
    "with my_audio as source:\n",
    "    audio = r.record(source)\n",
    "\n",
    "print(type(audio))\n",
    "your_speech = r.recognize_google(audio, language='en-EN')\n",
    "print('Audio transcription: ', your_speech)"
   ]
  },
  {
   "cell_type": "code",
   "execution_count": null,
   "metadata": {},
   "outputs": [],
   "source": [
    "!pip install gtts"
   ]
  },
  {
   "cell_type": "code",
   "execution_count": null,
   "metadata": {},
   "outputs": [],
   "source": [
    "from gtts import gTTS\n",
    "\n",
    "lang = 'vi'\n",
    "output_filename = 'D:\\10_AIO2023\\Code_review\\pdf\\file.mp3'\n",
    "content = 'Xin chào mọi người'\n",
    "output = gTTS(content, lang=lang, slow=False)\n",
    "\n",
    "output.save(output_filename)\n",
    "data, sr = librosa.load(output_filename)\n",
    "\n",
    "import IPython \n",
    "IPython.display.display(IPython.display.Audio(np.transpose(data), rate=sr))"
   ]
  },
  {
   "cell_type": "code",
   "execution_count": null,
   "metadata": {},
   "outputs": [],
   "source": []
  }
 ],
 "metadata": {
  "kernelspec": {
   "display_name": "base",
   "language": "python",
   "name": "python3"
  },
  "language_info": {
   "codemirror_mode": {
    "name": "ipython",
    "version": 3
   },
   "file_extension": ".py",
   "mimetype": "text/x-python",
   "name": "python",
   "nbconvert_exporter": "python",
   "pygments_lexer": "ipython3",
   "version": "3.9.12"
  }
 },
 "nbformat": 4,
 "nbformat_minor": 2
}
