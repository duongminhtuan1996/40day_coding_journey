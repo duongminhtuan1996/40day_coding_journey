{
 "cells": [
  {
   "cell_type": "markdown",
   "metadata": {},
   "source": [
    "HƯỚNG DẪN TRIỂN KHAI VÀ ĐÓNG GÓP DỰ ÁN PYTHON VỚI POETRY"
   ]
  },
  {
   "cell_type": "markdown",
   "metadata": {},
   "source": [
    "1. Mở đầu.<br>\n",
    " - Máy tính đã cà python.\n",
    " - Đã biết cơ bản về các tạo và quản lý môi trường trong python.\n"
   ]
  },
  {
   "cell_type": "markdown",
   "metadata": {},
   "source": [
    "2. Cài đặt thư viện Anaconda và Poetry"
   ]
  },
  {
   "cell_type": "markdown",
   "metadata": {},
   "source": [
    "3. Thiết lập dự án<br>\n",
    "3.1 Khởi tạo một dự án mới<br>\n",
    "Trong mục factorial-aivn chứa tác tệp và package được sử dụng các mục đích khác nhau:\n",
    "<ul>\n",
    "<li>factorial_aivn: Ta viết code để tạo package ở đây</li>\n",
    "<li>tests: Ta sẽ viết code kiểm tử ở đây.</li>\n",
    "<li>pyproject.toml: là file chứa thông tin cấu hình package chúng ta xây dựng</li>\n",
    "<li>README.md: là file mô tả package mà chúng ta đang xây dựng, hướng dẫn cài đặt... được viết bằng Markdown</li>\n",
    "</ul>\n"
   ]
  },
  {
   "cell_type": "code",
   "execution_count": 1,
   "metadata": {},
   "outputs": [
    {
     "name": "stdout",
     "output_type": "stream",
     "text": [
      "Created package factorial_aivn in factorial-aivn\n"
     ]
    }
   ],
   "source": [
    "# !poetry new factorial-aivn"
   ]
  },
  {
   "cell_type": "markdown",
   "metadata": {},
   "source": [
    "File pyproject.toml\n",
    "<ul>\n",
    "<li>name: tên thư mục dự án</li>\n",
    "<li>version: Phiên bản mà chúng ta phát triển.</li>\n",
    "<li>description: Mô tả ngắn về package</li>\n",
    "<li>authors: Thông tin về tác giả, nhóm phát triển package</li>\n",
    "<li>readme: Tệp viết các mô tả, hướng dẫn chi tiết về package</li>\n",
    "<li>package: Vị trí, tên của package, nới mà chứa các file code package.</li>\n",
    "</ul>"
   ]
  },
  {
   "cell_type": "code",
   "execution_count": 2,
   "metadata": {},
   "outputs": [
    {
     "name": "stderr",
     "output_type": "stream",
     "text": [
      "\n",
      "Poetry could not find a pyproject.toml file in d:\\10_AIO2023\\Code_review\\day30 or its parents\n"
     ]
    }
   ],
   "source": [
    "!poetry env info"
   ]
  },
  {
   "cell_type": "markdown",
   "metadata": {},
   "source": [
    "4. Xây dựng và public package<br>\n",
    "4.1 Xây dựng package\n",
    "<ul>\n",
    "<li></li>\n",
    "<li></li>\n",
    "</ul>"
   ]
  },
  {
   "cell_type": "code",
   "execution_count": null,
   "metadata": {},
   "outputs": [],
   "source": [
    "def"
   ]
  }
 ],
 "metadata": {
  "kernelspec": {
   "display_name": "base",
   "language": "python",
   "name": "python3"
  },
  "language_info": {
   "codemirror_mode": {
    "name": "ipython",
    "version": 3
   },
   "file_extension": ".py",
   "mimetype": "text/x-python",
   "name": "python",
   "nbconvert_exporter": "python",
   "pygments_lexer": "ipython3",
   "version": "3.9.12"
  }
 },
 "nbformat": 4,
 "nbformat_minor": 2
}
