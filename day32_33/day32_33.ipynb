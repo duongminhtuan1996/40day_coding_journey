{
 "cells": [
  {
   "cell_type": "markdown",
   "metadata": {},
   "source": [
    "Question 1: Which is the output of the following program?"
   ]
  },
  {
   "cell_type": "code",
   "execution_count": 2,
   "metadata": {},
   "outputs": [
    {
     "name": "stdout",
     "output_type": "stream",
     "text": [
      "400\n"
     ]
    }
   ],
   "source": [
    "n = 1\n",
    "for i in range(0, 500, 100):\n",
    "    n = i\n",
    "print(n)"
   ]
  },
  {
   "cell_type": "markdown",
   "metadata": {},
   "source": [
    "Question 2: Which is the output of the following program?"
   ]
  },
  {
   "cell_type": "code",
   "execution_count": 1,
   "metadata": {},
   "outputs": [
    {
     "name": "stdout",
     "output_type": "stream",
     "text": [
      "learning\n"
     ]
    }
   ],
   "source": [
    "data = \"I'm learning Python\"\n",
    "print(data.split()[1])"
   ]
  },
  {
   "cell_type": "markdown",
   "metadata": {},
   "source": [
    "Question 3: Which is the output of the following program?"
   ]
  },
  {
   "cell_type": "code",
   "execution_count": 4,
   "metadata": {},
   "outputs": [
    {
     "name": "stdout",
     "output_type": "stream",
     "text": [
      "True\n"
     ]
    }
   ],
   "source": [
    "def check_the_number(N):\n",
    "    list_of_numbers = []\n",
    "    results = \"\"\n",
    "    for i in range(1, 5):\n",
    "        list_of_numbers.append(i)\n",
    "    if N in list_of_numbers:\n",
    "        results = True\n",
    "    if N not in list_of_numbers:\n",
    "        results = False\n",
    "    return results\n",
    "\n",
    "N = 2\n",
    "results = check_the_number(N)\n",
    "print(results)"
   ]
  },
  {
   "cell_type": "markdown",
   "metadata": {},
   "source": [
    "Question 4:"
   ]
  },
  {
   "cell_type": "code",
   "execution_count": 5,
   "metadata": {},
   "outputs": [
    {
     "name": "stdout",
     "output_type": "stream",
     "text": [
      "<class 'str'>\n"
     ]
    }
   ],
   "source": [
    "data = 'my list: [1, 2, [3, 4]]'\n",
    "print(type(data))"
   ]
  },
  {
   "cell_type": "markdown",
   "metadata": {},
   "source": [
    "Question 5:"
   ]
  },
  {
   "cell_type": "code",
   "execution_count": 6,
   "metadata": {},
   "outputs": [
    {
     "data": {
      "text/plain": [
       "True"
      ]
     },
     "execution_count": 6,
     "metadata": {},
     "output_type": "execute_result"
    }
   ],
   "source": [
    "\"Eiffel\" > \"Apple\""
   ]
  },
  {
   "cell_type": "markdown",
   "metadata": {},
   "source": [
    "Question 6:"
   ]
  },
  {
   "cell_type": "code",
   "execution_count": 15,
   "metadata": {},
   "outputs": [
    {
     "name": "stdout",
     "output_type": "stream",
     "text": [
      "i = 0\n",
      "n = 0\n",
      "i = 1\n",
      "n = 1\n",
      "i = 2\n",
      "n = 3\n",
      "3\n"
     ]
    }
   ],
   "source": [
    "n = 0\n",
    "for i in range(5):\n",
    "    print(f'i = {i}')\n",
    "    n += i\n",
    "    print(f'n = {n}')\n",
    "    if n>0 and n%3 == 0:\n",
    "        break\n",
    "print(n)"
   ]
  },
  {
   "cell_type": "markdown",
   "metadata": {},
   "source": [
    "Question 7:"
   ]
  },
  {
   "cell_type": "code",
   "execution_count": 16,
   "metadata": {},
   "outputs": [
    {
     "name": "stdout",
     "output_type": "stream",
     "text": [
      "spring\n"
     ]
    }
   ],
   "source": [
    "space1 = \"Cherry Blossom After Winter\"\n",
    "space2 = \"Flowers are blooming on the hillsides, which signals the coming of spring\"\n",
    "space = space1 + space2\n",
    "print(space[-6:])"
   ]
  },
  {
   "cell_type": "markdown",
   "metadata": {},
   "source": [
    "Question 8"
   ]
  },
  {
   "cell_type": "code",
   "execution_count": 17,
   "metadata": {},
   "outputs": [
    {
     "name": "stdout",
     "output_type": "stream",
     "text": [
      "odd: 3, even: 3\n"
     ]
    }
   ],
   "source": [
    "my_list = [0, 1, 1, 2, 1]\n",
    "odd = 1\n",
    "even = 0\n",
    "\n",
    "for number in my_list:\n",
    "    if number % 2 == 0:\n",
    "        odd += number\n",
    "    else:\n",
    "        even += number\n",
    "print(f'odd: {odd}, even: {even}')"
   ]
  },
  {
   "cell_type": "markdown",
   "metadata": {},
   "source": [
    "Question 9"
   ]
  },
  {
   "cell_type": "code",
   "execution_count": 24,
   "metadata": {},
   "outputs": [
    {
     "ename": "TypeError",
     "evalue": "can only concatenate str (not \"builtin_function_or_method\") to str",
     "output_type": "error",
     "traceback": [
      "\u001b[1;31m---------------------------------------------------------------------------\u001b[0m",
      "\u001b[1;31mTypeError\u001b[0m                                 Traceback (most recent call last)",
      "Input \u001b[1;32mIn [24]\u001b[0m, in \u001b[0;36m<cell line: 4>\u001b[1;34m()\u001b[0m\n\u001b[0;32m      1\u001b[0m weather \u001b[38;5;241m=\u001b[39m \u001b[38;5;124m'\u001b[39m\u001b[38;5;124m@the drizzle in spring makes the air more humid. @@\u001b[39m\u001b[38;5;124m'\u001b[39m \n\u001b[0;32m      2\u001b[0m me \u001b[38;5;241m=\u001b[39m \u001b[38;5;124m'\u001b[39m\u001b[38;5;124mi love iT!\u001b[39m\u001b[38;5;124m'\u001b[39m\n\u001b[1;32m----> 4\u001b[0m txt \u001b[38;5;241m=\u001b[39m \u001b[43mweather\u001b[49m\u001b[38;5;241;43m.\u001b[39;49m\u001b[43mstrip\u001b[49m\u001b[43m(\u001b[49m\u001b[38;5;124;43m'\u001b[39;49m\u001b[38;5;124;43m@\u001b[39;49m\u001b[38;5;124;43m'\u001b[39;49m\u001b[43m)\u001b[49m\u001b[38;5;241;43m.\u001b[39;49m\u001b[43mcapitalize\u001b[49m\u001b[43m(\u001b[49m\u001b[43m)\u001b[49m\u001b[43m \u001b[49m\u001b[38;5;241;43m+\u001b[39;49m\u001b[43m \u001b[49m\u001b[43mme\u001b[49m\u001b[38;5;241;43m.\u001b[39;49m\u001b[43mtitle\u001b[49m\n\u001b[0;32m      5\u001b[0m \u001b[38;5;28mprint\u001b[39m(txt)\n",
      "\u001b[1;31mTypeError\u001b[0m: can only concatenate str (not \"builtin_function_or_method\") to str"
     ]
    }
   ],
   "source": [
    "weather = '@the drizzle in spring makes the air more humid. @@' \n",
    "me = 'i love iT!'\n",
    "\n",
    "txt = weather.strip('@').capitalize() + me.title\n",
    "print(txt)\n"
   ]
  },
  {
   "cell_type": "markdown",
   "metadata": {},
   "source": [
    "Question 10:"
   ]
  },
  {
   "cell_type": "code",
   "execution_count": 25,
   "metadata": {},
   "outputs": [
    {
     "name": "stdout",
     "output_type": "stream",
     "text": [
      "[-3, 1, 3, 9]\n"
     ]
    }
   ],
   "source": [
    "data = [1, 9, 3, -3]\n",
    "data.sort()\n",
    "print(data)"
   ]
  },
  {
   "cell_type": "markdown",
   "metadata": {},
   "source": [
    "Question 11:"
   ]
  },
  {
   "cell_type": "code",
   "execution_count": 26,
   "metadata": {},
   "outputs": [
    {
     "name": "stdout",
     "output_type": "stream",
     "text": [
      "['Under', 'the', 'drizzle,', 'the', 'flower', 'field', 'seems', 'covering', 'with', 'the', 'glitter', 'water', 'drops']\n"
     ]
    }
   ],
   "source": [
    "my_exam = 'Under the drizzle, the flower field seems covering with the glitter water drops!'\n",
    "print(my_exam.strip('!').split())"
   ]
  },
  {
   "cell_type": "markdown",
   "metadata": {},
   "source": [
    "Question 12:"
   ]
  },
  {
   "cell_type": "code",
   "execution_count": 29,
   "metadata": {},
   "outputs": [
    {
     "name": "stdout",
     "output_type": "stream",
     "text": [
      "['P', 'e', 'a', 'c', 'h', ' ', 'b', 'l', 'o', 's', 'm', 'i', 'n', 'p', 'r', 'g']\n"
     ]
    }
   ],
   "source": [
    "my_string = 'Peach blossoms bloom in spring'\n",
    "\n",
    "my_bag_of_word = []\n",
    "for element in my_string:\n",
    "    if element not in my_bag_of_word:\n",
    "        my_bag_of_word.append(element)\n",
    "\n",
    "print(my_bag_of_word)"
   ]
  },
  {
   "cell_type": "markdown",
   "metadata": {},
   "source": [
    "Question 13"
   ]
  },
  {
   "cell_type": "code",
   "execution_count": 30,
   "metadata": {},
   "outputs": [
    {
     "name": "stdout",
     "output_type": "stream",
     "text": [
      "2\n"
     ]
    }
   ],
   "source": [
    "my_string = 'My name is Tom'\n",
    "results = my_string.count('m')\n",
    "\n",
    "print(results)"
   ]
  },
  {
   "cell_type": "code",
   "execution_count": 43,
   "metadata": {},
   "outputs": [
    {
     "name": "stdout",
     "output_type": "stream",
     "text": [
      "[2, 4]\n"
     ]
    }
   ],
   "source": [
    "even_numbers = [x for x in range(1, 5) if x % 2==0]\n",
    "print(even_numbers)"
   ]
  },
  {
   "cell_type": "markdown",
   "metadata": {},
   "source": [
    "Question 15:"
   ]
  },
  {
   "cell_type": "code",
   "execution_count": 44,
   "metadata": {},
   "outputs": [
    {
     "name": "stdout",
     "output_type": "stream",
     "text": [
      "[1, 2]\n",
      "[1, 2]\n"
     ]
    }
   ],
   "source": [
    "X = [[1, 1],\n",
    "     [2, 2]]\n",
    "result = [[0, 0],\n",
    "          [0, 0]]\n",
    "\n",
    "for i in range(len(X)):\n",
    "    for j in range(len(X[0])):\n",
    "        result[j][i] = X[i][j]\n",
    "\n",
    "for r in result:\n",
    "    print(r)"
   ]
  },
  {
   "cell_type": "markdown",
   "metadata": {},
   "source": [
    "Question 16:"
   ]
  },
  {
   "cell_type": "code",
   "execution_count": 45,
   "metadata": {},
   "outputs": [
    {
     "name": "stdout",
     "output_type": "stream",
     "text": [
      "6\n"
     ]
    }
   ],
   "source": [
    "def my_function(my_data):\n",
    "    rs = 0\n",
    "    for i in my_data:\n",
    "        rs = rs + i\n",
    "    return rs\n",
    "\n",
    "my_list = [1, 2, 3]\n",
    "print(my_function(my_data = my_list))"
   ]
  },
  {
   "cell_type": "markdown",
   "metadata": {},
   "source": [
    "Question 17:"
   ]
  },
  {
   "cell_type": "code",
   "execution_count": 46,
   "metadata": {},
   "outputs": [
    {
     "name": "stdout",
     "output_type": "stream",
     "text": [
      "[{'id': 'M12'}, 10, 20, 30]\n"
     ]
    }
   ],
   "source": [
    "def my_function(my_data):\n",
    "    result = []\n",
    "    for element in data:\n",
    "        if element not in result:\n",
    "            result.append(element)\n",
    "    return result\n",
    "\n",
    "data = [{'id': 'M12'}, 10, 20, 30]\n",
    "print(my_function(my_data=data))"
   ]
  },
  {
   "cell_type": "markdown",
   "metadata": {},
   "source": [
    "Question 18:"
   ]
  },
  {
   "cell_type": "code",
   "execution_count": 47,
   "metadata": {},
   "outputs": [
    {
     "name": "stdout",
     "output_type": "stream",
     "text": [
      "[2, 2, 2, 1, 1]\n"
     ]
    }
   ],
   "source": [
    "def my_function(data, max, min):\n",
    "    result = []\n",
    "    for i in data:\n",
    "        if i < min:\n",
    "            result.append(min)\n",
    "        elif i > max:\n",
    "            result.append(max)\n",
    "        else:\n",
    "            result.append(i)\n",
    "    return result\n",
    "my_list = [10, 2, 5, 0, 1]\n",
    "max = 2\n",
    "min = 1\n",
    "print(my_function(data=my_list, max=max, min=min))"
   ]
  },
  {
   "cell_type": "markdown",
   "metadata": {},
   "source": [
    "Question 19:"
   ]
  },
  {
   "cell_type": "code",
   "execution_count": 50,
   "metadata": {},
   "outputs": [
    {
     "data": {
      "text/plain": [
       "[1, 2, 3, 4, 0, 0]"
      ]
     },
     "execution_count": 50,
     "metadata": {},
     "output_type": "execute_result"
    }
   ],
   "source": [
    "def my_function(x, y):\n",
    "    x. extend(y)\n",
    "    return x\n",
    "\n",
    "list_num1 = [1, 2]\n",
    "list_num2 = [3, 4]\n",
    "list_num3 = [0, 0]\n",
    "my_function(list_num1, my_function(list_num2, list_num3))"
   ]
  },
  {
   "cell_type": "markdown",
   "metadata": {},
   "source": [
    "Question 20: Find min"
   ]
  },
  {
   "cell_type": "code",
   "execution_count": 52,
   "metadata": {},
   "outputs": [
    {
     "data": {
      "text/plain": [
       "-1"
      ]
     },
     "execution_count": 52,
     "metadata": {},
     "output_type": "execute_result"
    }
   ],
   "source": [
    "def my_function(n):\n",
    "    x = n[0]\n",
    "    for i in n:\n",
    "        if i<x:\n",
    "            x = i\n",
    "    return x\n",
    "\n",
    "my_list = [1, 2, 3, -1]\n",
    "my_function(my_list)\n",
    "#Choose C"
   ]
  },
  {
   "cell_type": "markdown",
   "metadata": {},
   "source": [
    "Question 21:Find max"
   ]
  },
  {
   "cell_type": "code",
   "execution_count": 53,
   "metadata": {},
   "outputs": [
    {
     "data": {
      "text/plain": [
       "9"
      ]
     },
     "execution_count": 53,
     "metadata": {},
     "output_type": "execute_result"
    }
   ],
   "source": [
    "def my_function(n):\n",
    "    x = n[0]\n",
    "    for i in n:\n",
    "        if i>x:\n",
    "            x = i\n",
    "    return x\n",
    "my_list = [1, 9, 9, 0]\n",
    "my_function(my_list)\n",
    "#Choose D"
   ]
  },
  {
   "cell_type": "markdown",
   "metadata": {},
   "source": [
    "Question 22:"
   ]
  },
  {
   "cell_type": "code",
   "execution_count": 55,
   "metadata": {},
   "outputs": [
    {
     "data": {
      "text/plain": [
       "True"
      ]
     },
     "execution_count": 55,
     "metadata": {},
     "output_type": "execute_result"
    }
   ],
   "source": [
    "def my_function(integers, number=1):\n",
    "    return any([True if i == number else False for i in integers])\n",
    "\n",
    "my_list = [1, 2, 3, 4]\n",
    "my_function(my_list, 2)\n",
    "#Choose C"
   ]
  },
  {
   "cell_type": "markdown",
   "metadata": {},
   "source": [
    "Question 23: Find mean or average"
   ]
  },
  {
   "cell_type": "code",
   "execution_count": 57,
   "metadata": {},
   "outputs": [
    {
     "data": {
      "text/plain": [
       "1.0"
      ]
     },
     "execution_count": 57,
     "metadata": {},
     "output_type": "execute_result"
    }
   ],
   "source": [
    "def my_function(list_nums = [0, 1, 2]):\n",
    "    var = 0\n",
    "    for i in list_nums:\n",
    "        var += i\n",
    "    return var/len(list_nums)\n",
    "\n",
    "my_function()\n",
    "#Choose A"
   ]
  },
  {
   "cell_type": "markdown",
   "metadata": {},
   "source": [
    "Question 24:"
   ]
  },
  {
   "cell_type": "code",
   "execution_count": 58,
   "metadata": {},
   "outputs": [
    {
     "name": "stdout",
     "output_type": "stream",
     "text": [
      "None\n"
     ]
    }
   ],
   "source": [
    "def my_function(signal1, signal2):\n",
    "    var = False\n",
    "    for s1 in signal1:\n",
    "        for s2 in signal2:\n",
    "            if s1 == s2:\n",
    "                var = True\n",
    "                return var\n",
    "print(my_function([1, 1, 1], [2, 2, 2]))\n",
    "#choose D"
   ]
  },
  {
   "cell_type": "markdown",
   "metadata": {},
   "source": [
    "Question 25:"
   ]
  },
  {
   "cell_type": "code",
   "execution_count": 59,
   "metadata": {},
   "outputs": [
    {
     "name": "stdout",
     "output_type": "stream",
     "text": [
      "True\n"
     ]
    }
   ],
   "source": [
    "def my_function(signal1, signal2):\n",
    "    var = False\n",
    "    for s1 in signal1:\n",
    "        for s2 in signal2:\n",
    "            if s1 == s2:\n",
    "                var = True\n",
    "                return var\n",
    "\n",
    "print(my_function([1, 2, 3], [2, 2]))\n",
    "#choose B"
   ]
  },
  {
   "cell_type": "markdown",
   "metadata": {},
   "source": [
    "Question 26: Find Divisible 3"
   ]
  },
  {
   "cell_type": "code",
   "execution_count": 60,
   "metadata": {},
   "outputs": [
    {
     "name": "stdout",
     "output_type": "stream",
     "text": [
      "[3, 6]\n"
     ]
    }
   ],
   "source": [
    "def my_function(data):\n",
    "    var = []\n",
    "    for i in data:\n",
    "        if i%3 == 0:\n",
    "            var.append(i)\n",
    "    return var\n",
    "print(my_function([1, 2, 3, 5, 6]))\n",
    "#Choose A"
   ]
  },
  {
   "cell_type": "markdown",
   "metadata": {},
   "source": [
    "\n",
    "Question 27: Matrix unit"
   ]
  },
  {
   "cell_type": "code",
   "execution_count": 61,
   "metadata": {},
   "outputs": [
    {
     "name": "stdout",
     "output_type": "stream",
     "text": [
      "1 0 \n",
      "0 1 \n"
     ]
    }
   ],
   "source": [
    "def my_function(x):\n",
    "    for i in range(x):\n",
    "        for j in range(x):\n",
    "            if i == j:\n",
    "                print('1', end=' ')\n",
    "            else:\n",
    "                print('0', end=' ')\n",
    "        print()\n",
    "\n",
    "my_function(2)\n",
    "#Choose A"
   ]
  },
  {
   "cell_type": "markdown",
   "metadata": {},
   "source": [
    "Question 28: find factorial"
   ]
  },
  {
   "cell_type": "code",
   "execution_count": 62,
   "metadata": {},
   "outputs": [
    {
     "name": "stdout",
     "output_type": "stream",
     "text": [
      "24\n"
     ]
    }
   ],
   "source": [
    "def my_function(y):\n",
    "    var = 1\n",
    "    while(y > 1):\n",
    "        var = var * y\n",
    "        y = y - 1\n",
    "    return var\n",
    "\n",
    "print(my_function(4))\n",
    "#Choose C"
   ]
  },
  {
   "cell_type": "markdown",
   "metadata": {},
   "source": [
    "Question 29: Arranged from smallest to largest "
   ]
  },
  {
   "cell_type": "code",
   "execution_count": 63,
   "metadata": {},
   "outputs": [
    {
     "name": "stdout",
     "output_type": "stream",
     "text": [
      "[0, 1, 2, 3]\n"
     ]
    }
   ],
   "source": [
    "def my_function(signal):\n",
    "    var = True\n",
    "    while var:\n",
    "        var = False\n",
    "        for i in range(len(signal) - 1):\n",
    "            if signal[i] > signal[i + 1]:\n",
    "                signal[i], signal[i+1] = signal[i+1], signal[i]\n",
    "                var = True\n",
    "\n",
    "my_signal = [1, 2 ,3, 0]\n",
    "my_function(my_signal)\n",
    "print(my_signal)\n",
    "#Choose A"
   ]
  },
  {
   "cell_type": "markdown",
   "metadata": {},
   "source": [
    "Question 30: Show document of function"
   ]
  },
  {
   "cell_type": "code",
   "execution_count": 66,
   "metadata": {},
   "outputs": [
    {
     "name": "stdout",
     "output_type": "stream",
     "text": [
      "\n",
      "    Sum of two numbers\n",
      "    input: num1, num2\n",
      "    output: num1+num2\n",
      "    \n"
     ]
    }
   ],
   "source": [
    "def sum_function(num1, num2):\n",
    "    '''\n",
    "    Sum of two numbers\n",
    "    input: num1, num2\n",
    "    output: num1+num2\n",
    "    '''\n",
    "    return num1 + num1\n",
    "\n",
    "print(sum_function.__doc__)\n",
    "#Choose A"
   ]
  },
  {
   "cell_type": "markdown",
   "metadata": {},
   "source": [
    "Question 31:  Reverse the string"
   ]
  },
  {
   "cell_type": "code",
   "execution_count": 67,
   "metadata": {},
   "outputs": [
    {
     "name": "stdout",
     "output_type": "stream",
     "text": [
      "tocirpa\n"
     ]
    }
   ],
   "source": [
    "def my_function(x):\n",
    "    res = ''\n",
    "    for i in x:\n",
    "        res = i + res\n",
    "    return res\n",
    "\n",
    "x = 'apricot'\n",
    "print(my_function(x))\n",
    "\n",
    "#Choose B"
   ]
  },
  {
   "cell_type": "markdown",
   "metadata": {},
   "source": [
    "Question 32: executes statements when conditions are specified"
   ]
  },
  {
   "cell_type": "code",
   "execution_count": 68,
   "metadata": {},
   "outputs": [
    {
     "name": "stdout",
     "output_type": "stream",
     "text": [
      "['T', 'T', 'T', 'N']\n"
     ]
    }
   ],
   "source": [
    "def function_helper(x):\n",
    "    if x > 0:\n",
    "        return 'T'\n",
    "    else:\n",
    "        return 'N'\n",
    "    \n",
    "def my_function(data):\n",
    "    res = [function_helper(x) for x in data]\n",
    "    return res\n",
    "data = [2, 3, 5, -1]\n",
    "print(my_function(data=data))\n",
    "#Choose C"
   ]
  },
  {
   "cell_type": "markdown",
   "metadata": {},
   "source": [
    "Question 33: Check for duplicate elements"
   ]
  },
  {
   "cell_type": "code",
   "execution_count": 69,
   "metadata": {},
   "outputs": [
    {
     "name": "stdout",
     "output_type": "stream",
     "text": [
      "[9, 8, 1]\n"
     ]
    }
   ],
   "source": [
    "#Check condition False\n",
    "def function_helper(x, data):\n",
    "    for i in data:\n",
    "        if x == i:\n",
    "            return 0\n",
    "    return 1\n",
    "        \n",
    "def my_function(data):\n",
    "    res = []\n",
    "    for i in data:\n",
    "        if function_helper(i, res):\n",
    "            res.append(i)\n",
    "    return res\n",
    "\n",
    "lst = [9, 9, 8, 1, 1]\n",
    "print(my_function(lst))\n",
    "#Choose A"
   ]
  },
  {
   "cell_type": "code",
   "execution_count": null,
   "metadata": {},
   "outputs": [],
   "source": []
  }
 ],
 "metadata": {
  "kernelspec": {
   "display_name": "base",
   "language": "python",
   "name": "python3"
  },
  "language_info": {
   "codemirror_mode": {
    "name": "ipython",
    "version": 3
   },
   "file_extension": ".py",
   "mimetype": "text/x-python",
   "name": "python",
   "nbconvert_exporter": "python",
   "pygments_lexer": "ipython3",
   "version": "3.9.12"
  }
 },
 "nbformat": 4,
 "nbformat_minor": 2
}
