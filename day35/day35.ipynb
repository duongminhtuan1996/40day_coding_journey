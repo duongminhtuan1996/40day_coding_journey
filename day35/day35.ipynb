{
 "cells": [
  {
   "cell_type": "markdown",
   "metadata": {},
   "source": [
    "<h1>Basic Python - Work with SQLite Database"
   ]
  },
  {
   "cell_type": "markdown",
   "metadata": {},
   "source": [
    "Các thao tác cơ bản:\n",
    "<ul>\n",
    "    <li>Tạo bảng mới (CREATE TABLE)</li>\n",
    "    <li>Lấy dữ liệu (SELECT): Lấy toàn bộ, lấy cột, lấy theo điều kiện</li>\n",
    "    <li>Thê dữ liệu(INSERT)</li>\n",
    "    <li>Cập nhật dữ liệu(UPDATE)</li>\n",
    "    <li>Xóa dữ liệu(DELETE)</li>\n",
    "</ul>"
   ]
  },
  {
   "cell_type": "code",
   "execution_count": 6,
   "metadata": {},
   "outputs": [],
   "source": [
    "import pandas as pd\n",
    "import sqlite3"
   ]
  },
  {
   "cell_type": "markdown",
   "metadata": {},
   "source": [
    "3. Sử dụng sqlite trong python"
   ]
  },
  {
   "cell_type": "code",
   "execution_count": null,
   "metadata": {},
   "outputs": [],
   "source": [
    "connection = sqlite3.connect('database.db') #Connect database\n",
    "cursor = connection.cursor() #execute query in database"
   ]
  },
  {
   "cell_type": "markdown",
   "metadata": {},
   "source": [
    "a. Tạo bảng(CREATE TABLE)"
   ]
  },
  {
   "cell_type": "code",
   "execution_count": 7,
   "metadata": {},
   "outputs": [
    {
     "data": {
      "text/plain": [
       "<sqlite3.Cursor at 0x26481903880>"
      ]
     },
     "execution_count": 7,
     "metadata": {},
     "output_type": "execute_result"
    }
   ],
   "source": [
    "cursor.execute(\"\"\"\n",
    "CREATE TABLE CUSTOMERS(\n",
    "    EMAIL TEXT PRIMARY KEY,\n",
    "    NAME TEXT NOT NULL,\n",
    "    PHONE TEXT NOT NULL\n",
    ");\n",
    "\"\"\")"
   ]
  },
  {
   "cell_type": "markdown",
   "metadata": {},
   "source": [
    "b. Thêm dữ liệu vào bảng(INSERT)"
   ]
  },
  {
   "cell_type": "code",
   "execution_count": 8,
   "metadata": {},
   "outputs": [],
   "source": [
    "cursor.execute(\"\"\"\n",
    "INSERT INTO CUSTOMERS(EMAIL, NAME, PHONE)\n",
    "VALUES\n",
    "    ('nguyen@aivietnam.edu.vn', 'Nguyen', '123456789'),\n",
    "    ('admin@aiviet.edu.vn', 'Vinh', '112345678');\n",
    "\"\"\")\n",
    "connection.commit()"
   ]
  },
  {
   "cell_type": "markdown",
   "metadata": {},
   "source": [
    "c. Lấy dữ liệu(SELECT)"
   ]
  },
  {
   "cell_type": "code",
   "execution_count": 10,
   "metadata": {},
   "outputs": [
    {
     "name": "stdout",
     "output_type": "stream",
     "text": [
      "                     EMAIL    NAME      PHONE\n",
      "0  nguyen@aivietnam.edu.vn  Nguyen  123456789\n",
      "1      admin@aiviet.edu.vn    Vinh  112345678\n"
     ]
    }
   ],
   "source": [
    "import pandas as pd\n",
    "\n",
    "data = pd.read_sql_query('Select * from customers', connection)\n",
    "print(data)"
   ]
  },
  {
   "cell_type": "markdown",
   "metadata": {},
   "source": [
    "d. Cập nhật dữ liệu"
   ]
  },
  {
   "cell_type": "code",
   "execution_count": 15,
   "metadata": {},
   "outputs": [
    {
     "name": "stdout",
     "output_type": "stream",
     "text": [
      "                     EMAIL          NAME      PHONE\n",
      "0  nguyen@aivietnam.edu.vn  Hoang Nguyen  123456789\n",
      "1      admin@aiviet.edu.vn          Vinh  112345678\n"
     ]
    }
   ],
   "source": [
    "#Update name của email: nguyen@aivietnam.edu.vn\n",
    "cursor.execute(\n",
    "\"\"\"\n",
    "UPDATE CUSTOMERS\n",
    "SET NAME = 'Hoang Nguyen'\n",
    "WHERE 1 = 1\n",
    "AND EMAIL = 'nguyen@aivietnam.edu.vn';\n",
    "\"\"\"\n",
    ")\n",
    "connection.commit()\n",
    "\n",
    "data = pd.read_sql_query('select * from customers', connection)\n",
    "print(data)"
   ]
  },
  {
   "cell_type": "markdown",
   "metadata": {},
   "source": [
    "e. Xóa dữ liệu (DELETE)"
   ]
  },
  {
   "cell_type": "code",
   "execution_count": 18,
   "metadata": {},
   "outputs": [
    {
     "name": "stdout",
     "output_type": "stream",
     "text": [
      "                 EMAIL  NAME      PHONE\n",
      "0  admin@aiviet.edu.vn  Vinh  112345678\n"
     ]
    }
   ],
   "source": [
    "#delete name của email: nguyen@aivietnam.edu.vn\n",
    "cursor.execute(\n",
    "\"\"\"\n",
    "DELETE FROM CUSTOMERS\n",
    "WHERE 1 = 1\n",
    "AND EMAIL = 'nguyen@aivietnam.edu.vn';\n",
    "\"\"\"\n",
    ")\n",
    "connection.commit()\n",
    "\n",
    "data = pd.read_sql_query('select * from customers', connection)\n",
    "print(data)"
   ]
  },
  {
   "cell_type": "code",
   "execution_count": 19,
   "metadata": {},
   "outputs": [],
   "source": [
    "#Drop table product\n",
    "cursor.execute(\n",
    "\"\"\"\n",
    "DROP TABLE PRODUCT\n",
    "\"\"\"\n",
    ")\n",
    "\n",
    "connection.commit()"
   ]
  },
  {
   "cell_type": "markdown",
   "metadata": {},
   "source": [
    "4. Bài tập<br>\n",
    "- tạo bảng có tên Product"
   ]
  },
  {
   "cell_type": "code",
   "execution_count": 20,
   "metadata": {},
   "outputs": [],
   "source": [
    "# Connect database\n",
    "connection = sqlite3.connect('database.db')\n",
    "cursor = connection.cursor()"
   ]
  },
  {
   "cell_type": "code",
   "execution_count": 21,
   "metadata": {},
   "outputs": [],
   "source": [
    "cursor.execute(\n",
    "\"\"\"\n",
    "CREATE TABLE PRODUCT(\n",
    "    ID INTEGER PRIMARY KEY,\n",
    "    NAME TEXT NOT NULL,\n",
    "    PRICE INTEGER NOT NULL\n",
    ");\n",
    "\"\"\"\n",
    ")\n",
    "\n",
    "connection.commit()"
   ]
  },
  {
   "cell_type": "code",
   "execution_count": 22,
   "metadata": {},
   "outputs": [
    {
     "name": "stdout",
     "output_type": "stream",
     "text": [
      "Empty DataFrame\n",
      "Columns: [ID, NAME, PRICE]\n",
      "Index: []\n"
     ]
    }
   ],
   "source": [
    "data = pd.read_sql_query('select * from product', connection)\n",
    "print(data)"
   ]
  },
  {
   "cell_type": "markdown",
   "metadata": {},
   "source": [
    "Câu 1: Thêm mới các giá trị"
   ]
  },
  {
   "cell_type": "code",
   "execution_count": 27,
   "metadata": {},
   "outputs": [],
   "source": [
    "cursor.execute(\n",
    "\"\"\"\n",
    "INSERT INTO PRODUCT(ID, NAME, PRICE)\n",
    "VALUES\n",
    "    (1, 'iPhone 15', 18000000),\n",
    "    (2, 'Galaxy Z-Fold 5', 30000000);\n",
    "\"\"\"\n",
    ")\n",
    "connection.commit()"
   ]
  },
  {
   "cell_type": "code",
   "execution_count": 28,
   "metadata": {},
   "outputs": [
    {
     "name": "stdout",
     "output_type": "stream",
     "text": [
      "   ID             NAME     PRICE\n",
      "0   1        iPhone 15  18000000\n",
      "1   2  Galaxy Z-Fold 5  30000000\n"
     ]
    }
   ],
   "source": [
    "data = pd.read_sql_query('select * from product', connection)\n",
    "print(data)"
   ]
  },
  {
   "cell_type": "markdown",
   "metadata": {},
   "source": [
    "Câu 2: Cập nhật giá trị mới cho Galaxy Z-Fold 5"
   ]
  },
  {
   "cell_type": "code",
   "execution_count": 29,
   "metadata": {},
   "outputs": [],
   "source": [
    "cursor.execute(\n",
    "\"\"\"\n",
    "UPDATE PRODUCT\n",
    "SET PRICE = 50000000\n",
    "WHERE NAME = 'Galaxy Z-Fold 5';\n",
    "\"\"\"\n",
    ")\n",
    "\n",
    "connection.commit()"
   ]
  },
  {
   "cell_type": "code",
   "execution_count": 31,
   "metadata": {},
   "outputs": [
    {
     "name": "stdout",
     "output_type": "stream",
     "text": [
      "   ID             NAME     PRICE\n",
      "0   1        iPhone 15  18000000\n",
      "1   2  Galaxy Z-Fold 5  50000000\n"
     ]
    }
   ],
   "source": [
    "data = pd.read_sql_query('select * from product', connection)\n",
    "print(data)"
   ]
  },
  {
   "cell_type": "markdown",
   "metadata": {},
   "source": [
    "Câu 3: Xóa iPhone 15"
   ]
  },
  {
   "cell_type": "code",
   "execution_count": 33,
   "metadata": {},
   "outputs": [],
   "source": [
    "cursor.execute(\n",
    "\"\"\"\n",
    "DELETE FROM PRODUCT\n",
    "WHERE NAME = 'iPhone 15';    \n",
    "\"\"\"\n",
    ")\n",
    "connection.commit()"
   ]
  },
  {
   "cell_type": "code",
   "execution_count": 34,
   "metadata": {},
   "outputs": [
    {
     "name": "stdout",
     "output_type": "stream",
     "text": [
      "   ID             NAME     PRICE\n",
      "0   2  Galaxy Z-Fold 5  50000000\n"
     ]
    }
   ],
   "source": [
    "data = pd.read_sql_query('select * from product', connection)\n",
    "print(data)"
   ]
  },
  {
   "cell_type": "code",
   "execution_count": null,
   "metadata": {},
   "outputs": [],
   "source": []
  }
 ],
 "metadata": {
  "kernelspec": {
   "display_name": "base",
   "language": "python",
   "name": "python3"
  },
  "language_info": {
   "codemirror_mode": {
    "name": "ipython",
    "version": 3
   },
   "file_extension": ".py",
   "mimetype": "text/x-python",
   "name": "python",
   "nbconvert_exporter": "python",
   "pygments_lexer": "ipython3",
   "version": "3.9.12"
  }
 },
 "nbformat": 4,
 "nbformat_minor": 2
}
