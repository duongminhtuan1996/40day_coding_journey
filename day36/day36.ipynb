{
 "cells": [
  {
   "cell_type": "code",
   "execution_count": 1,
   "metadata": {},
   "outputs": [],
   "source": [
    "import sqlite3\n",
    "import pandas as pd"
   ]
  },
  {
   "cell_type": "code",
   "execution_count": 5,
   "metadata": {},
   "outputs": [],
   "source": [
    "#Create table\n",
    "cursor.execute(\n",
    "\"\"\"\n",
    "CREATE TABLE STOCK(\n",
    "    ID INTEGER PRIMARY KEY,\n",
    "    NAME TEXT NOT NULL,\n",
    "    BUY INTEGER NOT NULL,\n",
    "    INVESTOR TEXT NOT NULL\n",
    ");\n",
    "\"\"\"\n",
    ")\n",
    "conn.commit()"
   ]
  },
  {
   "cell_type": "code",
   "execution_count": 6,
   "metadata": {},
   "outputs": [],
   "source": [
    "#Insert data \n",
    "cursor.execute(\n",
    "\"\"\"\n",
    "INSERT INTO STOCK(ID, NAME, BUY, INVESTOR)\n",
    "VALUES\n",
    "    (1, 'ACB', 29.45, 'Nguyen'),\n",
    "    (2, 'VIC', 44.55, 'Nguyen'),\n",
    "    (3, 'GMD', 74.30, 'Nguyen'),\n",
    "    (4, 'ACB', 28.45, 'Vinh'),\n",
    "    (5, 'VIC', 40.55, 'Vinh'),\n",
    "    (6, 'GMD', 60.30, 'Vinh');\n",
    "\"\"\"\n",
    ")\n",
    "conn.commit()"
   ]
  },
  {
   "cell_type": "markdown",
   "metadata": {},
   "source": [
    "Câu 1 Tổng giá bán của bảng Stock"
   ]
  },
  {
   "cell_type": "code",
   "execution_count": 7,
   "metadata": {},
   "outputs": [
    {
     "name": "stdout",
     "output_type": "stream",
     "text": [
      "   REVENUS\n",
      "0    277.6\n"
     ]
    }
   ],
   "source": [
    "\n",
    "query = \"\"\"\n",
    "SELECT SUM(BUY) AS REVENUS\n",
    "FROM STOCK;\n",
    "\"\"\"\n",
    "\n",
    "data = pd.read_sql_query(query, conn)\n",
    "print(data)\n"
   ]
  },
  {
   "cell_type": "markdown",
   "metadata": {},
   "source": [
    "Câu 2: Thống kê lớn nhất theo nhà đầu tư"
   ]
  },
  {
   "cell_type": "code",
   "execution_count": 8,
   "metadata": {},
   "outputs": [
    {
     "name": "stdout",
     "output_type": "stream",
     "text": [
      "  INVESTOR NAME  MAX_PRICE\n",
      "0   Nguyen  GMD       74.3\n",
      "1     Vinh  GMD       60.3\n"
     ]
    }
   ],
   "source": [
    "query = \"\"\"\n",
    "SELECT INVESTOR, NAME, MAX(BUY) AS MAX_PRICE\n",
    "FROM STOCK\n",
    "GROUP BY INVESTOR;\n",
    "\"\"\"\n",
    "\n",
    "data = pd.read_sql_query(query, conn)\n",
    "print(data)"
   ]
  },
  {
   "cell_type": "code",
   "execution_count": null,
   "metadata": {},
   "outputs": [],
   "source": []
  }
 ],
 "metadata": {
  "kernelspec": {
   "display_name": "base",
   "language": "python",
   "name": "python3"
  },
  "language_info": {
   "codemirror_mode": {
    "name": "ipython",
    "version": 3
   },
   "file_extension": ".py",
   "mimetype": "text/x-python",
   "name": "python",
   "nbconvert_exporter": "python",
   "pygments_lexer": "ipython3",
   "version": "3.9.12"
  }
 },
 "nbformat": 4,
 "nbformat_minor": 2
}
