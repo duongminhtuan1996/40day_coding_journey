{
 "cells": [
  {
   "cell_type": "code",
   "execution_count": null,
   "metadata": {},
   "outputs": [],
   "source": [
    "# !pip install wandb\n",
    "\n",
    "# !wandb login"
   ]
  },
  {
   "cell_type": "code",
   "execution_count": null,
   "metadata": {},
   "outputs": [],
   "source": [
    "import pandas as pd\n",
    "import wandb\n",
    "\n",
    "areas = [6.7, 4.6, 3.5, 5.5]\n",
    "prices = [9.1, 5.9, 4.6, 6.7]\n",
    "\n",
    "dataset = pd.DataFrame({\n",
    "    'areas': areas,\n",
    "    'prices': prices\n",
    "})"
   ]
  },
  {
   "cell_type": "code",
   "execution_count": null,
   "metadata": {},
   "outputs": [],
   "source": [
    "#forward\n",
    "def predict(x, w, b):\n",
    "  return x*w + b\n",
    "\n",
    "#compute gradient\n",
    "def gradient(y_hat, y, x):\n",
    "  dw = 2*x*(y_hat-y)\n",
    "  db = 2*(y_hat-y)\n",
    "\n",
    "  return (dw, db)\n",
    "\n",
    "#update weights\n",
    "def update_weights(w, b, lr, dw, db):\n",
    "  w_new = w - lr*dw\n",
    "  b_new = b - lr*db\n",
    "\n",
    "  return (w_new, b_new)"
   ]
  },
  {
   "cell_type": "code",
   "execution_count": null,
   "metadata": {},
   "outputs": [],
   "source": [
    "#init weights\n",
    "b = 0.04\n",
    "w = -0.34\n",
    "lr = 0.01\n",
    "epochs = 10\n",
    "\n",
    "#init project wandb\n",
    "wandb.init(\n",
    "    #Set the project where this run will be logged\n",
    "    project = 'demo-linear-regression',\n",
    "    config={\n",
    "        'learning-rate':lr,\n",
    "        'epochs':epochs,\n",
    "    },\n",
    ")\n",
    "\n",
    "wandb.run.log({'Dataset': wandb.Table(dataframe=dataset)})\n",
    "\n",
    "X_train = dataset['areas']\n",
    "Y_train = dataset['prices']\n",
    "\n",
    "N = len(X_train)\n",
    "#parameter\n",
    "losses = [] # for debug\n",
    "\n",
    "for epoch in range(epochs):\n",
    "  #for an epoch\n",
    "  for i in range(N):\n",
    "    #get a sample\n",
    "    x = X_train[i]\n",
    "    y = Y_train[i]\n",
    "\n",
    "    #predict y_hat\n",
    "    y_hat = predict(x, w, b)\n",
    "\n",
    "    #compute loss\n",
    "    loss = (y_hat-y)*(y_hat-y)/2.0\n",
    "\n",
    "    #tracking loss with WandB\n",
    "    wandb.log({'loss': loss})\n",
    "\n",
    "    #compute gradient\n",
    "    (dw, db) = gradient(y_hat, y, x)\n",
    "\n",
    "    #update weights\n",
    "    (w, b) = update_weights(w, b, lr, dw, db)\n",
    "\n",
    "#Mark a run as finished, and finish uploading all data\n",
    "wandb.finish()"
   ]
  },
  {
   "cell_type": "markdown",
   "metadata": {},
   "source": [
    "Bài tập\n"
   ]
  },
  {
   "cell_type": "markdown",
   "metadata": {},
   "source": [
    "import pandas as pd\n",
    "import wandb"
   ]
  },
  {
   "cell_type": "code",
   "execution_count": null,
   "metadata": {},
   "outputs": [],
   "source": [
    "dataset = pd.read_csv('/content/advertising.csv')\n",
    "dataset.head()"
   ]
  },
  {
   "cell_type": "code",
   "execution_count": null,
   "metadata": {},
   "outputs": [],
   "source": [
    "tv_data = df.TV.values.tolist()\n",
    "radio_data = df.Radio.values.tolist()\n",
    "newspaper_data = df.Newspaper.values.tolist()\n",
    "sales_data = df.Sales.values.tolist()"
   ]
  },
  {
   "cell_type": "code",
   "execution_count": null,
   "metadata": {},
   "outputs": [],
   "source": [
    "def scaling(data1, data2, data3):\n",
    "  data = data1+data2+data3\n",
    "\n",
    "  max_value = max(data)\n",
    "  min_value = min(data)\n",
    "  mean_value = sum(data)/len(data)\n",
    "\n",
    "  data1 = [(x - mean_value)/(max_value - min_value) for x in data1]\n",
    "  data2 = [(x - mean_value)/(max_value - min_value) for x in data2]\n",
    "  data3 = [(x - mean_value)/(max_value - min_value) for x in data3]\n",
    "\n",
    "  return (data1, data2, data3), (mean_value, max_value, min_value)"
   ]
  },
  {
   "cell_type": "code",
   "execution_count": null,
   "metadata": {},
   "outputs": [],
   "source": [
    "(tv_data, radio_data, newspaper_data), (mean_v, max_v, min_v) = scaling(tv_data, radio_data, newspaper_data)"
   ]
  },
  {
   "cell_type": "code",
   "execution_count": null,
   "metadata": {},
   "outputs": [],
   "source": [
    "print(tv_data[:5])\n",
    "print(radio_data[:5])\n",
    "print(newspaper_data[:5])\n",
    "print(mean_v, max_v, min_v)"
   ]
  },
  {
   "cell_type": "code",
   "execution_count": null,
   "metadata": {},
   "outputs": [],
   "source": [
    "dataset = pd.DataFrame({\n",
    "    'TV': tv_data,\n",
    "    'Radio': radio_data,\n",
    "    'Newpaper': newspaper_data,\n",
    "    'Sales': sales_data\n",
    "})"
   ]
  },
  {
   "cell_type": "code",
   "execution_count": null,
   "metadata": {},
   "outputs": [],
   "source": [
    "def predict(x1, x2, x3, w1, w2, w3, b):\n",
    "  return x1*w1 + x2*w2 + x3*w3 + b\n",
    "\n",
    "def compute_loss(y_hat, y):\n",
    "  return (y_hat - y)**2\n",
    "\n",
    "#compute gradient\n",
    "def compute_gradient_wi(xi, y, y_hat):\n",
    "  dl_dwi = 2*xi*(y_hat-y)\n",
    "  return dl_dwi\n",
    "\n",
    "def compute_gradient_b(y, y_hat):\n",
    "  dl_db = 2*(y_hat-y)\n",
    "  return dl_db\n",
    "\n",
    "#Update weights\n",
    "def update_weights_wi(wi, dl_dwi, lr):\n",
    "  wi = wi - lr*dl_dwi\n",
    "  return wi\n",
    "\n",
    "def update_weights_b(b, dl_db, lr):\n",
    "  b = b - lr*dl_db\n",
    "  return b\n"
   ]
  },
  {
   "cell_type": "code",
   "execution_count": null,
   "metadata": {},
   "outputs": [],
   "source": [
    "#init weights\n",
    "w1 = w2 = w3 = 0\n",
    "b = 1\n",
    "epochs = 1000\n",
    "lr = 0.01\n",
    "\n",
    "#init project wandb\n",
    "wandb.init(\n",
    "    #Set the project where this run will be logged\n",
    "    project='abvertising-Linear-Regression',\n",
    "    config={\n",
    "        'learning_rate':lr,\n",
    "        'epochs': epochs,\n",
    "    },\n",
    ")\n",
    "\n",
    "wandb.run.log({'Dataset': wandb.Table(dataframe=dataset)})\n",
    "\n",
    "N = len(tv_data)\n",
    "#parameter\n",
    "losses = [] #for debug\n",
    "\n",
    "for epoch in range(epochs):\n",
    "  #some variables\n",
    "\n",
    "  loss_total = 0.0\n",
    "\n",
    "  dw1_total = 0.0\n",
    "  dw2_total = 0.0\n",
    "  dw3_total = 0.0\n",
    "  db_total = 0.0\n",
    "\n",
    "  for i in range(N):\n",
    "    x1 = tv_data[i]\n",
    "    x2 = radio_data[i]\n",
    "    x3 = newspaper_data[i]\n",
    "    y = sales_data[i]\n",
    "\n",
    "    #compute output\n",
    "    y_hat = predict(x1, x2, x3, w1, w2, w3, b)\n",
    "\n",
    "    #compute loss\n",
    "    loss = compute_loss(y=y, y_hat=y_hat)\n",
    "    loss_total = loss_total + loss\n",
    "\n",
    "    #compute gradient w1, w2, w3, b\n",
    "    dl_dw1 = compute_gradient_wi(x1, y, y_hat)\n",
    "    dl_dw2 = compute_gradient_wi(x2, y, y_hat)\n",
    "    dl_dw3 = compute_gradient_wi(x3, y, y_hat)\n",
    "    dl_db = compute_gradient_b(y=y, y_hat=y_hat)\n",
    "\n",
    "    #accumulate\n",
    "    dw1_total = dw1_total + dl_dw1\n",
    "    dw2_total = dw2_total + dl_dw2\n",
    "    dw3_total = dw3_total + dl_dw3\n",
    "    db_total = db_total + dl_db\n",
    "\n",
    "  w1 = update_weights_wi(w1, dl_dw1/N, lr)\n",
    "  w2 = update_weights_wi(w2, dl_dw2/N, lr)\n",
    "  w3 = update_weights_wi(w3, dl_dw3/N, lr)\n",
    "  b = update_weights_b(b, dl_db/N, lr)\n",
    "\n",
    "  #logging\n",
    "  wandb.log({'loss': loss_total/N})\n",
    "\n",
    "wandb.finish()\n"
   ]
  }
 ],
 "metadata": {
  "kernelspec": {
   "display_name": "base",
   "language": "python",
   "name": "python3"
  },
  "language_info": {
   "codemirror_mode": {
    "name": "ipython",
    "version": 3
   },
   "file_extension": ".py",
   "mimetype": "text/x-python",
   "name": "python",
   "nbconvert_exporter": "python",
   "pygments_lexer": "ipython3",
   "version": "3.9.12"
  }
 },
 "nbformat": 4,
 "nbformat_minor": 2
}
