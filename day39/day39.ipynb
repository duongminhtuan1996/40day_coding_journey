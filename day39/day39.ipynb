{
 "cells": [
  {
   "cell_type": "markdown",
   "metadata": {},
   "source": [
    "<h3>NÂNG CAO HIỂU QUẢ VIẾT CODE VỚI TUPE HINTS VÀ MYPY</h3>"
   ]
  },
  {
   "cell_type": "markdown",
   "metadata": {},
   "source": [
    "2.1 Hướng dẫn sử dụng Type Hints<br>\n",
    "2.1.1 Type hints cho biến"
   ]
  },
  {
   "cell_type": "code",
   "execution_count": 1,
   "metadata": {},
   "outputs": [
    {
     "name": "stdout",
     "output_type": "stream",
     "text": [
      "Welcome to AI VIENAM 2024!\n"
     ]
    }
   ],
   "source": [
    "name = 'AI VIENAM'\n",
    "year = 2024\n",
    "\n",
    "print(f'Welcome to {name} {year}!')"
   ]
  },
  {
   "cell_type": "code",
   "execution_count": 2,
   "metadata": {},
   "outputs": [
    {
     "name": "stdout",
     "output_type": "stream",
     "text": [
      "Welcome to AI VIETNAM 2024!\n",
      "{'name': <class 'str'>, 'year': <class 'int'>}\n"
     ]
    }
   ],
   "source": [
    "name: str = 'AI VIETNAM'\n",
    "year: int = 2024\n",
    "\n",
    "print(f'Welcome to {name} {year}!')\n",
    "print(__annotations__)"
   ]
  },
  {
   "cell_type": "code",
   "execution_count": 3,
   "metadata": {},
   "outputs": [],
   "source": [
    "#Biến với Type Hint là list chứa các số nguyên\n",
    "numbers: list[int]\n",
    "\n",
    "#Biến với Type Hint là tuple chứa một chuỗi và một số nguyên\n",
    "person: tuple[str, int]\n",
    "\n",
    "#Biến với Type Hint là int hoặc float\n",
    "data: list[str]|tuple[int, int]\n",
    "\n",
    "#Biến với Type Hint là Tuple chứa một list các số nguyên và một dict\n",
    "info: tuple[list[int], dict]\n",
    "\n",
    "#Biến với Type hint la boolean\n",
    "is_active: bool"
   ]
  },
  {
   "cell_type": "code",
   "execution_count": 4,
   "metadata": {},
   "outputs": [
    {
     "name": "stdout",
     "output_type": "stream",
     "text": [
      "{'name': <class 'str'>, 'year': <class 'int'>, 'numbers': list[int], 'person': tuple[str, int], 'data': list[str] | tuple[int, int], 'info': tuple[list[int], dict], 'is_active': <class 'bool'>}\n"
     ]
    },
    {
     "ename": "NameError",
     "evalue": "name 'numbers' is not defined",
     "output_type": "error",
     "traceback": [
      "\u001b[1;31m---------------------------------------------------------------------------\u001b[0m",
      "\u001b[1;31mNameError\u001b[0m                                 Traceback (most recent call last)",
      "Cell \u001b[1;32mIn[4], line 2\u001b[0m\n\u001b[0;32m      1\u001b[0m \u001b[38;5;28mprint\u001b[39m(\u001b[38;5;18m__annotations__\u001b[39m)\n\u001b[1;32m----> 2\u001b[0m \u001b[38;5;28mprint\u001b[39m(\u001b[43mnumbers\u001b[49m, person, data, info, is_active)\n",
      "\u001b[1;31mNameError\u001b[0m: name 'numbers' is not defined"
     ]
    }
   ],
   "source": [
    "print(__annotations__)\n",
    "print(numbers, person, data, info, is_active)"
   ]
  },
  {
   "cell_type": "markdown",
   "metadata": {},
   "source": [
    "2.1.2 Type hints cho hàm"
   ]
  },
  {
   "cell_type": "code",
   "execution_count": null,
   "metadata": {},
   "outputs": [
    {
     "name": "stdout",
     "output_type": "stream",
     "text": [
      "3.5\n",
      "{'x': <class 'int'>, 'y': <class 'int'>, 'return': <class 'int'>}\n"
     ]
    }
   ],
   "source": [
    "def add(x:int, y:int) ->int:\n",
    "    return x+y\n",
    "\n",
    "if __name__ == '__main__':\n",
    "    print(add(x=1.5, y=2))\n",
    "    print(add.__annotations__)"
   ]
  },
  {
   "cell_type": "markdown",
   "metadata": {},
   "source": [
    "2.1.3 Type hints cho class"
   ]
  },
  {
   "cell_type": "code",
   "execution_count": null,
   "metadata": {},
   "outputs": [
    {
     "name": "stdout",
     "output_type": "stream",
     "text": [
      "Xin chào. Tôi là Tom năm nay tôi 25 tuổi\n"
     ]
    }
   ],
   "source": [
    "class Person:\n",
    "    name: str\n",
    "    age: int\n",
    "\n",
    "    def __init__(self, name:str, age:int) -> None:\n",
    "        self.name = name\n",
    "        self.age = age\n",
    "    \n",
    "    def great(self) -> str:\n",
    "        return(f'Xin chào. Tôi là {self.name} năm nay tôi {self.age} tuổi')\n",
    "    \n",
    "\n",
    "if __name__ == \"__main__\":\n",
    "    person_1 = Person('Tom', 25)\n",
    "    print(person_1.great())"
   ]
  },
  {
   "cell_type": "markdown",
   "metadata": {},
   "source": [
    "2.2 Kết hợp Type hints với Mypy"
   ]
  },
  {
   "cell_type": "code",
   "execution_count": 8,
   "metadata": {},
   "outputs": [
    {
     "name": "stdout",
     "output_type": "stream",
     "text": [
      "3\n",
      "3.5\n",
      "{'x': <class 'int'>, 'y': <class 'int'>, 'return': <class 'int'>}\n"
     ]
    }
   ],
   "source": [
    "def add(x:int, y:int)->int:\n",
    "    return x+y\n",
    "\n",
    "\n",
    "if __name__ == \"__main__\":\n",
    "    print(add(x=1, y=2))\n",
    "    print(add(x=1.5, y=2))\n",
    "    print(add.__annotations__)"
   ]
  },
  {
   "cell_type": "code",
   "execution_count": 2,
   "metadata": {},
   "outputs": [],
   "source": [
    "def is_prime(n:int)->bool:\n",
    "    if n == 2:\n",
    "        return True\n",
    "    elif n <= 1:\n",
    "        return False\n",
    "    for i in range(2, int(n**0.5)+1):\n",
    "        if (n%i) == 0:\n",
    "            return False\n",
    "    return True"
   ]
  },
  {
   "cell_type": "code",
   "execution_count": 14,
   "metadata": {},
   "outputs": [
    {
     "name": "stdout",
     "output_type": "stream",
     "text": [
      "False\n",
      "True\n",
      "False\n",
      "True\n",
      "True\n",
      "False\n",
      "True\n"
     ]
    }
   ],
   "source": [
    "lst = [1, 3, 4, 5, 7, 10, 11]\n",
    "for value in lst:\n",
    "    print(is_prime(value))"
   ]
  },
  {
   "cell_type": "code",
   "execution_count": 3,
   "metadata": {},
   "outputs": [
    {
     "data": {
      "text/plain": [
       "True"
      ]
     },
     "execution_count": 3,
     "metadata": {},
     "output_type": "execute_result"
    }
   ],
   "source": [
    "is_prime(4.5)"
   ]
  },
  {
   "cell_type": "code",
   "execution_count": null,
   "metadata": {},
   "outputs": [],
   "source": []
  }
 ],
 "metadata": {
  "kernelspec": {
   "display_name": "base",
   "language": "python",
   "name": "python3"
  },
  "language_info": {
   "codemirror_mode": {
    "name": "ipython",
    "version": 3
   },
   "file_extension": ".py",
   "mimetype": "text/x-python",
   "name": "python",
   "nbconvert_exporter": "python",
   "pygments_lexer": "ipython3",
   "version": "3.9.12"
  }
 },
 "nbformat": 4,
 "nbformat_minor": 2
}
