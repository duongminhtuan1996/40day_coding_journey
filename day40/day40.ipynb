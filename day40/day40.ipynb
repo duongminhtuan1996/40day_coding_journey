{
 "cells": [
  {
   "cell_type": "code",
   "execution_count": 1,
   "metadata": {},
   "outputs": [
    {
     "ename": "RuntimeError",
     "evalue": "module compiled against API version 0xf but this version of numpy is 0xe",
     "output_type": "error",
     "traceback": [
      "\u001b[1;31m---------------------------------------------------------------------------\u001b[0m",
      "\u001b[1;31mRuntimeError\u001b[0m                              Traceback (most recent call last)",
      "\u001b[1;31mRuntimeError\u001b[0m: module compiled against API version 0xf but this version of numpy is 0xe"
     ]
    },
    {
     "ename": "RuntimeError",
     "evalue": "module compiled against API version 0xf but this version of numpy is 0xe",
     "output_type": "error",
     "traceback": [
      "\u001b[1;31m---------------------------------------------------------------------------\u001b[0m",
      "\u001b[1;31mRuntimeError\u001b[0m                              Traceback (most recent call last)",
      "\u001b[1;31mRuntimeError\u001b[0m: module compiled against API version 0xf but this version of numpy is 0xe"
     ]
    },
    {
     "ename": "RuntimeError",
     "evalue": "module compiled against API version 0xf but this version of numpy is 0xe",
     "output_type": "error",
     "traceback": [
      "\u001b[1;31m---------------------------------------------------------------------------\u001b[0m",
      "\u001b[1;31mRuntimeError\u001b[0m                              Traceback (most recent call last)",
      "\u001b[1;31mRuntimeError\u001b[0m: module compiled against API version 0xf but this version of numpy is 0xe"
     ]
    },
    {
     "ename": "RuntimeError",
     "evalue": "module compiled against API version 0xf but this version of numpy is 0xe",
     "output_type": "error",
     "traceback": [
      "\u001b[1;31m---------------------------------------------------------------------------\u001b[0m",
      "\u001b[1;31mRuntimeError\u001b[0m                              Traceback (most recent call last)",
      "\u001b[1;31mRuntimeError\u001b[0m: module compiled against API version 0xf but this version of numpy is 0xe"
     ]
    },
    {
     "ename": "RuntimeError",
     "evalue": "module compiled against API version 0xf but this version of numpy is 0xe",
     "output_type": "error",
     "traceback": [
      "\u001b[1;31m---------------------------------------------------------------------------\u001b[0m",
      "\u001b[1;31mRuntimeError\u001b[0m                              Traceback (most recent call last)",
      "\u001b[1;31mRuntimeError\u001b[0m: module compiled against API version 0xf but this version of numpy is 0xe"
     ]
    }
   ],
   "source": [
    "#Import Thư viện\n",
    "import numpy as np\n",
    "import torch\n",
    "import tensorflow as tf"
   ]
  },
  {
   "cell_type": "markdown",
   "metadata": {},
   "source": [
    "<h3>Numpy Array và Pytorch/Tensorflow Tensor"
   ]
  },
  {
   "cell_type": "markdown",
   "metadata": {},
   "source": [
    "Câu 1: Hãy viết chương trình tạo Numpy array, Tensorflow tensor, Pytorch tensor từ danh sách 1\n",
    "chiều?"
   ]
  },
  {
   "cell_type": "code",
   "execution_count": 2,
   "metadata": {},
   "outputs": [
    {
     "name": "stdout",
     "output_type": "stream",
     "text": [
      "Mảng 1 chiều NumPy:\n",
      " [1 2 3 4 5 6 7 8 9] <class 'numpy.ndarray'>\n",
      "Tensor PyTorch 1 chiều:\n",
      " tensor([1, 2, 3, 4, 5, 6, 7, 8, 9]) <class 'torch.Tensor'>\n",
      "Tensor Tensorflow 1 chiều:\n",
      " tf.Tensor([1 2 3 4 5 6 7 8 9], shape=(9,), dtype=int32)\n"
     ]
    }
   ],
   "source": [
    "list_1D = [i for i in range(1, 10)]\n",
    "\n",
    "arr_1D = np.array(list_1D)\n",
    "print('Mảng 1 chiều NumPy:\\n', arr_1D, type(arr_1D))\n",
    "\n",
    "tensor_1D_pt = torch.tensor(list_1D)\n",
    "print('Tensor PyTorch 1 chiều:\\n', tensor_1D_pt, type(tensor_1D_pt))\n",
    "\n",
    "tensor_1D_tf = tf.convert_to_tensor(list_1D)\n",
    "print('Tensor Tensorflow 1 chiều:\\n', tensor_1D_tf)"
   ]
  },
  {
   "cell_type": "code",
   "execution_count": 3,
   "metadata": {},
   "outputs": [
    {
     "name": "stdout",
     "output_type": "stream",
     "text": [
      "Hình dạng của mảng:  (3, 3)\n",
      "Kiểu dữ liệu của mảng:  int32\n",
      "Loại của mảng:  <class 'numpy.ndarray'>\n",
      "Mảng: \n",
      " [[1 2 3]\n",
      " [4 5 6]\n",
      " [7 8 9]]\n"
     ]
    }
   ],
   "source": [
    "#Tạo 1 mảng danh sách 2 chiều\n",
    "list_2D = [[1, 2, 3],\n",
    "           [4, 5, 6],\n",
    "           [7, 8, 9]]\n",
    "\n",
    "#Tạo một mảng 2 chiều\n",
    "arr_2D = np.array(list_2D)\n",
    "\n",
    "#Kiểm tra hình dạng, kiều dữ liệu và loại\n",
    "print('Hình dạng của mảng: ', arr_2D.shape)\n",
    "print('Kiểu dữ liệu của mảng: ', arr_2D.dtype)\n",
    "print('Loại của mảng: ', type(arr_2D))\n",
    "print('Mảng: \\n', arr_2D)"
   ]
  },
  {
   "cell_type": "code",
   "execution_count": 4,
   "metadata": {},
   "outputs": [
    {
     "name": "stdout",
     "output_type": "stream",
     "text": [
      "Hình dạng tensor:  torch.Size([3, 3])\n",
      "Kiểu dữ liệu của tensor:  torch.int64\n",
      "Loại của tensor:  <class 'torch.Tensor'>\n",
      "Thiết bị lư trữ của tensor:  cpu\n",
      "Tensor: \n",
      " tensor([[1, 2, 3],\n",
      "        [4, 5, 6],\n",
      "        [7, 8, 9]])\n"
     ]
    }
   ],
   "source": [
    "#Tạo tensor 2 chiều\n",
    "tensor_2D_pt = torch.tensor(list_2D)\n",
    "\n",
    "#Kiểm tran hình dạng, kiểu dữ liệu, loại, thiết bị lưu trữ của tensor\n",
    "print('Hình dạng tensor: ', tensor_2D_pt.shape)\n",
    "print('Kiểu dữ liệu của tensor: ', tensor_2D_pt.dtype)\n",
    "print('Loại của tensor: ',type(tensor_2D_pt))\n",
    "print('Thiết bị lư trữ của tensor: ',tensor_2D_pt.device)\n",
    "print('Tensor: \\n',tensor_2D_pt)"
   ]
  },
  {
   "cell_type": "code",
   "execution_count": 5,
   "metadata": {},
   "outputs": [
    {
     "name": "stdout",
     "output_type": "stream",
     "text": [
      "Hình dạng tensor:  (3, 3)\n",
      "Kiểu dữ liệu của tensor:  <dtype: 'int32'>\n",
      "Loại của tensor:  <class 'tensorflow.python.framework.ops.EagerTensor'>\n",
      "Thiết bị mà tensor lữu trữ:  /job:localhost/replica:0/task:0/device:CPU:0\n",
      "Tensor: \n",
      " tf.Tensor(\n",
      "[[1 2 3]\n",
      " [4 5 6]\n",
      " [7 8 9]], shape=(3, 3), dtype=int32)\n"
     ]
    }
   ],
   "source": [
    "#Tạo ténor 2 chiều\n",
    "tensor_2D_tf = tf.convert_to_tensor(arr_2D)\n",
    "\n",
    "#Kiemr tra hình dạng, kiểu dữ liệu, loại, thiết bị lưu trữ\n",
    "print('Hình dạng tensor: ', tensor_2D_tf.shape)\n",
    "print('Kiểu dữ liệu của tensor: ', tensor_2D_tf.dtype)\n",
    "print('Loại của tensor: ', type(tensor_2D_tf))\n",
    "print('Thiết bị mà tensor lữu trữ: ',tensor_2D_tf.device)\n",
    "print('Tensor: \\n',tensor_2D_tf)"
   ]
  },
  {
   "cell_type": "markdown",
   "metadata": {},
   "source": [
    "<h3>Các Hàm Khởi Tạo Numpy Array và\n",
    "Pytorch/Tensorflow Tensor - Phần 1"
   ]
  },
  {
   "cell_type": "markdown",
   "metadata": {},
   "source": [
    "Chương trình sau tạo array với kích thước (3, 4), đối với thư viện Numpy sử dụng cú pháp np.zeros,\n",
    "bên trong hàm này chúng ta truyền vào kích thước array chúng ta mong muốn là (3, 4)."
   ]
  },
  {
   "cell_type": "code",
   "execution_count": 6,
   "metadata": {},
   "outputs": [
    {
     "name": "stdout",
     "output_type": "stream",
     "text": [
      "[[0. 0. 0. 0.]\n",
      " [0. 0. 0. 0.]\n",
      " [0. 0. 0. 0.]]\n"
     ]
    }
   ],
   "source": [
    "#Tạo array toàn số 0\n",
    "arr_zeros = np.zeros((3,4))\n",
    "print(arr_zeros)"
   ]
  },
  {
   "cell_type": "code",
   "execution_count": 7,
   "metadata": {},
   "outputs": [
    {
     "name": "stdout",
     "output_type": "stream",
     "text": [
      "tensor([[0., 0., 0., 0.],\n",
      "        [0., 0., 0., 0.],\n",
      "        [0., 0., 0., 0.]])\n"
     ]
    }
   ],
   "source": [
    "#Tạo tensor toàn số 0\n",
    "tensor_zeros = torch.zeros((3, 4))\n",
    "print(tensor_zeros)"
   ]
  },
  {
   "cell_type": "code",
   "execution_count": 8,
   "metadata": {},
   "outputs": [
    {
     "name": "stdout",
     "output_type": "stream",
     "text": [
      "tf.Tensor(\n",
      "[[0. 0. 0. 0.]\n",
      " [0. 0. 0. 0.]\n",
      " [0. 0. 0. 0.]], shape=(3, 4), dtype=float32)\n"
     ]
    }
   ],
   "source": [
    "#Tạo tensor toàn số 0\n",
    "tensor_zeros = tf.zeros((3, 4))\n",
    "print(tensor_zeros)"
   ]
  },
  {
   "cell_type": "markdown",
   "metadata": {},
   "source": [
    "Câu 2: ones\n",
    "Chương trình sau tạo array với kích thước (3, 4), đối với thư viện Numpy sử dụng cú pháp np.ones"
   ]
  },
  {
   "cell_type": "code",
   "execution_count": 9,
   "metadata": {},
   "outputs": [
    {
     "name": "stdout",
     "output_type": "stream",
     "text": [
      "[[1. 1. 1. 1.]\n",
      " [1. 1. 1. 1.]\n",
      " [1. 1. 1. 1.]]\n"
     ]
    }
   ],
   "source": [
    "arr_ones = np.ones((3,4))\n",
    "print(arr_ones)"
   ]
  },
  {
   "cell_type": "code",
   "execution_count": 10,
   "metadata": {},
   "outputs": [
    {
     "name": "stdout",
     "output_type": "stream",
     "text": [
      "tensor([[1., 1., 1., 1.],\n",
      "        [1., 1., 1., 1.],\n",
      "        [1., 1., 1., 1.]])\n"
     ]
    }
   ],
   "source": [
    "tensor_ones = torch.ones((3,4))\n",
    "print(tensor_ones)"
   ]
  },
  {
   "cell_type": "code",
   "execution_count": 11,
   "metadata": {},
   "outputs": [
    {
     "name": "stdout",
     "output_type": "stream",
     "text": [
      "tf.Tensor(\n",
      "[[1. 1. 1. 1.]\n",
      " [1. 1. 1. 1.]\n",
      " [1. 1. 1. 1.]], shape=(3, 4), dtype=float32)\n"
     ]
    }
   ],
   "source": [
    "tensor_ones = tf.ones((3,4))\n",
    "print(tensor_ones)"
   ]
  },
  {
   "cell_type": "markdown",
   "metadata": {},
   "source": [
    "Câu 3: full, fill\n",
    "Chương trình sau tạo array với kích thước (3, 4), giá trị hằng số là 5. Đối với thư viện Numpy sử dụng\n",
    "cú pháp np.full"
   ]
  },
  {
   "cell_type": "code",
   "execution_count": 12,
   "metadata": {},
   "outputs": [
    {
     "name": "stdout",
     "output_type": "stream",
     "text": [
      "[[5 5 5 5]\n",
      " [5 5 5 5]\n",
      " [5 5 5 5]]\n"
     ]
    }
   ],
   "source": [
    "arr_full = np.full((3, 4), 5)\n",
    "print(arr_full)"
   ]
  },
  {
   "cell_type": "code",
   "execution_count": 13,
   "metadata": {},
   "outputs": [
    {
     "name": "stdout",
     "output_type": "stream",
     "text": [
      "tensor([[5, 5, 5, 5],\n",
      "        [5, 5, 5, 5],\n",
      "        [5, 5, 5, 5]])\n"
     ]
    }
   ],
   "source": [
    "tensor_full = torch.full((3,4), 5)\n",
    "print(tensor_full)"
   ]
  },
  {
   "cell_type": "code",
   "execution_count": 14,
   "metadata": {},
   "outputs": [
    {
     "name": "stdout",
     "output_type": "stream",
     "text": [
      "tf.Tensor(\n",
      "[[5 5 5 5]\n",
      " [5 5 5 5]\n",
      " [5 5 5 5]], shape=(3, 4), dtype=int32)\n"
     ]
    }
   ],
   "source": [
    "tensor_full = tf.fill([3, 4],5)\n",
    "print(tensor_full)"
   ]
  },
  {
   "cell_type": "markdown",
   "metadata": {},
   "source": [
    "<h3>Các Hàm Khởi Tạo Numpy Array và\n",
    "Pytorch/Tensorflow Tensor - Phần 2"
   ]
  },
  {
   "cell_type": "markdown",
   "metadata": {},
   "source": [
    "Câu 1: Hãy viết chương trình tạo Numpy array, Tensorflow tensor, Pytorch tensor trong khoảng [0, 10)\n",
    "với step=1?"
   ]
  },
  {
   "cell_type": "code",
   "execution_count": 15,
   "metadata": {},
   "outputs": [
    {
     "name": "stdout",
     "output_type": "stream",
     "text": [
      "[1 2 3 4 5 6 7 8 9]\n"
     ]
    }
   ],
   "source": [
    "arr_arange = np.arange(1, 10, 1)\n",
    "print(arr_arange)"
   ]
  },
  {
   "cell_type": "code",
   "execution_count": 16,
   "metadata": {},
   "outputs": [
    {
     "name": "stdout",
     "output_type": "stream",
     "text": [
      "tensor([1, 2, 3, 4, 5, 6, 7, 8, 9])\n"
     ]
    }
   ],
   "source": [
    "tensor_arange = torch.arange(1, 10, 1)\n",
    "print(tensor_arange)"
   ]
  },
  {
   "cell_type": "code",
   "execution_count": 17,
   "metadata": {},
   "outputs": [
    {
     "name": "stdout",
     "output_type": "stream",
     "text": [
      "tf.Tensor([1 2 3 4 5 6 7 8 9], shape=(9,), dtype=int32)\n"
     ]
    }
   ],
   "source": [
    "tensor_range = tf.range(1, 10, 1)\n",
    "print(tensor_range)"
   ]
  },
  {
   "cell_type": "markdown",
   "metadata": {},
   "source": [
    "Câu 2: eye\n",
    "Trong numpy chúng ta sử dụng hàm np.eye để tạo ma trận đơn vị, trong đó giá trị chúng ta truyền vào\n",
    "là số lượng hàng của ma trận đầu ra, số lượng cột mặc định bằng số lượng hàng, nếu muốn số lượng\n",
    "cột khác bạn cần truyền vào hàm eye số lượng cột chỉ định."
   ]
  },
  {
   "cell_type": "code",
   "execution_count": 18,
   "metadata": {},
   "outputs": [
    {
     "name": "stdout",
     "output_type": "stream",
     "text": [
      "[[1. 0. 0.]\n",
      " [0. 1. 0.]\n",
      " [0. 0. 1.]]\n"
     ]
    }
   ],
   "source": [
    "arr_eye = np.eye(3)\n",
    "print(arr_eye)"
   ]
  },
  {
   "cell_type": "code",
   "execution_count": 19,
   "metadata": {},
   "outputs": [
    {
     "name": "stdout",
     "output_type": "stream",
     "text": [
      "tensor([[1., 0., 0.],\n",
      "        [0., 1., 0.],\n",
      "        [0., 0., 1.]])\n"
     ]
    }
   ],
   "source": [
    "tensor_eye = torch.eye(3)\n",
    "print(tensor_eye)"
   ]
  },
  {
   "cell_type": "code",
   "execution_count": 20,
   "metadata": {},
   "outputs": [
    {
     "name": "stdout",
     "output_type": "stream",
     "text": [
      "tf.Tensor(\n",
      "[[1. 0. 0.]\n",
      " [0. 1. 0.]\n",
      " [0. 0. 1.]], shape=(3, 3), dtype=float32)\n"
     ]
    }
   ],
   "source": [
    "tensor_eye = tf.eye(3)\n",
    "print(tensor_eye)"
   ]
  },
  {
   "cell_type": "markdown",
   "metadata": {},
   "source": [
    "Câu 3: random\n",
    "Trong Numpy, chúng ta sẽ sử dụng hàm random.rand để tạo mảng với các giá trị ngẫu nhiên trong\n",
    "khoảng giá trị mặc định là [0, 1). Để tạo mảng với giá trị ngẫu nhiên là số nguyên chúng ta dùng\n",
    "random.randint, khi sử dụng hàm này ta cần truyền vào khoảng giá trị lấy ngẫu nhiên và kích thước\n",
    "đầu ra mong muốn."
   ]
  },
  {
   "cell_type": "code",
   "execution_count": 21,
   "metadata": {},
   "outputs": [
    {
     "name": "stdout",
     "output_type": "stream",
     "text": [
      "Mảng ngẫu nhiên trong khoảng [0, 1): \n",
      " [[0.58801452 0.69910875 0.18815196 0.04380856]\n",
      " [0.20501895 0.10606287 0.72724014 0.67940052]\n",
      " [0.4738457  0.44829582 0.01910695 0.75259834]]\n",
      "Mảng ngãu nhiên trong khoảng [-10, 10): \n",
      " [[ 5  1 -3  8]\n",
      " [-1 -4  0 -9]\n",
      " [-5  9 -6 -2]]\n"
     ]
    }
   ],
   "source": [
    "np.random.seed(2024)\n",
    "\n",
    "arr_rand = np.random.rand(3, 4)\n",
    "print('Mảng ngẫu nhiên trong khoảng [0, 1): \\n', arr_rand)\n",
    "\n",
    "arr_randint = np.random.randint(-10, 10, size=(3, 4))\n",
    "print('Mảng ngãu nhiên trong khoảng [-10, 10): \\n',arr_randint)"
   ]
  },
  {
   "cell_type": "code",
   "execution_count": 22,
   "metadata": {},
   "outputs": [
    {
     "name": "stdout",
     "output_type": "stream",
     "text": [
      "Tensor ngãu nhiên trong khoảng [0, 1): \n",
      " tensor([[0.5317, 0.8313, 0.9718, 0.1193],\n",
      "        [0.1669, 0.3495, 0.2150, 0.6201],\n",
      "        [0.4849, 0.7492, 0.1521, 0.5625]])\n",
      "Mảng ngãu nhiên trong khoảng [-10, 10): \n",
      " tensor([[  1,   8,   0,  -2],\n",
      "        [ -9, -10,  -9,   0],\n",
      "        [ -3,  -7,  -4,   8]])\n"
     ]
    }
   ],
   "source": [
    "torch.manual_seed(2024)\n",
    "\n",
    "tensor_rand = torch.rand((3, 4))\n",
    "print('Tensor ngãu nhiên trong khoảng [0, 1): \\n', tensor_rand)\n",
    "\n",
    "tensor_randint = torch.randint(-10, 10, size=(3, 4))\n",
    "print('Mảng ngãu nhiên trong khoảng [-10, 10): \\n', tensor_randint)"
   ]
  },
  {
   "cell_type": "code",
   "execution_count": 23,
   "metadata": {},
   "outputs": [
    {
     "name": "stdout",
     "output_type": "stream",
     "text": [
      "Tensor ngẫu nhiên trong khoảng [0, 1): \n",
      " tf.Tensor(\n",
      "[[0.90034294 0.19453335 0.36069036 0.66361904]\n",
      " [0.76605344 0.2159369  0.6261736  0.07380784]\n",
      " [0.22062695 0.934368   0.93327904 0.69267046]], shape=(3, 4), dtype=float32)\n",
      "Tensor ngẫu nhiên trong khoảng (-10, 10):\n",
      " tf.Tensor(\n",
      "[[-3 -7  9  3]\n",
      " [ 2 -5 -3 -5]\n",
      " [ 4 -3 -3  5]], shape=(3, 4), dtype=int32)\n"
     ]
    }
   ],
   "source": [
    "tf.random.set_seed(2024)\n",
    "\n",
    "tensor_rand = tf.random.uniform((3, 4))\n",
    "print('Tensor ngẫu nhiên trong khoảng [0, 1): \\n', tensor_rand)\n",
    "\n",
    "tensor_randint = tf.random.uniform((3, 4), minval=-10, maxval=10, dtype=tf.int32)\n",
    "print('Tensor ngẫu nhiên trong khoảng (-10, 10):\\n', tensor_randint)"
   ]
  },
  {
   "cell_type": "markdown",
   "metadata": {},
   "source": [
    "<h3>Numpy, Pytorch và Tensorflow Hàm Stack và Concatenate"
   ]
  },
  {
   "cell_type": "markdown",
   "metadata": {},
   "source": [
    "Câu 1: Hãy viết chương trình tạo Numpy 2 array, Pytorch tensor với từ list 1 có giá trị [1, 2, 3], list 2\n",
    "có giá trị [4, 5, 6]. Sau đó sử dụng hàm hstack để nối theo trục ngang và vstack để nối theo trục dọc?"
   ]
  },
  {
   "cell_type": "code",
   "execution_count": 24,
   "metadata": {},
   "outputs": [
    {
     "name": "stdout",
     "output_type": "stream",
     "text": [
      "Mảng 1: \n",
      " [1 2 3]\n",
      "Mảng 2: \n",
      " [4 5 6]\n",
      "Mang sau khi nối trục ngang: \n",
      " [1 2 3 4 5 6]\n"
     ]
    }
   ],
   "source": [
    "#Tạo 2 mảng\n",
    "arr_1 = np.array([1, 2, 3])\n",
    "arr_2 = np.array([4 ,5, 6])\n",
    "\n",
    "#Nối 2 mảng theo trục ngang\n",
    "arr_3 = np.hstack((arr_1, arr_2))\n",
    "\n",
    "print('Mảng 1: \\n', arr_1)\n",
    "print('Mảng 2: \\n', arr_2)\n",
    "print('Mang sau khi nối trục ngang: \\n', arr_3)"
   ]
  },
  {
   "cell_type": "code",
   "execution_count": 25,
   "metadata": {},
   "outputs": [
    {
     "name": "stdout",
     "output_type": "stream",
     "text": [
      "Tensor 1: \n",
      " tensor([1, 2, 3])\n",
      "Tensor2: \n",
      " tensor([4, 5, 6])\n",
      "Tensor sau khi nối trục ngang: \n",
      " tensor([1, 2, 3, 4, 5, 6])\n"
     ]
    }
   ],
   "source": [
    "tensor_1 = torch.tensor([1, 2, 3])\n",
    "tensor_2 = torch.tensor([4, 5, 6])\n",
    "\n",
    "#Nói 2 tensor theo trục ngang\n",
    "tensor_3 = torch.hstack((tensor_1, tensor_2))\n",
    "print('Tensor 1: \\n', tensor_1)\n",
    "print('Tensor2: \\n', tensor_2)\n",
    "print('Tensor sau khi nối trục ngang: \\n', tensor_3)"
   ]
  },
  {
   "cell_type": "markdown",
   "metadata": {},
   "source": [
    "Câu 2: vstack\n",
    "Hàm vstack được sử dụng để nối (hoặc \"stack\") các array hoặc tensor theo chiều dọc (theo trục hàng).\n",
    "Trong Numpy, vstack được sử dụng để nối các array theo chiều dọc. Chương trình:"
   ]
  },
  {
   "cell_type": "code",
   "execution_count": 26,
   "metadata": {},
   "outputs": [
    {
     "name": "stdout",
     "output_type": "stream",
     "text": [
      "Mảng 1: \n",
      " [1 2 3]\n",
      "Mảng 2: \n",
      " [4 5 6]\n",
      "Mang sau khi nối trục dọc: \n",
      " [[1 2 3]\n",
      " [4 5 6]]\n"
     ]
    }
   ],
   "source": [
    "#Tạo 2 mảng\n",
    "arr_1 = np.array([1, 2, 3])\n",
    "arr_2 = np.array([4 ,5, 6])\n",
    "\n",
    "#Nối 2 mảng theo trục dọc\n",
    "arr_3 = np.vstack((arr_1, arr_2))\n",
    "\n",
    "print('Mảng 1: \\n', arr_1)\n",
    "print('Mảng 2: \\n', arr_2)\n",
    "print('Mang sau khi nối trục dọc: \\n', arr_3)"
   ]
  },
  {
   "cell_type": "code",
   "execution_count": 27,
   "metadata": {},
   "outputs": [
    {
     "name": "stdout",
     "output_type": "stream",
     "text": [
      "Tensor 1: \n",
      " tensor([1, 2, 3])\n",
      "Tensor2: \n",
      " tensor([4, 5, 6])\n",
      "Tensor sau khi nối trục dọc: \n",
      " tensor([[1, 2, 3],\n",
      "        [4, 5, 6]])\n"
     ]
    }
   ],
   "source": [
    "tensor_1 = torch.tensor([1, 2, 3])\n",
    "tensor_2 = torch.tensor([4, 5, 6])\n",
    "\n",
    "#Nói 2 tensor theo trục dọc\n",
    "tensor_3 = torch.vstack((tensor_1, tensor_2))\n",
    "print('Tensor 1: \\n', tensor_1)\n",
    "print('Tensor2: \\n', tensor_2)\n",
    "print('Tensor sau khi nối trục dọc: \\n', tensor_3)"
   ]
  },
  {
   "cell_type": "markdown",
   "metadata": {},
   "source": [
    "Câu 3: Concanate\n",
    "Trong Numpy, concatenate được sử dụng để nối các array theo chiều ngang và dọc. Chương trình:"
   ]
  },
  {
   "cell_type": "code",
   "execution_count": 28,
   "metadata": {},
   "outputs": [
    {
     "name": "stdout",
     "output_type": "stream",
     "text": [
      "Array 1: \n",
      " [[1, 2, 3], [4, 5, 6]]\n",
      "Array 2: \n",
      " [[7, 8, 9], [10, 11, 12]]\n",
      "Nôi theo chiều dọc(axis=0): \n",
      " [[ 1  2  3]\n",
      " [ 4  5  6]\n",
      " [ 7  8  9]\n",
      " [10 11 12]]\n",
      "Nối theo chiều ngang(axis=1): \n",
      " [[ 1  2  3  7  8  9]\n",
      " [ 4  5  6 10 11 12]]\n"
     ]
    }
   ],
   "source": [
    "arr_1 = [[1, 2, 3],\n",
    "         [4, 5, 6]]\n",
    "arr_2 = [[7, 8, 9],\n",
    "         [10, 11, 12]]\n",
    "\n",
    "arr_3 = np.concatenate((arr_1, arr_2), axis=0)\n",
    "arr_4 = np.concatenate((arr_1, arr_2), axis=1)\n",
    "\n",
    "print('Array 1: \\n', arr_1)\n",
    "print('Array 2: \\n', arr_2)\n",
    "print('Nôi theo chiều dọc(axis=0): \\n', arr_3)\n",
    "print('Nối theo chiều ngang(axis=1): \\n', arr_4)"
   ]
  },
  {
   "cell_type": "code",
   "execution_count": 29,
   "metadata": {},
   "outputs": [
    {
     "name": "stdout",
     "output_type": "stream",
     "text": [
      "Tensor 1:\n",
      " tensor([[1, 2, 3],\n",
      "        [4, 5, 6]])\n",
      "Tensor 2:\n",
      " tensor([[ 7,  8,  9],\n",
      "        [10, 11, 12]])\n",
      "Nối theo chiều dọc(axis=0):\n",
      " tensor([[ 1,  2,  3],\n",
      "        [ 4,  5,  6],\n",
      "        [ 7,  8,  9],\n",
      "        [10, 11, 12]])\n",
      "Nối theo chiều ngang(axis=1):\n",
      " tensor([[ 1,  2,  3,  7,  8,  9],\n",
      "        [ 4,  5,  6, 10, 11, 12]])\n"
     ]
    }
   ],
   "source": [
    "#Pytorch code\n",
    "tensor_1 = torch.tensor([[1, 2, 3],\n",
    "                         [4, 5 ,6]])\n",
    "tensor_2 = torch.tensor([[7, 8, 9],\n",
    "                         [10, 11, 12]])\n",
    "\n",
    "#Nối 2 tensor theo chiều dọc axis=0\n",
    "tensor_3 = torch.cat((tensor_1, tensor_2), dim=0) #torch.concatenate or torch.concat\n",
    "\n",
    "#Nối 2 tensor theo chiều ngang axis=1\n",
    "tensor_4 = torch.cat((tensor_1, tensor_2), dim=1)\n",
    "\n",
    "print('Tensor 1:\\n', tensor_1)\n",
    "print('Tensor 2:\\n', tensor_2)\n",
    "print('Nối theo chiều dọc(axis=0):\\n', tensor_3)\n",
    "print('Nối theo chiều ngang(axis=1):\\n', tensor_4)"
   ]
  },
  {
   "cell_type": "code",
   "execution_count": 30,
   "metadata": {},
   "outputs": [
    {
     "name": "stdout",
     "output_type": "stream",
     "text": [
      "Tensor 1: \n",
      " tf.Tensor(\n",
      "[[1 2 3]\n",
      " [4 5 6]], shape=(2, 3), dtype=int32)\n",
      "Tensor 2: \n",
      " tf.Tensor(\n",
      "[[ 7  8  9]\n",
      " [10 11 12]], shape=(2, 3), dtype=int32)\n",
      "Nối theo chiều dọc(axis=0): \n",
      " tf.Tensor(\n",
      "[[ 1  2  3]\n",
      " [ 4  5  6]\n",
      " [ 7  8  9]\n",
      " [10 11 12]], shape=(4, 3), dtype=int32)\n",
      "Nối theo chiều ngang(axis=1): \n",
      " tf.Tensor(\n",
      "[[ 1  2  3  7  8  9]\n",
      " [ 4  5  6 10 11 12]], shape=(2, 6), dtype=int32)\n"
     ]
    }
   ],
   "source": [
    "#Tensorflow code\n",
    "tensor_1 = tf.convert_to_tensor([[1, 2, 3],\n",
    "                                 [4, 5, 6]])\n",
    "tensor_2 = tf.constant([[7, 8, 9],\n",
    "                        [10, 11, 12]])\n",
    "\n",
    "#Nối tensor theo chiều dọc axis=0\n",
    "tensor_3 = tf.concat((tensor_1, tensor_2), axis=0)\n",
    "\n",
    "#Nối tensor theo chiều dọc axis=1\n",
    "tensor_4 = tf.concat((tensor_1, tensor_2), axis=1)\n",
    "\n",
    "print('Tensor 1: \\n', tensor_1)\n",
    "print('Tensor 2: \\n', tensor_2)\n",
    "print('Nối theo chiều dọc(axis=0): \\n', tensor_3)\n",
    "print('Nối theo chiều ngang(axis=1): \\n', tensor_4)"
   ]
  },
  {
   "cell_type": "markdown",
   "metadata": {},
   "source": [
    "<h3>Các Hàm Quan Trọng Trong Numpy, Pytorch,\n",
    "Tensorflow - Phần 2"
   ]
  },
  {
   "cell_type": "markdown",
   "metadata": {},
   "source": [
    "a. Thêm chiều dữ liệu"
   ]
  },
  {
   "cell_type": "code",
   "execution_count": 31,
   "metadata": {},
   "outputs": [
    {
     "name": "stdout",
     "output_type": "stream",
     "text": [
      "array 1: \n",
      " [1 2 3]\n",
      "array 2: \n",
      " [[1 2 3]]\n",
      "array 3: \n",
      " [[[[[1]\n",
      "    [2]\n",
      "    [3]]]]] (1, 1, 1, 3, 1)\n"
     ]
    }
   ],
   "source": [
    "arr_1 = np.array([1, 2, 3])\n",
    "#1D -> 2D\n",
    "arr_2 = arr_1[np.newaxis, :]\n",
    "\n",
    "#2D -> 5D\n",
    "arr_3 = arr_2[np.newaxis, :, np.newaxis, :, np.newaxis]\n",
    "\n",
    "print('array 1: \\n',arr_1)\n",
    "print('array 2: \\n', arr_2)\n",
    "print('array 3: \\n', arr_3, arr_3.shape)"
   ]
  },
  {
   "cell_type": "code",
   "execution_count": 32,
   "metadata": {},
   "outputs": [
    {
     "name": "stdout",
     "output_type": "stream",
     "text": [
      "array 1: \n",
      " [1 2 3] (3,)\n",
      "array 2: \n",
      " [[1 2 3]] (1, 3)\n",
      "array 3: \n",
      " [[[[[1]\n",
      "    [2]\n",
      "    [3]]]]] (1, 1, 1, 3, 1)\n"
     ]
    }
   ],
   "source": [
    "arr_1 = np.array([1, 2, 3])\n",
    "\n",
    "#1D -> 2D\n",
    "arr_2 = np.expand_dims(arr_1, axis=0)\n",
    "\n",
    "#2D -> 5D\n",
    "arr_3 = np.expand_dims(arr_2, axis=(0, 2, 4))\n",
    "print('array 1: \\n',arr_1, arr_1.shape)\n",
    "print('array 2: \\n', arr_2, arr_2.shape)\n",
    "print('array 3: \\n', arr_3, arr_3.shape)"
   ]
  },
  {
   "cell_type": "code",
   "execution_count": 33,
   "metadata": {},
   "outputs": [
    {
     "name": "stdout",
     "output_type": "stream",
     "text": [
      "Tensor 1:\n",
      " tensor([1, 2, 3]) torch.Size([3])\n",
      "Tensor 2:\n",
      " tensor([[1, 2, 3]]) torch.Size([1, 3])\n",
      "Tensor 3:\n",
      " tensor([[[[[1],\n",
      "           [2],\n",
      "           [3]]]]]) torch.Size([1, 1, 1, 3, 1])\n"
     ]
    }
   ],
   "source": [
    "tensor_1 = torch.tensor([1, 2, 3])\n",
    "\n",
    "#Thêm chiều mới, chuyen từ 1D->2D\n",
    "tensor_2 = tensor_1[None, :]\n",
    "#Thêm nhiều chiều mới, chuyển từ 2D->5D\n",
    "tensor_3 = tensor_2[None, :, None, :, None]\n",
    "\n",
    "print('Tensor 1:\\n', tensor_1, tensor_1.shape)\n",
    "print('Tensor 2:\\n', tensor_2, tensor_2.shape)\n",
    "print('Tensor 3:\\n', tensor_3, tensor_3.shape)\n"
   ]
  },
  {
   "cell_type": "code",
   "execution_count": 34,
   "metadata": {},
   "outputs": [
    {
     "name": "stdout",
     "output_type": "stream",
     "text": [
      "Tensor 1:\n",
      " tf.Tensor([1 2 3], shape=(3,), dtype=int32) (3,)\n",
      "Tensor 2:\n",
      " tf.Tensor([[1 2 3]], shape=(1, 3), dtype=int32) (1, 3)\n",
      "Tensor 3:\n",
      " tf.Tensor(\n",
      "[[[[[1]\n",
      "    [2]\n",
      "    [3]]]]], shape=(1, 1, 1, 3, 1), dtype=int32) (1, 1, 1, 3, 1)\n"
     ]
    }
   ],
   "source": [
    "#Tensorflow code\n",
    "tensor_1 = tf.constant([1, 2, 3,])\n",
    "\n",
    "#1D -> 2D\n",
    "tensor_2 = tensor_1[None, :]\n",
    "\n",
    "#2D -> 5D:\n",
    "tensor_3 = tensor_2[None, :, None, :, None]\n",
    "\n",
    "print('Tensor 1:\\n', tensor_1, tensor_1.shape)\n",
    "print('Tensor 2:\\n', tensor_2, tensor_2.shape)\n",
    "print('Tensor 3:\\n', tensor_3, tensor_3.shape)"
   ]
  },
  {
   "cell_type": "markdown",
   "metadata": {},
   "source": [
    "b. Reshape\n"
   ]
  },
  {
   "cell_type": "code",
   "execution_count": 35,
   "metadata": {},
   "outputs": [
    {
     "name": "stdout",
     "output_type": "stream",
     "text": [
      "array 2D:\n",
      " [[1 2 3]\n",
      " [4 5 6]]\n",
      "array 1D:\n",
      " [1 2 3 4 5 6]\n"
     ]
    }
   ],
   "source": [
    "arr_2D = np.array([[1, 2, 3],\n",
    "                   [4, 5, 6]])\n",
    "\n",
    "arr_1D = np.reshape(arr_2D, newshape=(6, )) #arr_1D = arr_2D.reshape(6,)\n",
    "\n",
    "print('array 2D:\\n', arr_2D)\n",
    "print('array 1D:\\n', arr_1D)"
   ]
  },
  {
   "cell_type": "markdown",
   "metadata": {},
   "source": [
    "Câu 1: Viết chương trình tạo một Numpy array, Pytorch tensor, Tensorflow tensor từ list 1D có giá\n",
    "trị [2, 3, 5, 7]. Sau đó thực hiện thêm một chiều mới ở vị trí 0 để tạo array, tensor 2D. Sau đó tiếp tục\n",
    "thêm các chiều mới ở vị trí 1, 3 và 4 để tạo array, tensor 5D."
   ]
  },
  {
   "cell_type": "code",
   "execution_count": 36,
   "metadata": {},
   "outputs": [
    {
     "name": "stdout",
     "output_type": "stream",
     "text": [
      "array 1D:\n",
      " [2 3 5 7] (4,)\n",
      "array 2D: \n",
      " [[2 3 5 7]] (1, 4)\n",
      "array 5D:\n",
      " [[[[[2]]\n",
      "\n",
      "   [[3]]\n",
      "\n",
      "   [[5]]\n",
      "\n",
      "   [[7]]]]] (1, 1, 4, 1, 1)\n"
     ]
    }
   ],
   "source": [
    "#Numpy code\n",
    "arr_1D = np.array([2, 3, 5, 7])\n",
    "\n",
    "#1D -> 2D\n",
    "arr_2D = arr_1D[np.newaxis, :]\n",
    "\n",
    "#2D -> 5D\n",
    "arr_5D = np.expand_dims(arr_2D, axis=(1, 3, 4))\n",
    "\n",
    "print('array 1D:\\n', arr_1D, arr_1D.shape)\n",
    "print('array 2D: \\n', arr_2D, arr_2D.shape)\n",
    "print('array 5D:\\n', arr_5D, arr_5D.shape)"
   ]
  },
  {
   "cell_type": "code",
   "execution_count": 37,
   "metadata": {},
   "outputs": [
    {
     "name": "stdout",
     "output_type": "stream",
     "text": [
      "Tensor 1D:\n",
      " tensor([2, 3, 5, 7]) torch.Size([4])\n",
      "Tensor 2D:\n",
      " tensor([[2, 3, 5, 7]]) torch.Size([1, 4])\n",
      "Tensor 5D:\n",
      " tensor([[[[[2]],\n",
      "\n",
      "          [[3]],\n",
      "\n",
      "          [[5]],\n",
      "\n",
      "          [[7]]]]]) torch.Size([1, 1, 4, 1, 1])\n"
     ]
    }
   ],
   "source": [
    "#Pytorch code\n",
    "tensor_1D = torch.tensor([2, 3, 5, 7])\n",
    "\n",
    "#1D -> 2D\n",
    "tensor_2D = tensor_1D[None, :]\n",
    "\n",
    "#2D -> 5D\n",
    "tensor_5D = tensor_2D[:, None, :, None, None]\n",
    "\n",
    "print('Tensor 1D:\\n', tensor_1D, tensor_1D.shape)\n",
    "print('Tensor 2D:\\n', tensor_2D, tensor_2D.shape)\n",
    "print('Tensor 5D:\\n', tensor_5D, tensor_5D.shape)"
   ]
  },
  {
   "cell_type": "code",
   "execution_count": 38,
   "metadata": {},
   "outputs": [
    {
     "name": "stdout",
     "output_type": "stream",
     "text": [
      "Tensor 1D:\n",
      " tf.Tensor([2 3 5 7], shape=(4,), dtype=int32) (4,)\n",
      "Tensor 2D:\n",
      " tf.Tensor([[2 3 5 7]], shape=(1, 4), dtype=int32) (1, 4)\n",
      "Tensor 5D:\n",
      " tf.Tensor(\n",
      "[[[[[2]]\n",
      "\n",
      "   [[3]]\n",
      "\n",
      "   [[5]]\n",
      "\n",
      "   [[7]]]]], shape=(1, 1, 4, 1, 1), dtype=int32) (1, 1, 4, 1, 1)\n"
     ]
    }
   ],
   "source": [
    "#Pytorch code\n",
    "tensor_1D = tf.convert_to_tensor([2, 3, 5, 7])\n",
    "\n",
    "#1D -> 2D\n",
    "tensor_2D = tensor_1D[None, :]\n",
    "\n",
    "#2D -> 5D\n",
    "tensor_5D = tensor_2D[:, None, :, None, None]\n",
    "\n",
    "print('Tensor 1D:\\n', tensor_1D, tensor_1D.shape)\n",
    "print('Tensor 2D:\\n', tensor_2D, tensor_2D.shape)\n",
    "print('Tensor 5D:\\n', tensor_5D, tensor_5D.shape)"
   ]
  },
  {
   "cell_type": "markdown",
   "metadata": {},
   "source": [
    "<h3>Các Hàm Quan Trọng Trong Numpy, Pytorch,\n",
    "Tensorflow - Phần 3"
   ]
  },
  {
   "cell_type": "code",
   "execution_count": 39,
   "metadata": {},
   "outputs": [
    {
     "name": "stdout",
     "output_type": "stream",
     "text": [
      "Mảng ngẫu nhiên: \n",
      " [[ -2 -10 -10]\n",
      " [ -6  -1  -9]\n",
      " [ -7   0  -8]]\n",
      "mảng sau khi được cắt trong khoảng {3, 8}\n",
      " [[3 3 3]\n",
      " [3 3 3]\n",
      " [3 3 3]]\n"
     ]
    }
   ],
   "source": [
    "np.random.seed(2024)\n",
    "\n",
    "arr_rand = np.random.randint(-10, 10, size=(3, 3))\n",
    "\n",
    "print('Mảng ngẫu nhiên: \\n', arr_rand)\n",
    "\n",
    "arr_clip = np.clip(arr_rand, a_min=3, a_max=8)\n",
    "print('mảng sau khi được cắt trong khoảng {3, 8}\\n', arr_clip)"
   ]
  },
  {
   "cell_type": "code",
   "execution_count": 40,
   "metadata": {},
   "outputs": [
    {
     "name": "stdout",
     "output_type": "stream",
     "text": [
      "Tensor ngẫu nhiên: \n",
      " tensor([[  2,   0,  -6, -10],\n",
      "        [ -7, -10,   0,   1],\n",
      "        [  3,   9,   7,  -6]])\n",
      "Tensor clip: \n",
      " tensor([[3, 3, 3, 3],\n",
      "        [3, 3, 3, 3],\n",
      "        [3, 8, 7, 3]])\n"
     ]
    }
   ],
   "source": [
    "torch.manual_seed(2024)\n",
    "\n",
    "tensor_rand = torch.randint(-10, 10, size=(3, 4))\n",
    "print('Tensor ngẫu nhiên: \\n', tensor_rand)\n",
    "\n",
    "tensor_clip = torch.clamp(tensor_rand, min=3, max=8) # or torch.clip()\n",
    "print('Tensor clip: \\n', tensor_clip)\n"
   ]
  },
  {
   "cell_type": "code",
   "execution_count": 41,
   "metadata": {},
   "outputs": [
    {
     "name": "stdout",
     "output_type": "stream",
     "text": [
      "Tensor ngẫu nhiên: \n",
      " tf.Tensor(\n",
      "[[-6 -2  0 -2]\n",
      " [ 4  4 -9  3]\n",
      " [ 7  1  2 -5]], shape=(3, 4), dtype=int32)\n",
      "Tensor clip: \n",
      " tf.Tensor(\n",
      "[[3 3 3 3]\n",
      " [4 4 3 3]\n",
      " [7 3 3 3]], shape=(3, 4), dtype=int32)\n"
     ]
    }
   ],
   "source": [
    "tf.random.set_seed(2024)\n",
    "\n",
    "tensor_rand = tf.random.uniform((3, 4), minval=-10, maxval=10, dtype=tf.int32)\n",
    "print('Tensor ngẫu nhiên: \\n', tensor_rand)\n",
    "\n",
    "tensor_clip = tf.clip_by_value(tensor_rand, clip_value_min=3, clip_value_max=8)\n",
    "print('Tensor clip: \\n', tensor_clip)"
   ]
  },
  {
   "cell_type": "markdown",
   "metadata": {},
   "source": [
    "Câu 1: Viết chương trình tạo một Numpy array, Pytorch tensor, Tensorflow tensor với các giá trị số\n",
    "nguyên ngẫu nhiên trong khoảng [-5, 10) với kích thước (4, 3). Sử dụng hàm clip để cắt các giá trị nằm\n",
    "ngoài khoảng [-2, 0]? Lưu ý: Sử dụng seed=2024"
   ]
  },
  {
   "cell_type": "code",
   "execution_count": 42,
   "metadata": {},
   "outputs": [
    {
     "name": "stdout",
     "output_type": "stream",
     "text": [
      "Mảng ngẫu nhiên: \n",
      " [[ 3  5 -5]\n",
      " [-5  6 -1]\n",
      " [ 9  2  4]\n",
      " [-4  7 -2]]\n",
      "mảng sau khi được cắt trong khoảng {3, 8}\n",
      " [[ 0  0 -2]\n",
      " [-2  0 -1]\n",
      " [ 0  0  0]\n",
      " [-2  0 -2]]\n"
     ]
    }
   ],
   "source": [
    "#Numpy code\n",
    "np.random.seed(2024)\n",
    "\n",
    "arr_rand = np.random.randint(-5, 10, size=(4, 3))\n",
    "\n",
    "print('Mảng ngẫu nhiên: \\n', arr_rand)\n",
    "\n",
    "arr_clip = np.clip(arr_rand, a_min=-2, a_max=0)\n",
    "print('mảng sau khi được cắt trong khoảng {3, 8}\\n', arr_clip)"
   ]
  },
  {
   "cell_type": "code",
   "execution_count": 43,
   "metadata": {},
   "outputs": [
    {
     "name": "stdout",
     "output_type": "stream",
     "text": [
      "Tensor ngẫu nhiên: \n",
      " tensor([[-3,  0, -1],\n",
      "        [ 0, -2,  0],\n",
      "        [ 5,  6,  3],\n",
      "        [ 4, -3, -1]])\n",
      "Tensor clip: \n",
      " tensor([[-2,  0, -1],\n",
      "        [ 0, -2,  0],\n",
      "        [ 0,  0,  0],\n",
      "        [ 0, -2, -1]])\n"
     ]
    }
   ],
   "source": [
    "#Pytorch code\n",
    "torch.manual_seed(2024)\n",
    "\n",
    "tensor_rand = torch.randint(-5, 10, size=(4, 3))\n",
    "print('Tensor ngẫu nhiên: \\n', tensor_rand)\n",
    "\n",
    "tensor_clip = torch.clip(tensor_rand, min=-2, max=0)\n",
    "print('Tensor clip: \\n', tensor_clip)"
   ]
  },
  {
   "cell_type": "code",
   "execution_count": 44,
   "metadata": {},
   "outputs": [
    {
     "name": "stdout",
     "output_type": "stream",
     "text": [
      "Tensor ngẫu nhiên: \n",
      " tf.Tensor(\n",
      "[[ 4  3  0]\n",
      " [ 3  9  9]\n",
      " [-4 -2  2]\n",
      " [ 6  2  0]], shape=(4, 3), dtype=int32)\n",
      "Tensor clip: \n",
      " tf.Tensor(\n",
      "[[ 0  0  0]\n",
      " [ 0  0  0]\n",
      " [-2 -2  0]\n",
      " [ 0  0  0]], shape=(4, 3), dtype=int32)\n"
     ]
    }
   ],
   "source": [
    "#Pytorch code\n",
    "tf.random.set_seed(2024)\n",
    "\n",
    "tensor_rand = tf.random.uniform((4, 3), minval=-5, maxval=10, dtype=tf.int32)\n",
    "print('Tensor ngẫu nhiên: \\n', tensor_rand)\n",
    "\n",
    "tensor_clip = tf.clip_by_value(tensor_rand, clip_value_min=-2, clip_value_max=0)\n",
    "print('Tensor clip: \\n', tensor_clip)"
   ]
  },
  {
   "cell_type": "markdown",
   "metadata": {},
   "source": [
    "<h3>Indexing Trong Numpy, Pytorch và Tensorflow -\n",
    "Phần 1"
   ]
  },
  {
   "cell_type": "markdown",
   "metadata": {},
   "source": [
    "<b>Bài tập</b>\n",
    "Hãy viết chương trình để tạo một numpy array, PyTorch tensor và TensorFlow tensor từ một list 3D\n",
    "có giá trị như sau: [[[1, 2, 3], [4, 5, 6]], [[7, 8, 9], [10, 11, 12]], [[13, 14, 15], [16, 17, 18]]]. Sau đó sử dụng\n",
    "slicing thực hiện các yêu cầu sau:<br>\n",
    "- Sử dụng slicing để lấy một phần của array, tensor tại vị trí index (0, 1) của mảng 2D trong mảng\n",
    "3D và giữ nguyên số chiều"
   ]
  },
  {
   "cell_type": "code",
   "execution_count": 45,
   "metadata": {},
   "outputs": [
    {
     "data": {
      "text/plain": [
       "(3, 2, 3)"
      ]
     },
     "execution_count": 45,
     "metadata": {},
     "output_type": "execute_result"
    }
   ],
   "source": [
    "arr = np.array([[[1, 2, 3], [4, 5, 6]], [[7, 8, 9], [10, 11, 12]], [[13, 14, 15], [16, 17, 18]]])\n",
    "arr.shape"
   ]
  },
  {
   "cell_type": "code",
   "execution_count": 46,
   "metadata": {},
   "outputs": [
    {
     "data": {
      "text/plain": [
       "array([[[2]]])"
      ]
     },
     "execution_count": 46,
     "metadata": {},
     "output_type": "execute_result"
    }
   ],
   "source": [
    "#Giữ nguyên số chiều\n",
    "arr[0:1, 0:1, 1:2]"
   ]
  },
  {
   "cell_type": "markdown",
   "metadata": {},
   "source": [
    "- Sử dụng slicing để lấy một phần của array, tensor tại vị trí index (0, 1) của mảng 2D trong mảng\n",
    "3D, nhưng giảm đi một chiều."
   ]
  },
  {
   "cell_type": "code",
   "execution_count": 47,
   "metadata": {},
   "outputs": [
    {
     "data": {
      "text/plain": [
       "array([[2]])"
      ]
     },
     "execution_count": 47,
     "metadata": {},
     "output_type": "execute_result"
    }
   ],
   "source": [
    "#Giảm đi 1 chiều\n",
    "arr[0, 0:1, 1:2]"
   ]
  },
  {
   "cell_type": "markdown",
   "metadata": {},
   "source": [
    "<h3>Indexing Trong Numpy, Pytorch và Tensorflow -\n",
    "Phần 2"
   ]
  },
  {
   "cell_type": "markdown",
   "metadata": {},
   "source": [
    "Câu 1: Cho một list 2D như sau:<br>\n",
    "[[1 , 0, 1],<br>\n",
    "[0, 1, 0],<br>\n",
    "[1, 0, 1]]<br>\n",
    "Hãy tạo array, tensor( Pytorch, Tensorflow) từ list 2D này sau đó thực hiện các yêu cầu sau:<br>\n",
    "- Lấy hàng thứ 2(index=1) theo 2 cách giữ nguyên hoặc giảm số chiều<br>\n",
    "- Lấy cột thứ nhất(index=0) theo 2 cách giữ nguyên hoặc giảm số chiều"
   ]
  },
  {
   "cell_type": "code",
   "execution_count": 50,
   "metadata": {},
   "outputs": [
    {
     "name": "stdout",
     "output_type": "stream",
     "text": [
      "Hàng 2 giữ nguyên số chiều: \n",
      " [[0 1 0]]\n",
      "Hàng 2 giảm số chiều: \n",
      " [0 1 0]\n",
      "Cột 1 giữa nguyên số chiều: \n",
      " [[1]\n",
      " [0]\n",
      " [1]]\n",
      "Cột 1 giảm số chiều: \n",
      " [1 0 1]\n"
     ]
    }
   ],
   "source": [
    "#Code Numpy\n",
    "arr = np.array([[1 , 0, 1],\n",
    "                [0, 1, 0],\n",
    "                [1, 0, 1]])\n",
    "\n",
    "#Lấy hàng 2 giữa nguyên số chiều\n",
    "print('Hàng 2 giữ nguyên số chiều: \\n', arr[1:2, :])\n",
    "\n",
    "#Lấy hàng 2 giảm số chiều\n",
    "print('Hàng 2 giảm số chiều: \\n', arr[1, :])\n",
    "\n",
    "#Lấy cột 1 giữa nguyên số chiều\n",
    "print('Cột 1 giữa nguyên số chiều: \\n', arr[:, 0:1])\n",
    "\n",
    "#Lấy cột 1 giảm số chiều\n",
    "print('Cột 1 giảm số chiều: \\n', arr[:, 0])"
   ]
  },
  {
   "cell_type": "code",
   "execution_count": 51,
   "metadata": {},
   "outputs": [
    {
     "name": "stdout",
     "output_type": "stream",
     "text": [
      "Hàng 2 giữ nguyên số chiều: \n",
      " tensor([[0, 1, 0]])\n",
      "Hàng 2 giảm số chiều: \n",
      " tensor([0, 1, 0])\n",
      "Cột 1 giữa nguyên số chiều: \n",
      " tensor([[1],\n",
      "        [0],\n",
      "        [1]])\n",
      "Cột 1 giảm số chiều: \n",
      " tensor([1, 0, 1])\n"
     ]
    }
   ],
   "source": [
    "#Code pytorch\n",
    "tensor = torch.tensor([[1 , 0, 1],\n",
    "                        [0, 1, 0],\n",
    "                        [1, 0, 1]])\n",
    "\n",
    "#Lấy hàng 2 giữa nguyên số chiều\n",
    "print('Hàng 2 giữ nguyên số chiều: \\n', tensor[1:2, :])\n",
    "\n",
    "#Lấy hàng 2 giảm số chiều\n",
    "print('Hàng 2 giảm số chiều: \\n', tensor[1, :])\n",
    "\n",
    "#Lấy cột 1 giữa nguyên số chiều\n",
    "print('Cột 1 giữa nguyên số chiều: \\n', tensor[:, 0:1])\n",
    "\n",
    "#Lấy cột 1 giảm số chiều\n",
    "print('Cột 1 giảm số chiều: \\n', tensor[:, 0])"
   ]
  },
  {
   "cell_type": "code",
   "execution_count": 52,
   "metadata": {},
   "outputs": [
    {
     "name": "stdout",
     "output_type": "stream",
     "text": [
      "Hàng 2 giữ nguyên số chiều: \n",
      " tf.Tensor([[0 1 0]], shape=(1, 3), dtype=int32)\n",
      "Hàng 2 giảm số chiều: \n",
      " tf.Tensor([0 1 0], shape=(3,), dtype=int32)\n",
      "Cột 1 giữa nguyên số chiều: \n",
      " tf.Tensor(\n",
      "[[1]\n",
      " [0]\n",
      " [1]], shape=(3, 1), dtype=int32)\n",
      "Cột 1 giảm số chiều: \n",
      " tf.Tensor([1 0 1], shape=(3,), dtype=int32)\n"
     ]
    }
   ],
   "source": [
    "#Code tensorflow\n",
    "tensor = tf.constant([[1 , 0, 1],\n",
    "                        [0, 1, 0],\n",
    "                        [1, 0, 1]])\n",
    "\n",
    "#Lấy hàng 2 giữa nguyên số chiều\n",
    "print('Hàng 2 giữ nguyên số chiều: \\n', tensor[1:2, :])\n",
    "\n",
    "#Lấy hàng 2 giảm số chiều\n",
    "print('Hàng 2 giảm số chiều: \\n', tensor[1, :])\n",
    "\n",
    "#Lấy cột 1 giữa nguyên số chiều\n",
    "print('Cột 1 giữa nguyên số chiều: \\n', tensor[:, 0:1])\n",
    "\n",
    "#Lấy cột 1 giảm số chiều\n",
    "print('Cột 1 giảm số chiều: \\n', tensor[:, 0])"
   ]
  },
  {
   "cell_type": "markdown",
   "metadata": {},
   "source": [
    "Câu 2: Viết chương trình tạo một Numpy array, Pytorch tensor, Tensorflow tensor với các giá trị số\n",
    "nguyên ngẫu nhiên trong khoảng [-10, 10) với kích thước (3, 3). Sau đó sử dụng Boolean indices để lọc\n",
    "các phần tử lớn hơn 0. Lưu ý: sử dụng seed=2024"
   ]
  },
  {
   "cell_type": "code",
   "execution_count": 59,
   "metadata": {},
   "outputs": [
    {
     "name": "stdout",
     "output_type": "stream",
     "text": [
      "Mảng ngãu nhiên: \n",
      " [[ -2 -10 -10]\n",
      " [ -6  -1  -9]\n",
      " [ -7   0  -8]]\n",
      "Mảng sau khi kiểm tra ddieuf kiện:  []\n"
     ]
    }
   ],
   "source": [
    "#Code Numpy\n",
    "np.random.seed(2024)\n",
    "\n",
    "arr_rand = np.random.randint(-10, 10, size=(3, 3))\n",
    "print('Mảng ngãu nhiên: \\n', arr_rand)\n",
    "\n",
    "bool_check = arr_rand>0\n",
    "print('Mảng sau khi kiểm tra ddieuf kiện: ', arr_rand[bool_check])"
   ]
  },
  {
   "cell_type": "code",
   "execution_count": 61,
   "metadata": {},
   "outputs": [
    {
     "name": "stdout",
     "output_type": "stream",
     "text": [
      "Tensor ngẫu nhiên: \n",
      " tensor([[  2,   0,  -6],\n",
      "        [-10,  -7, -10],\n",
      "        [  0,   1,   3]])\n",
      "Tensor sau khi kiểm tra điều kiện: \n",
      " tensor([2, 1, 3])\n"
     ]
    }
   ],
   "source": [
    "#Code Pytorch\n",
    "torch.manual_seed(2024)\n",
    "\n",
    "tensor_rand = torch.randint(-10, 10, size=(3, 3))\n",
    "print('Tensor ngẫu nhiên: \\n', tensor_rand)\n",
    "\n",
    "bool_check = tensor_rand>0\n",
    "print('Tensor sau khi kiểm tra điều kiện: \\n', tensor_rand[bool_check])"
   ]
  },
  {
   "cell_type": "code",
   "execution_count": 62,
   "metadata": {},
   "outputs": [
    {
     "name": "stdout",
     "output_type": "stream",
     "text": [
      "Tensor ngẫu nhiên: \n",
      " tf.Tensor(\n",
      "[[-6 -2  0]\n",
      " [-2  4  4]\n",
      " [-9  3  7]], shape=(3, 3), dtype=int32)\n",
      "Tensor sau khi kiểm tra điều kiện: \n",
      " tf.Tensor([4 4 3 7], shape=(4,), dtype=int32)\n"
     ]
    }
   ],
   "source": [
    "#Code Tensorflow\n",
    "tf.random.set_seed(2024)\n",
    "\n",
    "tensor_rand = tf.random.uniform(shape=(3, 3), minval=-10, maxval=10, dtype=tf.int32)\n",
    "print('Tensor ngẫu nhiên: \\n', tensor_rand)\n",
    "\n",
    "bool_check = tensor_rand>0\n",
    "print('Tensor sau khi kiểm tra điều kiện: \\n', tensor_rand[bool_check])"
   ]
  },
  {
   "cell_type": "markdown",
   "metadata": {},
   "source": [
    "<h3>Các Phép Tính Numpy, Pytorch và Tensorflow -\n",
    "Phần 1"
   ]
  },
  {
   "cell_type": "markdown",
   "metadata": {},
   "source": [
    "Cho hai list 2D như sau:"
   ]
  },
  {
   "cell_type": "code",
   "execution_count": 64,
   "metadata": {},
   "outputs": [],
   "source": [
    "lst_1 = [[1 , -2, 1],\n",
    "        [-3, 1, 0],\n",
    "        [-2, 5, 1]]\n",
    "\n",
    "lst_2 = [[1 , 3, 5],\n",
    "        [2, 4, 6],\n",
    "        [3, 5, 7]]"
   ]
  },
  {
   "cell_type": "markdown",
   "metadata": {},
   "source": [
    "Hãy tạo 2 array, tensor( Pytorch, Tensorflow) từ list 2D này sau đó thực hiện các phép tính addition\n",
    "và subtraction giữa hai array, tensor vừa tạo."
   ]
  },
  {
   "cell_type": "code",
   "execution_count": 66,
   "metadata": {},
   "outputs": [
    {
     "name": "stdout",
     "output_type": "stream",
     "text": [
      "Mảng 1: \n",
      " [[ 1 -2  1]\n",
      " [-3  1  0]\n",
      " [-2  5  1]]\n",
      "Mảng 2: \n",
      " [[1 3 5]\n",
      " [2 4 6]\n",
      " [3 5 7]]\n",
      "Tổng 2 mảng: \n",
      " [[ 2  1  6]\n",
      " [-1  5  6]\n",
      " [ 1 10  8]]\n",
      "Hiệu 2 mảng:\n",
      " [[ 0 -5 -4]\n",
      " [-5 -3 -6]\n",
      " [-5  0 -6]]\n"
     ]
    }
   ],
   "source": [
    "#code Numpy\n",
    "arr_1 = np.array(lst_1)\n",
    "arr_2 = np.array(lst_2)\n",
    "\n",
    "arr_3 = arr_1 + arr_2\n",
    "\n",
    "arr_4 = arr_1 - arr_2\n",
    "\n",
    "print('Mảng 1: \\n', arr_1)\n",
    "print(\"Mảng 2: \\n\", arr_2)\n",
    "print('Tổng 2 mảng: \\n', arr_3)\n",
    "print('Hiệu 2 mảng:\\n', arr_4)"
   ]
  },
  {
   "cell_type": "code",
   "execution_count": 67,
   "metadata": {},
   "outputs": [
    {
     "name": "stdout",
     "output_type": "stream",
     "text": [
      "Tensor 1: \n",
      " tensor([[ 1, -2,  1],\n",
      "        [-3,  1,  0],\n",
      "        [-2,  5,  1]])\n",
      "Tensor 2: \n",
      " tensor([[1, 3, 5],\n",
      "        [2, 4, 6],\n",
      "        [3, 5, 7]])\n",
      "Tổng 2 tensor: \n",
      " tensor([[ 2,  1,  6],\n",
      "        [-1,  5,  6],\n",
      "        [ 1, 10,  8]])\n",
      "Hiệu 2 tensor:\n",
      " tensor([[ 0, -5, -4],\n",
      "        [-5, -3, -6],\n",
      "        [-5,  0, -6]])\n"
     ]
    }
   ],
   "source": [
    "#Code Pytorch\n",
    "tensor_1 = torch.tensor(lst_1)\n",
    "tensor_2 = torch.tensor(lst_2)\n",
    "\n",
    "tensor_3 = tensor_1 + tensor_2\n",
    "\n",
    "tensor_4 = tensor_1 - tensor_2\n",
    "\n",
    "print('Tensor 1: \\n', tensor_1)\n",
    "print(\"Tensor 2: \\n\", tensor_2)\n",
    "print('Tổng 2 tensor: \\n', tensor_3)\n",
    "print('Hiệu 2 tensor:\\n', tensor_4)"
   ]
  },
  {
   "cell_type": "code",
   "execution_count": 68,
   "metadata": {},
   "outputs": [
    {
     "name": "stdout",
     "output_type": "stream",
     "text": [
      "Tensor 1: \n",
      " tf.Tensor(\n",
      "[[ 1 -2  1]\n",
      " [-3  1  0]\n",
      " [-2  5  1]], shape=(3, 3), dtype=int32)\n",
      "Tensor 2: \n",
      " tf.Tensor(\n",
      "[[1 3 5]\n",
      " [2 4 6]\n",
      " [3 5 7]], shape=(3, 3), dtype=int32)\n",
      "Tổng 2 tensor: \n",
      " tf.Tensor(\n",
      "[[ 2  1  6]\n",
      " [-1  5  6]\n",
      " [ 1 10  8]], shape=(3, 3), dtype=int32)\n",
      "Hiệu 2 tensor:\n",
      " tf.Tensor(\n",
      "[[ 0 -5 -4]\n",
      " [-5 -3 -6]\n",
      " [-5  0 -6]], shape=(3, 3), dtype=int32)\n"
     ]
    }
   ],
   "source": [
    "#Code tensorflow\n",
    "tensor_1 = tf.constant(lst_1)\n",
    "tensor_2 = tf.convert_to_tensor(lst_2)\n",
    "\n",
    "tensor_3 = tensor_1 + tensor_2\n",
    "\n",
    "tensor_4 = tensor_1 - tensor_2\n",
    "\n",
    "print('Tensor 1: \\n', tensor_1)\n",
    "print(\"Tensor 2: \\n\", tensor_2)\n",
    "print('Tổng 2 tensor: \\n', tensor_3)\n",
    "print('Hiệu 2 tensor:\\n', tensor_4)"
   ]
  },
  {
   "cell_type": "markdown",
   "metadata": {},
   "source": [
    "<h3>Các Phép Tính Numpy, Pytorch và Tensorflow -\n",
    "Phần 2"
   ]
  },
  {
   "cell_type": "markdown",
   "metadata": {},
   "source": [
    "Cho hai list 2D như sau:"
   ]
  },
  {
   "cell_type": "code",
   "execution_count": 69,
   "metadata": {},
   "outputs": [],
   "source": [
    "lst_1 = [[1 , -2, 1],\n",
    "        [-3, 1, 4],\n",
    "        [-2, 5, 1]]\n",
    "\n",
    "lst_2 = [[1 , 3, 5],\n",
    "        [2, 4, 6],\n",
    "        [3, 5, 7]]"
   ]
  },
  {
   "cell_type": "markdown",
   "metadata": {},
   "source": [
    "Hãy tạo 2 array, tensor( Pytorch, Tensorflow) từ list 2D này sau đó thực hiện các phép tính multiplication\n",
    "và division giữa hai array, tensor vừa tạo."
   ]
  },
  {
   "cell_type": "code",
   "execution_count": 70,
   "metadata": {},
   "outputs": [
    {
     "name": "stdout",
     "output_type": "stream",
     "text": [
      "Mảng 1: \n",
      " [[ 1 -2  1]\n",
      " [-3  1  4]\n",
      " [-2  5  1]]\n",
      "Mảng 2: \n",
      " [[1 3 5]\n",
      " [2 4 6]\n",
      " [3 5 7]]\n",
      "Tích element-wise 2 mảng: \n",
      " [[ 1 -6  5]\n",
      " [-6  4 24]\n",
      " [-6 25  7]]\n",
      "Thương 2 mảng:\n",
      " [[ 1.         -0.66666667  0.2       ]\n",
      " [-1.5         0.25        0.66666667]\n",
      " [-0.66666667  1.          0.14285714]]\n"
     ]
    }
   ],
   "source": [
    "#code Numpy\n",
    "arr_1 = np.array(lst_1)\n",
    "arr_2 = np.array(lst_2)\n",
    "\n",
    "arr_3 = arr_1 * arr_2\n",
    "\n",
    "arr_4 = arr_1 / arr_2\n",
    "\n",
    "print('Mảng 1: \\n', arr_1)\n",
    "print(\"Mảng 2: \\n\", arr_2)\n",
    "print('Tích element-wise 2 mảng: \\n', arr_3)\n",
    "print('Thương 2 mảng:\\n', arr_4)"
   ]
  },
  {
   "cell_type": "code",
   "execution_count": 71,
   "metadata": {},
   "outputs": [
    {
     "name": "stdout",
     "output_type": "stream",
     "text": [
      "Tensor 1: \n",
      " tensor([[ 1, -2,  1],\n",
      "        [-3,  1,  4],\n",
      "        [-2,  5,  1]])\n",
      "Tensor 2: \n",
      " tensor([[1, 3, 5],\n",
      "        [2, 4, 6],\n",
      "        [3, 5, 7]])\n",
      "Tích element-wise tensor: \n",
      " tensor([[ 1, -6,  5],\n",
      "        [-6,  4, 24],\n",
      "        [-6, 25,  7]])\n",
      "Thươnng 2 tensor:\n",
      " tensor([[ 1.0000, -0.6667,  0.2000],\n",
      "        [-1.5000,  0.2500,  0.6667],\n",
      "        [-0.6667,  1.0000,  0.1429]])\n"
     ]
    }
   ],
   "source": [
    "#Code Pytorch\n",
    "tensor_1 = torch.tensor(lst_1)\n",
    "tensor_2 = torch.tensor(lst_2)\n",
    "\n",
    "tensor_3 = tensor_1 * tensor_2\n",
    "\n",
    "tensor_4 = tensor_1 / tensor_2\n",
    "\n",
    "print('Tensor 1: \\n', tensor_1)\n",
    "print(\"Tensor 2: \\n\", tensor_2)\n",
    "print('Tích element-wise tensor: \\n', tensor_3)\n",
    "print('Thươnng 2 tensor:\\n', tensor_4)"
   ]
  },
  {
   "cell_type": "code",
   "execution_count": 72,
   "metadata": {},
   "outputs": [
    {
     "name": "stdout",
     "output_type": "stream",
     "text": [
      "Tensor 1: \n",
      " tf.Tensor(\n",
      "[[ 1 -2  1]\n",
      " [-3  1  4]\n",
      " [-2  5  1]], shape=(3, 3), dtype=int32)\n",
      "Tensor 2: \n",
      " tf.Tensor(\n",
      "[[1 3 5]\n",
      " [2 4 6]\n",
      " [3 5 7]], shape=(3, 3), dtype=int32)\n",
      "Tích element-wise 2 tensor: \n",
      " tf.Tensor(\n",
      "[[ 1 -6  5]\n",
      " [-6  4 24]\n",
      " [-6 25  7]], shape=(3, 3), dtype=int32)\n",
      "Thươnng 2 tensor:\n",
      " tf.Tensor(\n",
      "[[ 1.         -0.66666667  0.2       ]\n",
      " [-1.5         0.25        0.66666667]\n",
      " [-0.66666667  1.          0.14285714]], shape=(3, 3), dtype=float64)\n"
     ]
    }
   ],
   "source": [
    "#Code tensorflow\n",
    "tensor_1 = tf.constant(lst_1)\n",
    "tensor_2 = tf.convert_to_tensor(lst_2)\n",
    "\n",
    "tensor_3 = tensor_1 * tensor_2\n",
    "\n",
    "tensor_4 = tensor_1 / tensor_2\n",
    "\n",
    "print('Tensor 1: \\n', tensor_1)\n",
    "print(\"Tensor 2: \\n\", tensor_2)\n",
    "print('Tích element-wise 2 tensor: \\n', tensor_3)\n",
    "print('Thươnng 2 tensor:\\n', tensor_4)"
   ]
  },
  {
   "cell_type": "markdown",
   "metadata": {},
   "source": [
    "<h3>Các Phép Tính Numpy, Pytorch và Tensorflow -\n",
    "Phần 3"
   ]
  },
  {
   "cell_type": "markdown",
   "metadata": {},
   "source": [
    "Câu 1: Cho hai vector a = [1, 4, 7], b = [9, 2, 3] Tính tích vô hướng của hai vector này bằng ba thư\n",
    "viện Numpy, Pytorch vầ Tensorfow"
   ]
  },
  {
   "cell_type": "code",
   "execution_count": 73,
   "metadata": {},
   "outputs": [
    {
     "name": "stdout",
     "output_type": "stream",
     "text": [
      "vector a: \n",
      " [1 4 7]\n",
      "vector b: \n",
      " [9 2 3]\n",
      "Tích vô hướng 2 vector: \n",
      " 38\n"
     ]
    }
   ],
   "source": [
    "#Code numpy\n",
    "a = np.array([1, 4, 7])\n",
    "b = np.array([9, 2, 3])\n",
    "\n",
    "c = np.dot(a, b)\n",
    "\n",
    "print('vector a: \\n', a)\n",
    "print(\"vector b: \\n\", b)\n",
    "print('Tích vô hướng 2 vector: \\n', c)\n"
   ]
  },
  {
   "cell_type": "code",
   "execution_count": 74,
   "metadata": {},
   "outputs": [
    {
     "name": "stdout",
     "output_type": "stream",
     "text": [
      "vector a: \n",
      " tensor([1, 4, 7])\n",
      "vector b: \n",
      " tensor([9, 2, 3])\n",
      "Tích vô hướng 2 vector: \n",
      " tensor(38)\n"
     ]
    }
   ],
   "source": [
    "#Code pytorch\n",
    "a = torch.tensor([1, 4, 7])\n",
    "b = torch.tensor([9, 2, 3])\n",
    "\n",
    "c = torch.dot(a, b)\n",
    "\n",
    "print('vector a: \\n', a)\n",
    "print(\"vector b: \\n\", b)\n",
    "print('Tích vô hướng 2 vector: \\n', c)"
   ]
  },
  {
   "cell_type": "code",
   "execution_count": 79,
   "metadata": {},
   "outputs": [
    {
     "name": "stdout",
     "output_type": "stream",
     "text": [
      "vector a: \n",
      " tf.Tensor([1 4 7], shape=(3,), dtype=int32)\n",
      "vector b: \n",
      " tf.Tensor([9 2 3], shape=(3,), dtype=int32)\n",
      "Tích vô hướng 2 vector: \n",
      " tf.Tensor(38, shape=(), dtype=int32)\n"
     ]
    }
   ],
   "source": [
    "#Code tensorflow\n",
    "a = tf.constant([1, 4, 7])\n",
    "b = tf.convert_to_tensor([9, 2, 3])\n",
    "\n",
    "c = tf.tensordot(a, b, axes=1) #axes=0 lấy từng element a nhân với vector b shape kq=3x3\n",
    "\n",
    "print('vector a: \\n', a)\n",
    "print(\"vector b: \\n\", b)\n",
    "print('Tích vô hướng 2 vector: \\n', c)"
   ]
  },
  {
   "cell_type": "markdown",
   "metadata": {},
   "source": [
    "Câu 2: Viết chương trình tạo hai Numpy array, Pytorch tensor, Tensorflow tensor với các giá trị số\n",
    "nguyên ngẫu nhiên trong khoảng [-10, 10) với kích thước (3, 3). Hãy tính matrix multiplication hai ma\n",
    "trận này bằng ba thư viện Numpy, Pytorch và Tensorflow. Lưu ý: sử dụng seed=2024"
   ]
  },
  {
   "cell_type": "code",
   "execution_count": 84,
   "metadata": {},
   "outputs": [
    {
     "name": "stdout",
     "output_type": "stream",
     "text": [
      "matrix 1: \n",
      " [[ -2 -10 -10]\n",
      " [ -6  -1  -9]\n",
      " [ -7   0  -8]]\n",
      "matrix 2: \n",
      " [[-10  -5   7]\n",
      " [  5   0   4]\n",
      " [  5   1  -3]]\n",
      "Matrix multiplication : \n",
      " [[-80   0 -24]\n",
      " [ 10  21 -19]\n",
      " [ 30  27 -25]]\n"
     ]
    }
   ],
   "source": [
    "#Code Numpy\n",
    "np.random.seed(2024)\n",
    "arr_rand_1 = np.random.randint(-10, 10, (3,3))\n",
    "arr_rand_2 = np.random.randint(-10, 10, (3,3))\n",
    "\n",
    "arr = np.matmul(arr_rand_1, arr_rand_2)\n",
    "\n",
    "print('matrix 1: \\n', arr_rand_1)\n",
    "print(\"matrix 2: \\n\", arr_rand_2)\n",
    "print('Matrix multiplication : \\n', arr)"
   ]
  },
  {
   "cell_type": "code",
   "execution_count": 86,
   "metadata": {},
   "outputs": [
    {
     "name": "stdout",
     "output_type": "stream",
     "text": [
      "matrix 1: \n",
      " tensor([[  2,   0,  -6],\n",
      "        [-10,  -7, -10],\n",
      "        [  0,   1,   3]])\n",
      "matrix 2: \n",
      " tensor([[  9,   7,  -6],\n",
      "        [  1,   8,   0],\n",
      "        [ -2,  -9, -10]])\n",
      "Matrix multiplication: \n",
      " tensor([[ 30,  68,  48],\n",
      "        [-77, -36, 160],\n",
      "        [ -5, -19, -30]])\n"
     ]
    }
   ],
   "source": [
    "#Code pytorch\n",
    "torch.manual_seed(2024)\n",
    "tensor_rand_1 = torch.randint(-10, 10, (3,3))\n",
    "tensor_rand_2 = torch.randint(-10, 10, (3,3))\n",
    "\n",
    "tensor = torch.matmul(tensor_rand_1, tensor_rand_2)\n",
    "\n",
    "print('matrix 1: \\n', tensor_rand_1)\n",
    "print(\"matrix 2: \\n\", tensor_rand_2)\n",
    "print('Matrix multiplication: \\n', tensor)"
   ]
  },
  {
   "cell_type": "code",
   "execution_count": 89,
   "metadata": {},
   "outputs": [
    {
     "name": "stdout",
     "output_type": "stream",
     "text": [
      "matrix 1: \n",
      " tf.Tensor(\n",
      "[[-6 -2  0]\n",
      " [-2  4  4]\n",
      " [-9  3  7]], shape=(3, 3), dtype=int32)\n",
      "matrix 2: \n",
      " tf.Tensor(\n",
      "[[-3 -7  9]\n",
      " [ 3  2 -5]\n",
      " [-3 -5  4]], shape=(3, 3), dtype=int32)\n",
      "Matrix multiplication: \n",
      " tf.Tensor(\n",
      "[[ 12  38 -44]\n",
      " [  6   2 -22]\n",
      " [ 15  34 -68]], shape=(3, 3), dtype=int32)\n"
     ]
    }
   ],
   "source": [
    "#Code tensorflow\n",
    "tf.random.set_seed(2024)\n",
    "tensor_rand_1 = tf.random.uniform((3,3), minval=-10, maxval=10, dtype=tf.int32)\n",
    "tensor_rand_2 = tf.random.uniform((3,3), minval=-10, maxval=10, dtype=tf.int32)\n",
    "\n",
    "tensor = tf.matmul(tensor_rand_1, tensor_rand_2)\n",
    "\n",
    "print('matrix 1: \\n', tensor_rand_1)\n",
    "print(\"matrix 2: \\n\", tensor_rand_2)\n",
    "print('Matrix multiplication: \\n', tensor)"
   ]
  },
  {
   "cell_type": "markdown",
   "metadata": {},
   "source": [
    "<h3>Các Phép Tính Numpy, Pytorch và Tensorflow\n",
    "Transpose và Summation"
   ]
  },
  {
   "cell_type": "markdown",
   "metadata": {},
   "source": [
    "Câu 1: Viết chương trình tạo hai Numpy array, Pytorch tensor, Tensorflow tensor với các giá trị số\n",
    "nguyên ngẫu nhiên trong khoảng [-10, 10) với kích thước (3, 4). Sau đó chuyển vị array, tensor thứ 2\n",
    "và thực hiện phép nhân matrix multiplication. Lưu ý: sử dụng seed=2024"
   ]
  },
  {
   "cell_type": "code",
   "execution_count": 91,
   "metadata": {},
   "outputs": [
    {
     "name": "stdout",
     "output_type": "stream",
     "text": [
      "matrix : \n",
      " [[ -2 -10 -10  -6]\n",
      " [ -1  -9  -7   0]\n",
      " [ -8 -10  -5   7]]\n",
      "matrix transpose: \n",
      " [[ -2  -1  -8]\n",
      " [-10  -9 -10]\n",
      " [-10  -7  -5]\n",
      " [ -6   0   7]]\n",
      "Matrix multiplication : \n",
      " [[240 162 124]\n",
      " [162 131 133]\n",
      " [124 133 238]]\n"
     ]
    }
   ],
   "source": [
    "#Code Numpy\n",
    "np.random.seed(2024)\n",
    "arr_rand = np.random.randint(-10, 10, (3,4))\n",
    "arr_transpose = np.transpose(arr_rand)\n",
    "\n",
    "arr = np.matmul(arr_rand, arr_transpose)\n",
    "\n",
    "print('matrix : \\n', arr_rand)\n",
    "print(\"matrix transpose: \\n\", arr_transpose)\n",
    "print('Matrix multiplication : \\n', arr)"
   ]
  },
  {
   "cell_type": "code",
   "execution_count": 94,
   "metadata": {},
   "outputs": [
    {
     "name": "stdout",
     "output_type": "stream",
     "text": [
      "matrix 1: \n",
      " tensor([[  2,   0,  -6, -10],\n",
      "        [ -7, -10,   0,   1],\n",
      "        [  3,   9,   7,  -6]])\n",
      "matrix 2: \n",
      " tensor([[  2,  -7,   3],\n",
      "        [  0, -10,   9],\n",
      "        [ -6,   0,   7],\n",
      "        [-10,   1,  -6]])\n",
      "Matrix multiplication: \n",
      " tensor([[ 140,  -24,   24],\n",
      "        [ -24,  150, -117],\n",
      "        [  24, -117,  175]])\n"
     ]
    }
   ],
   "source": [
    "#Code pytorch\n",
    "torch.manual_seed(2024)\n",
    "tensor_rand = torch.randint(-10, 10, (3,4))\n",
    "tensor_transpose = torch.t(tensor_rand)\n",
    "# tensor_transpose = torch.transpose(tensor_rand, 0, 1)\n",
    "\n",
    "tensor = torch.matmul(tensor_rand, tensor_transpose)\n",
    "\n",
    "print('matrix : \\n', tensor_rand)\n",
    "print(\"matrix transpose: \\n\", tensor_transpose)\n",
    "print('Matrix multiplication: \\n', tensor)"
   ]
  },
  {
   "cell_type": "code",
   "execution_count": 95,
   "metadata": {},
   "outputs": [
    {
     "name": "stdout",
     "output_type": "stream",
     "text": [
      "matrix : \n",
      " tf.Tensor(\n",
      "[[-6 -2  0 -2]\n",
      " [ 4  4 -9  3]\n",
      " [ 7  1  2 -5]], shape=(3, 4), dtype=int32)\n",
      "matrix transpose: \n",
      " tf.Tensor(\n",
      "[[-6  4  7]\n",
      " [-2  4  1]\n",
      " [ 0 -9  2]\n",
      " [-2  3 -5]], shape=(4, 3), dtype=int32)\n",
      "Matrix multiplication: \n",
      " tf.Tensor(\n",
      "[[ 44 -38 -34]\n",
      " [-38 122  -1]\n",
      " [-34  -1  79]], shape=(3, 3), dtype=int32)\n"
     ]
    }
   ],
   "source": [
    "#Code tensorflow\n",
    "tf.random.set_seed(2024)\n",
    "tensor_rand = tf.random.uniform((3,4), minval=-10, maxval=10, dtype=tf.int32)\n",
    "tensor_transpose = tf.transpose(tensor_rand)\n",
    "\n",
    "tensor = tf.matmul(tensor_rand, tensor_transpose)\n",
    "\n",
    "print('matrix : \\n', tensor_rand)\n",
    "print(\"matrix transpose: \\n\", tensor_transpose)\n",
    "print('Matrix multiplication: \\n', tensor)"
   ]
  },
  {
   "cell_type": "markdown",
   "metadata": {},
   "source": [
    "Câu 2: Viết chương trình tạo một Numpy array, Pytorch tensor, Tensorflow tensor với các giá trị số\n",
    "nguyên ngẫu nhiên trong khoảng [-10, 10) với kích thước (3, 3). Sau đó hãy tính tổng của toàn bộ\n",
    "tensor, array, tiếp theo tính tổng theo chiều dọc, chiều ngang . Lưu ý: sử dụng seed=2024"
   ]
  },
  {
   "cell_type": "code",
   "execution_count": 96,
   "metadata": {},
   "outputs": [
    {
     "name": "stdout",
     "output_type": "stream",
     "text": [
      "matrix : \n",
      " [[ -2 -10 -10]\n",
      " [ -6  -1  -9]\n",
      " [ -7   0  -8]]\n",
      "Tổng toàn bộ: \n",
      " -53\n",
      "Tổng theo chiều dọc : \n",
      " [-15 -11 -27]\n",
      "Tổng theo chiều ngang : \n",
      " [-22 -16 -15]\n"
     ]
    }
   ],
   "source": [
    "#Code Numpy\n",
    "np.random.seed(2024)\n",
    "arr_rand = np.random.randint(-10, 10, (3,3))\n",
    "\n",
    "print('matrix : \\n', arr_rand)\n",
    "print(\"Tổng toàn bộ: \\n\", np.sum(arr_rand))\n",
    "print('Tổng theo chiều dọc : \\n', np.sum(arr_rand, axis=0))\n",
    "print('Tổng theo chiều ngang : \\n', np.sum(arr_rand, axis=1))"
   ]
  },
  {
   "cell_type": "code",
   "execution_count": 97,
   "metadata": {},
   "outputs": [
    {
     "name": "stdout",
     "output_type": "stream",
     "text": [
      "matrix : \n",
      " tensor([[  2,   0,  -6],\n",
      "        [-10,  -7, -10],\n",
      "        [  0,   1,   3]])\n",
      "Tổng toàn bộ: \n",
      " tensor(-27)\n",
      "Tổng theo chiều dọc : \n",
      " tensor([ -8,  -6, -13])\n",
      "Tổng theo chiều ngang : \n",
      " tensor([ -4, -27,   4])\n"
     ]
    }
   ],
   "source": [
    "#Code pytorch\n",
    "torch.manual_seed(2024)\n",
    "tensor_rand = torch.randint(-10, 10, (3,3))\n",
    "\n",
    "print('matrix : \\n', tensor_rand)\n",
    "print(\"Tổng toàn bộ: \\n\", torch.sum(tensor_rand))\n",
    "print('Tổng theo chiều dọc : \\n', torch.sum(tensor_rand, axis=0))\n",
    "print('Tổng theo chiều ngang : \\n', torch.sum(tensor_rand, axis=1))"
   ]
  },
  {
   "cell_type": "code",
   "execution_count": 99,
   "metadata": {},
   "outputs": [
    {
     "name": "stdout",
     "output_type": "stream",
     "text": [
      "matrix : \n",
      " tf.Tensor(\n",
      "[[-6 -2  0]\n",
      " [-2  4  4]\n",
      " [-9  3  7]], shape=(3, 3), dtype=int32)\n",
      "Tổng toàn bộ: \n",
      " tf.Tensor(-1, shape=(), dtype=int32)\n",
      "Tổng theo chiều dọc : \n",
      " tf.Tensor([-17   5  11], shape=(3,), dtype=int32)\n",
      "Tổng theo chiều ngang : \n",
      " tf.Tensor([-8  6  1], shape=(3,), dtype=int32)\n"
     ]
    }
   ],
   "source": [
    "#Code tensorfow\n",
    "tf.random.set_seed(2024)\n",
    "tensor_rand = tf.random.uniform((3,3), minval=-10, maxval=10, dtype=tf.int32)\n",
    "\n",
    "print('matrix : \\n', tensor_rand)\n",
    "print(\"Tổng toàn bộ: \\n\", tf.reduce_sum(tensor_rand))\n",
    "print('Tổng theo chiều dọc : \\n', tf.reduce_sum(tensor_rand, axis=0))\n",
    "print('Tổng theo chiều ngang : \\n', tf.reduce_sum(tensor_rand, axis=1))"
   ]
  },
  {
   "cell_type": "code",
   "execution_count": null,
   "metadata": {},
   "outputs": [],
   "source": []
  }
 ],
 "metadata": {
  "kernelspec": {
   "display_name": "base",
   "language": "python",
   "name": "python3"
  },
  "language_info": {
   "codemirror_mode": {
    "name": "ipython",
    "version": 3
   },
   "file_extension": ".py",
   "mimetype": "text/x-python",
   "name": "python",
   "nbconvert_exporter": "python",
   "pygments_lexer": "ipython3",
   "version": "3.9.12"
  }
 },
 "nbformat": 4,
 "nbformat_minor": 2
}
