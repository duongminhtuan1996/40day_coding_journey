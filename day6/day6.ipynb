{
 "cells": [
  {
   "cell_type": "markdown",
   "metadata": {},
   "source": [
    "Switch case: thay thế thế nào trong python<br>\n",
    "- Method 1: If, elif, else<br>\n",
    "- Method 2: Dictionary\n",
    "- Method 3: Match case dung voi python 3.10"
   ]
  },
  {
   "cell_type": "markdown",
   "metadata": {},
   "source": [
    "Method 1: If, elif, else"
   ]
  },
  {
   "cell_type": "code",
   "execution_count": 1,
   "metadata": {},
   "outputs": [
    {
     "name": "stdout",
     "output_type": "stream",
     "text": [
      "wake up\n"
     ]
    }
   ],
   "source": [
    "time = input('Input time:')\n",
    "if time == '5 AM':\n",
    "    print('wake up')\n",
    "elif time == '6 AM':\n",
    "    print('Yogo')\n",
    "elif time == '7 AM':\n",
    "    print('Work')\n",
    "else:\n",
    "    print('Do something else')\n"
   ]
  },
  {
   "cell_type": "markdown",
   "metadata": {},
   "source": [
    "Method 2: Dictionary"
   ]
  },
  {
   "cell_type": "code",
   "execution_count": 2,
   "metadata": {},
   "outputs": [
    {
     "data": {
      "text/plain": [
       "'Yoga'"
      ]
     },
     "execution_count": 2,
     "metadata": {},
     "output_type": "execute_result"
    }
   ],
   "source": [
    "todo = {\n",
    "    '5 AM': 'Wake up',\n",
    "    '6 AM': 'Yoga',\n",
    "    '7 AM': 'Work'\n",
    "}\n",
    "time = input('Inpute time')\n",
    "\n",
    "todo.get(time, 'Do something else')"
   ]
  },
  {
   "cell_type": "markdown",
   "metadata": {},
   "source": [
    "Method 3: Match case dung voi python 3.10"
   ]
  },
  {
   "cell_type": "code",
   "execution_count": null,
   "metadata": {},
   "outputs": [],
   "source": [
    "time = input('Input time:')\n",
    "match time:\n",
    "    case '5 AM':\n",
    "        print('Wake up')\n",
    "    case '6 AM':\n",
    "        print('Yoga')\n",
    "    case '7 AM':\n",
    "        print('Work')\n",
    "    case _:\n",
    "        print('Do something else')    "
   ]
  },
  {
   "cell_type": "code",
   "execution_count": null,
   "metadata": {},
   "outputs": [],
   "source": []
  }
 ],
 "metadata": {
  "kernelspec": {
   "display_name": "base",
   "language": "python",
   "name": "python3"
  },
  "language_info": {
   "codemirror_mode": {
    "name": "ipython",
    "version": 3
   },
   "file_extension": ".py",
   "mimetype": "text/x-python",
   "name": "python",
   "nbconvert_exporter": "python",
   "pygments_lexer": "ipython3",
   "version": "3.9.12"
  }
 },
 "nbformat": 4,
 "nbformat_minor": 2
}
