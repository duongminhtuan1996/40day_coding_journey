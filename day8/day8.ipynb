{
 "cells": [
  {
   "cell_type": "markdown",
   "metadata": {},
   "source": [
    "Enumerate(iterable, start=0)"
   ]
  },
  {
   "cell_type": "markdown",
   "metadata": {},
   "source": [
    "Method 1:"
   ]
  },
  {
   "cell_type": "code",
   "execution_count": 1,
   "metadata": {},
   "outputs": [
    {
     "name": "stdout",
     "output_type": "stream",
     "text": [
      "1.Cà rốt\n",
      "2.Táo\n",
      "3.Sữa\n"
     ]
    }
   ],
   "source": [
    "shopping_list = ['Cà rốt', 'Táo', 'Sữa']\n",
    "\n",
    "for i in range(len(shopping_list)):\n",
    "    print(f'{i+1}.{shopping_list[i]}')"
   ]
  },
  {
   "cell_type": "markdown",
   "metadata": {},
   "source": [
    "Method 2:"
   ]
  },
  {
   "cell_type": "code",
   "execution_count": 3,
   "metadata": {},
   "outputs": [
    {
     "name": "stdout",
     "output_type": "stream",
     "text": [
      "1.Cà rốt\n",
      "2.Táo\n",
      "3.Sữa\n"
     ]
    }
   ],
   "source": [
    "for i, item in enumerate(shopping_list,start=1):\n",
    "    print(f'{i}.{item}')"
   ]
  },
  {
   "cell_type": "code",
   "execution_count": 4,
   "metadata": {},
   "outputs": [],
   "source": [
    "food_list = [\n",
    "    ['Bơ', 'Pizza', 'Sữa'],\n",
    "    ['Xúc xích', 'Táo', 'Kem'],\n",
    "    ['Cà rốt', 'Bánh đậu', 'Cupcake']\n",
    "]"
   ]
  },
  {
   "cell_type": "markdown",
   "metadata": {},
   "source": [
    "Method1"
   ]
  },
  {
   "cell_type": "code",
   "execution_count": 6,
   "metadata": {},
   "outputs": [
    {
     "name": "stdout",
     "output_type": "stream",
     "text": [
      "1.3 item Sữa\n",
      "2.2 item Táo\n",
      "3.1 item Cà rốt\n"
     ]
    }
   ],
   "source": [
    "search_list = ['Cà rốt', 'Táo', 'Sữa']\n",
    "\n",
    "for i in range(len(food_list)):\n",
    "    for j in range(len(food_list[i])):\n",
    "        if food_list[i][j] in search_list:\n",
    "            print(f'{i+1}.{j+1} item {food_list[i][j]}')"
   ]
  },
  {
   "cell_type": "markdown",
   "metadata": {},
   "source": [
    "Method 2:"
   ]
  },
  {
   "cell_type": "code",
   "execution_count": 7,
   "metadata": {},
   "outputs": [
    {
     "name": "stdout",
     "output_type": "stream",
     "text": [
      "1, 3 item is Sữa\n",
      "2, 2 item is Táo\n",
      "3, 1 item is Cà rốt\n"
     ]
    }
   ],
   "source": [
    "for i, row in enumerate(food_list, start=1):\n",
    "    for j, item in enumerate(row, start=1):\n",
    "        if item in search_list:\n",
    "            print(f'{i}, {j} item is {item}')"
   ]
  },
  {
   "cell_type": "code",
   "execution_count": null,
   "metadata": {},
   "outputs": [],
   "source": []
  }
 ],
 "metadata": {
  "kernelspec": {
   "display_name": "base",
   "language": "python",
   "name": "python3"
  },
  "language_info": {
   "codemirror_mode": {
    "name": "ipython",
    "version": 3
   },
   "file_extension": ".py",
   "mimetype": "text/x-python",
   "name": "python",
   "nbconvert_exporter": "python",
   "pygments_lexer": "ipython3",
   "version": "3.9.12"
  }
 },
 "nbformat": 4,
 "nbformat_minor": 2
}
